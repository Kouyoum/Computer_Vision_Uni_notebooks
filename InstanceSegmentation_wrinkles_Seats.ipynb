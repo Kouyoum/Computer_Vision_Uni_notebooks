{
  "nbformat": 4,
  "nbformat_minor": 0,
  "metadata": {
    "colab": {
      "name": "InstanceSegmentation_wrinkles_2.ipynb",
      "provenance": [],
      "collapsed_sections": [
        "diquE8Y6Gp3u",
        "TxIM005rmQjD",
        "x61U8c7G482f",
        "X5rRn6Do5BmZ",
        "p2vPjQXZ5Fem",
        "KLGojE6V5PrE",
        "ieiX2Mhp6Y-Q",
        "tuEeFCJc6zBU",
        "LYUZAP-qDSz2",
        "W223b4FcDY_M"
      ]
    },
    "kernelspec": {
      "name": "python3",
      "display_name": "Python 3"
    },
    "accelerator": "GPU",
    "widgets": {
      "application/vnd.jupyter.widget-state+json": {
        "1b33d30d6e4047e0ab9b3dd03379fc44": {
          "model_module": "@jupyter-widgets/controls",
          "model_name": "HBoxModel",
          "model_module_version": "1.5.0",
          "state": {
            "_view_name": "HBoxView",
            "_dom_classes": [],
            "_model_name": "HBoxModel",
            "_view_module": "@jupyter-widgets/controls",
            "_model_module_version": "1.5.0",
            "_view_count": null,
            "_view_module_version": "1.5.0",
            "box_style": "",
            "layout": "IPY_MODEL_7784286dcb1b426686a1e33616e59929",
            "_model_module": "@jupyter-widgets/controls",
            "children": [
              "IPY_MODEL_0cc382934eaf473e9bebaf9046cc06d2",
              "IPY_MODEL_2833240543bf4324b20c20b7dc27797d"
            ]
          }
        },
        "7784286dcb1b426686a1e33616e59929": {
          "model_module": "@jupyter-widgets/base",
          "model_name": "LayoutModel",
          "model_module_version": "1.2.0",
          "state": {
            "_view_name": "LayoutView",
            "grid_template_rows": null,
            "right": null,
            "justify_content": null,
            "_view_module": "@jupyter-widgets/base",
            "overflow": null,
            "_model_module_version": "1.2.0",
            "_view_count": null,
            "flex_flow": null,
            "width": null,
            "min_width": null,
            "border": null,
            "align_items": null,
            "bottom": null,
            "_model_module": "@jupyter-widgets/base",
            "top": null,
            "grid_column": null,
            "overflow_y": null,
            "overflow_x": null,
            "grid_auto_flow": null,
            "grid_area": null,
            "grid_template_columns": null,
            "flex": null,
            "_model_name": "LayoutModel",
            "justify_items": null,
            "grid_row": null,
            "max_height": null,
            "align_content": null,
            "visibility": null,
            "align_self": null,
            "height": null,
            "min_height": null,
            "padding": null,
            "grid_auto_rows": null,
            "grid_gap": null,
            "max_width": null,
            "order": null,
            "_view_module_version": "1.2.0",
            "grid_template_areas": null,
            "object_position": null,
            "object_fit": null,
            "grid_auto_columns": null,
            "margin": null,
            "display": null,
            "left": null
          }
        },
        "0cc382934eaf473e9bebaf9046cc06d2": {
          "model_module": "@jupyter-widgets/controls",
          "model_name": "FloatProgressModel",
          "model_module_version": "1.5.0",
          "state": {
            "_view_name": "ProgressView",
            "style": "IPY_MODEL_ee15cdbfea0e4efb837bc323eb48a0ae",
            "_dom_classes": [],
            "description": "100%",
            "_model_name": "FloatProgressModel",
            "bar_style": "success",
            "max": 24,
            "_view_module": "@jupyter-widgets/controls",
            "_model_module_version": "1.5.0",
            "value": 24,
            "_view_count": null,
            "_view_module_version": "1.5.0",
            "orientation": "horizontal",
            "min": 0,
            "description_tooltip": null,
            "_model_module": "@jupyter-widgets/controls",
            "layout": "IPY_MODEL_90797a01697e49e3b9479f91cff9b36a"
          }
        },
        "2833240543bf4324b20c20b7dc27797d": {
          "model_module": "@jupyter-widgets/controls",
          "model_name": "HTMLModel",
          "model_module_version": "1.5.0",
          "state": {
            "_view_name": "HTMLView",
            "style": "IPY_MODEL_f09b17329690482f8736b0f2276f223f",
            "_dom_classes": [],
            "description": "",
            "_model_name": "HTMLModel",
            "placeholder": "​",
            "_view_module": "@jupyter-widgets/controls",
            "_model_module_version": "1.5.0",
            "value": " 24/24 [02:59&lt;00:00,  7.46s/it]",
            "_view_count": null,
            "_view_module_version": "1.5.0",
            "description_tooltip": null,
            "_model_module": "@jupyter-widgets/controls",
            "layout": "IPY_MODEL_09c34f16909742aaa47b33f77c2dddcd"
          }
        },
        "ee15cdbfea0e4efb837bc323eb48a0ae": {
          "model_module": "@jupyter-widgets/controls",
          "model_name": "ProgressStyleModel",
          "model_module_version": "1.5.0",
          "state": {
            "_view_name": "StyleView",
            "_model_name": "ProgressStyleModel",
            "description_width": "initial",
            "_view_module": "@jupyter-widgets/base",
            "_model_module_version": "1.5.0",
            "_view_count": null,
            "_view_module_version": "1.2.0",
            "bar_color": null,
            "_model_module": "@jupyter-widgets/controls"
          }
        },
        "90797a01697e49e3b9479f91cff9b36a": {
          "model_module": "@jupyter-widgets/base",
          "model_name": "LayoutModel",
          "model_module_version": "1.2.0",
          "state": {
            "_view_name": "LayoutView",
            "grid_template_rows": null,
            "right": null,
            "justify_content": null,
            "_view_module": "@jupyter-widgets/base",
            "overflow": null,
            "_model_module_version": "1.2.0",
            "_view_count": null,
            "flex_flow": null,
            "width": null,
            "min_width": null,
            "border": null,
            "align_items": null,
            "bottom": null,
            "_model_module": "@jupyter-widgets/base",
            "top": null,
            "grid_column": null,
            "overflow_y": null,
            "overflow_x": null,
            "grid_auto_flow": null,
            "grid_area": null,
            "grid_template_columns": null,
            "flex": null,
            "_model_name": "LayoutModel",
            "justify_items": null,
            "grid_row": null,
            "max_height": null,
            "align_content": null,
            "visibility": null,
            "align_self": null,
            "height": null,
            "min_height": null,
            "padding": null,
            "grid_auto_rows": null,
            "grid_gap": null,
            "max_width": null,
            "order": null,
            "_view_module_version": "1.2.0",
            "grid_template_areas": null,
            "object_position": null,
            "object_fit": null,
            "grid_auto_columns": null,
            "margin": null,
            "display": null,
            "left": null
          }
        },
        "f09b17329690482f8736b0f2276f223f": {
          "model_module": "@jupyter-widgets/controls",
          "model_name": "DescriptionStyleModel",
          "model_module_version": "1.5.0",
          "state": {
            "_view_name": "StyleView",
            "_model_name": "DescriptionStyleModel",
            "description_width": "",
            "_view_module": "@jupyter-widgets/base",
            "_model_module_version": "1.5.0",
            "_view_count": null,
            "_view_module_version": "1.2.0",
            "_model_module": "@jupyter-widgets/controls"
          }
        },
        "09c34f16909742aaa47b33f77c2dddcd": {
          "model_module": "@jupyter-widgets/base",
          "model_name": "LayoutModel",
          "model_module_version": "1.2.0",
          "state": {
            "_view_name": "LayoutView",
            "grid_template_rows": null,
            "right": null,
            "justify_content": null,
            "_view_module": "@jupyter-widgets/base",
            "overflow": null,
            "_model_module_version": "1.2.0",
            "_view_count": null,
            "flex_flow": null,
            "width": null,
            "min_width": null,
            "border": null,
            "align_items": null,
            "bottom": null,
            "_model_module": "@jupyter-widgets/base",
            "top": null,
            "grid_column": null,
            "overflow_y": null,
            "overflow_x": null,
            "grid_auto_flow": null,
            "grid_area": null,
            "grid_template_columns": null,
            "flex": null,
            "_model_name": "LayoutModel",
            "justify_items": null,
            "grid_row": null,
            "max_height": null,
            "align_content": null,
            "visibility": null,
            "align_self": null,
            "height": null,
            "min_height": null,
            "padding": null,
            "grid_auto_rows": null,
            "grid_gap": null,
            "max_width": null,
            "order": null,
            "_view_module_version": "1.2.0",
            "grid_template_areas": null,
            "object_position": null,
            "object_fit": null,
            "grid_auto_columns": null,
            "margin": null,
            "display": null,
            "left": null
          }
        },
        "e12adaa77c9b4298a2ae51cdb3753a36": {
          "model_module": "@jupyter-widgets/controls",
          "model_name": "HBoxModel",
          "model_module_version": "1.5.0",
          "state": {
            "_view_name": "HBoxView",
            "_dom_classes": [],
            "_model_name": "HBoxModel",
            "_view_module": "@jupyter-widgets/controls",
            "_model_module_version": "1.5.0",
            "_view_count": null,
            "_view_module_version": "1.5.0",
            "box_style": "",
            "layout": "IPY_MODEL_e2bfb9ee67804f53b4539e714354d41d",
            "_model_module": "@jupyter-widgets/controls",
            "children": [
              "IPY_MODEL_b3503a56b2d54a4f9554cbd07c545ec4",
              "IPY_MODEL_42de8210b868409b8f644eebb68df99c"
            ]
          }
        },
        "e2bfb9ee67804f53b4539e714354d41d": {
          "model_module": "@jupyter-widgets/base",
          "model_name": "LayoutModel",
          "model_module_version": "1.2.0",
          "state": {
            "_view_name": "LayoutView",
            "grid_template_rows": null,
            "right": null,
            "justify_content": null,
            "_view_module": "@jupyter-widgets/base",
            "overflow": null,
            "_model_module_version": "1.2.0",
            "_view_count": null,
            "flex_flow": null,
            "width": null,
            "min_width": null,
            "border": null,
            "align_items": null,
            "bottom": null,
            "_model_module": "@jupyter-widgets/base",
            "top": null,
            "grid_column": null,
            "overflow_y": null,
            "overflow_x": null,
            "grid_auto_flow": null,
            "grid_area": null,
            "grid_template_columns": null,
            "flex": null,
            "_model_name": "LayoutModel",
            "justify_items": null,
            "grid_row": null,
            "max_height": null,
            "align_content": null,
            "visibility": null,
            "align_self": null,
            "height": null,
            "min_height": null,
            "padding": null,
            "grid_auto_rows": null,
            "grid_gap": null,
            "max_width": null,
            "order": null,
            "_view_module_version": "1.2.0",
            "grid_template_areas": null,
            "object_position": null,
            "object_fit": null,
            "grid_auto_columns": null,
            "margin": null,
            "display": null,
            "left": null
          }
        },
        "b3503a56b2d54a4f9554cbd07c545ec4": {
          "model_module": "@jupyter-widgets/controls",
          "model_name": "FloatProgressModel",
          "model_module_version": "1.5.0",
          "state": {
            "_view_name": "ProgressView",
            "style": "IPY_MODEL_57ac7994bbd54fefb5a9fac0d4659a97",
            "_dom_classes": [],
            "description": "100%",
            "_model_name": "FloatProgressModel",
            "bar_style": "success",
            "max": 6,
            "_view_module": "@jupyter-widgets/controls",
            "_model_module_version": "1.5.0",
            "value": 6,
            "_view_count": null,
            "_view_module_version": "1.5.0",
            "orientation": "horizontal",
            "min": 0,
            "description_tooltip": null,
            "_model_module": "@jupyter-widgets/controls",
            "layout": "IPY_MODEL_e5d16ee6077d420b9eacbc9991e0b359"
          }
        },
        "42de8210b868409b8f644eebb68df99c": {
          "model_module": "@jupyter-widgets/controls",
          "model_name": "HTMLModel",
          "model_module_version": "1.5.0",
          "state": {
            "_view_name": "HTMLView",
            "style": "IPY_MODEL_ee8ca767a49f4048a46d55bc067a4521",
            "_dom_classes": [],
            "description": "",
            "_model_name": "HTMLModel",
            "placeholder": "​",
            "_view_module": "@jupyter-widgets/controls",
            "_model_module_version": "1.5.0",
            "value": " 6/6 [00:23&lt;00:00,  3.88s/it]",
            "_view_count": null,
            "_view_module_version": "1.5.0",
            "description_tooltip": null,
            "_model_module": "@jupyter-widgets/controls",
            "layout": "IPY_MODEL_e0290ab73d5944fca848130f5c0f3b5d"
          }
        },
        "57ac7994bbd54fefb5a9fac0d4659a97": {
          "model_module": "@jupyter-widgets/controls",
          "model_name": "ProgressStyleModel",
          "model_module_version": "1.5.0",
          "state": {
            "_view_name": "StyleView",
            "_model_name": "ProgressStyleModel",
            "description_width": "initial",
            "_view_module": "@jupyter-widgets/base",
            "_model_module_version": "1.5.0",
            "_view_count": null,
            "_view_module_version": "1.2.0",
            "bar_color": null,
            "_model_module": "@jupyter-widgets/controls"
          }
        },
        "e5d16ee6077d420b9eacbc9991e0b359": {
          "model_module": "@jupyter-widgets/base",
          "model_name": "LayoutModel",
          "model_module_version": "1.2.0",
          "state": {
            "_view_name": "LayoutView",
            "grid_template_rows": null,
            "right": null,
            "justify_content": null,
            "_view_module": "@jupyter-widgets/base",
            "overflow": null,
            "_model_module_version": "1.2.0",
            "_view_count": null,
            "flex_flow": null,
            "width": null,
            "min_width": null,
            "border": null,
            "align_items": null,
            "bottom": null,
            "_model_module": "@jupyter-widgets/base",
            "top": null,
            "grid_column": null,
            "overflow_y": null,
            "overflow_x": null,
            "grid_auto_flow": null,
            "grid_area": null,
            "grid_template_columns": null,
            "flex": null,
            "_model_name": "LayoutModel",
            "justify_items": null,
            "grid_row": null,
            "max_height": null,
            "align_content": null,
            "visibility": null,
            "align_self": null,
            "height": null,
            "min_height": null,
            "padding": null,
            "grid_auto_rows": null,
            "grid_gap": null,
            "max_width": null,
            "order": null,
            "_view_module_version": "1.2.0",
            "grid_template_areas": null,
            "object_position": null,
            "object_fit": null,
            "grid_auto_columns": null,
            "margin": null,
            "display": null,
            "left": null
          }
        },
        "ee8ca767a49f4048a46d55bc067a4521": {
          "model_module": "@jupyter-widgets/controls",
          "model_name": "DescriptionStyleModel",
          "model_module_version": "1.5.0",
          "state": {
            "_view_name": "StyleView",
            "_model_name": "DescriptionStyleModel",
            "description_width": "",
            "_view_module": "@jupyter-widgets/base",
            "_model_module_version": "1.5.0",
            "_view_count": null,
            "_view_module_version": "1.2.0",
            "_model_module": "@jupyter-widgets/controls"
          }
        },
        "e0290ab73d5944fca848130f5c0f3b5d": {
          "model_module": "@jupyter-widgets/base",
          "model_name": "LayoutModel",
          "model_module_version": "1.2.0",
          "state": {
            "_view_name": "LayoutView",
            "grid_template_rows": null,
            "right": null,
            "justify_content": null,
            "_view_module": "@jupyter-widgets/base",
            "overflow": null,
            "_model_module_version": "1.2.0",
            "_view_count": null,
            "flex_flow": null,
            "width": null,
            "min_width": null,
            "border": null,
            "align_items": null,
            "bottom": null,
            "_model_module": "@jupyter-widgets/base",
            "top": null,
            "grid_column": null,
            "overflow_y": null,
            "overflow_x": null,
            "grid_auto_flow": null,
            "grid_area": null,
            "grid_template_columns": null,
            "flex": null,
            "_model_name": "LayoutModel",
            "justify_items": null,
            "grid_row": null,
            "max_height": null,
            "align_content": null,
            "visibility": null,
            "align_self": null,
            "height": null,
            "min_height": null,
            "padding": null,
            "grid_auto_rows": null,
            "grid_gap": null,
            "max_width": null,
            "order": null,
            "_view_module_version": "1.2.0",
            "grid_template_areas": null,
            "object_position": null,
            "object_fit": null,
            "grid_auto_columns": null,
            "margin": null,
            "display": null,
            "left": null
          }
        },
        "3ca28412e4684f88969daf5adf1d1233": {
          "model_module": "@jupyter-widgets/controls",
          "model_name": "HBoxModel",
          "model_module_version": "1.5.0",
          "state": {
            "_view_name": "HBoxView",
            "_dom_classes": [],
            "_model_name": "HBoxModel",
            "_view_module": "@jupyter-widgets/controls",
            "_model_module_version": "1.5.0",
            "_view_count": null,
            "_view_module_version": "1.5.0",
            "box_style": "",
            "layout": "IPY_MODEL_a1dbdfd8b8dc486eaf1b703d5a452135",
            "_model_module": "@jupyter-widgets/controls",
            "children": [
              "IPY_MODEL_fc5ec7c82ba847169c4ac9e0b8909bb0",
              "IPY_MODEL_77874aafdbe14a28843f437f501ac0fa"
            ]
          }
        },
        "a1dbdfd8b8dc486eaf1b703d5a452135": {
          "model_module": "@jupyter-widgets/base",
          "model_name": "LayoutModel",
          "model_module_version": "1.2.0",
          "state": {
            "_view_name": "LayoutView",
            "grid_template_rows": null,
            "right": null,
            "justify_content": null,
            "_view_module": "@jupyter-widgets/base",
            "overflow": null,
            "_model_module_version": "1.2.0",
            "_view_count": null,
            "flex_flow": null,
            "width": null,
            "min_width": null,
            "border": null,
            "align_items": null,
            "bottom": null,
            "_model_module": "@jupyter-widgets/base",
            "top": null,
            "grid_column": null,
            "overflow_y": null,
            "overflow_x": null,
            "grid_auto_flow": null,
            "grid_area": null,
            "grid_template_columns": null,
            "flex": null,
            "_model_name": "LayoutModel",
            "justify_items": null,
            "grid_row": null,
            "max_height": null,
            "align_content": null,
            "visibility": null,
            "align_self": null,
            "height": null,
            "min_height": null,
            "padding": null,
            "grid_auto_rows": null,
            "grid_gap": null,
            "max_width": null,
            "order": null,
            "_view_module_version": "1.2.0",
            "grid_template_areas": null,
            "object_position": null,
            "object_fit": null,
            "grid_auto_columns": null,
            "margin": null,
            "display": null,
            "left": null
          }
        },
        "fc5ec7c82ba847169c4ac9e0b8909bb0": {
          "model_module": "@jupyter-widgets/controls",
          "model_name": "FloatProgressModel",
          "model_module_version": "1.5.0",
          "state": {
            "_view_name": "ProgressView",
            "style": "IPY_MODEL_2370012ac5b84d38a7c2bc49c79f1ad3",
            "_dom_classes": [],
            "description": "100%",
            "_model_name": "FloatProgressModel",
            "bar_style": "success",
            "max": 24,
            "_view_module": "@jupyter-widgets/controls",
            "_model_module_version": "1.5.0",
            "value": 24,
            "_view_count": null,
            "_view_module_version": "1.5.0",
            "orientation": "horizontal",
            "min": 0,
            "description_tooltip": null,
            "_model_module": "@jupyter-widgets/controls",
            "layout": "IPY_MODEL_aa024d6e531941bd806222dd8b1fa382"
          }
        },
        "77874aafdbe14a28843f437f501ac0fa": {
          "model_module": "@jupyter-widgets/controls",
          "model_name": "HTMLModel",
          "model_module_version": "1.5.0",
          "state": {
            "_view_name": "HTMLView",
            "style": "IPY_MODEL_b31cec729c5545d2991eff445da8f18d",
            "_dom_classes": [],
            "description": "",
            "_model_name": "HTMLModel",
            "placeholder": "​",
            "_view_module": "@jupyter-widgets/controls",
            "_model_module_version": "1.5.0",
            "value": " 24/24 [00:17&lt;00:00,  1.39it/s]",
            "_view_count": null,
            "_view_module_version": "1.5.0",
            "description_tooltip": null,
            "_model_module": "@jupyter-widgets/controls",
            "layout": "IPY_MODEL_c979a153bf684204bef173b15529568d"
          }
        },
        "2370012ac5b84d38a7c2bc49c79f1ad3": {
          "model_module": "@jupyter-widgets/controls",
          "model_name": "ProgressStyleModel",
          "model_module_version": "1.5.0",
          "state": {
            "_view_name": "StyleView",
            "_model_name": "ProgressStyleModel",
            "description_width": "initial",
            "_view_module": "@jupyter-widgets/base",
            "_model_module_version": "1.5.0",
            "_view_count": null,
            "_view_module_version": "1.2.0",
            "bar_color": null,
            "_model_module": "@jupyter-widgets/controls"
          }
        },
        "aa024d6e531941bd806222dd8b1fa382": {
          "model_module": "@jupyter-widgets/base",
          "model_name": "LayoutModel",
          "model_module_version": "1.2.0",
          "state": {
            "_view_name": "LayoutView",
            "grid_template_rows": null,
            "right": null,
            "justify_content": null,
            "_view_module": "@jupyter-widgets/base",
            "overflow": null,
            "_model_module_version": "1.2.0",
            "_view_count": null,
            "flex_flow": null,
            "width": null,
            "min_width": null,
            "border": null,
            "align_items": null,
            "bottom": null,
            "_model_module": "@jupyter-widgets/base",
            "top": null,
            "grid_column": null,
            "overflow_y": null,
            "overflow_x": null,
            "grid_auto_flow": null,
            "grid_area": null,
            "grid_template_columns": null,
            "flex": null,
            "_model_name": "LayoutModel",
            "justify_items": null,
            "grid_row": null,
            "max_height": null,
            "align_content": null,
            "visibility": null,
            "align_self": null,
            "height": null,
            "min_height": null,
            "padding": null,
            "grid_auto_rows": null,
            "grid_gap": null,
            "max_width": null,
            "order": null,
            "_view_module_version": "1.2.0",
            "grid_template_areas": null,
            "object_position": null,
            "object_fit": null,
            "grid_auto_columns": null,
            "margin": null,
            "display": null,
            "left": null
          }
        },
        "b31cec729c5545d2991eff445da8f18d": {
          "model_module": "@jupyter-widgets/controls",
          "model_name": "DescriptionStyleModel",
          "model_module_version": "1.5.0",
          "state": {
            "_view_name": "StyleView",
            "_model_name": "DescriptionStyleModel",
            "description_width": "",
            "_view_module": "@jupyter-widgets/base",
            "_model_module_version": "1.5.0",
            "_view_count": null,
            "_view_module_version": "1.2.0",
            "_model_module": "@jupyter-widgets/controls"
          }
        },
        "c979a153bf684204bef173b15529568d": {
          "model_module": "@jupyter-widgets/base",
          "model_name": "LayoutModel",
          "model_module_version": "1.2.0",
          "state": {
            "_view_name": "LayoutView",
            "grid_template_rows": null,
            "right": null,
            "justify_content": null,
            "_view_module": "@jupyter-widgets/base",
            "overflow": null,
            "_model_module_version": "1.2.0",
            "_view_count": null,
            "flex_flow": null,
            "width": null,
            "min_width": null,
            "border": null,
            "align_items": null,
            "bottom": null,
            "_model_module": "@jupyter-widgets/base",
            "top": null,
            "grid_column": null,
            "overflow_y": null,
            "overflow_x": null,
            "grid_auto_flow": null,
            "grid_area": null,
            "grid_template_columns": null,
            "flex": null,
            "_model_name": "LayoutModel",
            "justify_items": null,
            "grid_row": null,
            "max_height": null,
            "align_content": null,
            "visibility": null,
            "align_self": null,
            "height": null,
            "min_height": null,
            "padding": null,
            "grid_auto_rows": null,
            "grid_gap": null,
            "max_width": null,
            "order": null,
            "_view_module_version": "1.2.0",
            "grid_template_areas": null,
            "object_position": null,
            "object_fit": null,
            "grid_auto_columns": null,
            "margin": null,
            "display": null,
            "left": null
          }
        },
        "9554cb8488db4ba4a800dbb6c262f397": {
          "model_module": "@jupyter-widgets/controls",
          "model_name": "HBoxModel",
          "model_module_version": "1.5.0",
          "state": {
            "_view_name": "HBoxView",
            "_dom_classes": [],
            "_model_name": "HBoxModel",
            "_view_module": "@jupyter-widgets/controls",
            "_model_module_version": "1.5.0",
            "_view_count": null,
            "_view_module_version": "1.5.0",
            "box_style": "",
            "layout": "IPY_MODEL_8a6ae6eea3514c90a6b3cbb7bcf50e6b",
            "_model_module": "@jupyter-widgets/controls",
            "children": [
              "IPY_MODEL_d032498d56a44ba1b59794ae9ae0461c",
              "IPY_MODEL_00c2e2af06e84039a9ea425a7ef145a8"
            ]
          }
        },
        "8a6ae6eea3514c90a6b3cbb7bcf50e6b": {
          "model_module": "@jupyter-widgets/base",
          "model_name": "LayoutModel",
          "model_module_version": "1.2.0",
          "state": {
            "_view_name": "LayoutView",
            "grid_template_rows": null,
            "right": null,
            "justify_content": null,
            "_view_module": "@jupyter-widgets/base",
            "overflow": null,
            "_model_module_version": "1.2.0",
            "_view_count": null,
            "flex_flow": null,
            "width": null,
            "min_width": null,
            "border": null,
            "align_items": null,
            "bottom": null,
            "_model_module": "@jupyter-widgets/base",
            "top": null,
            "grid_column": null,
            "overflow_y": null,
            "overflow_x": null,
            "grid_auto_flow": null,
            "grid_area": null,
            "grid_template_columns": null,
            "flex": null,
            "_model_name": "LayoutModel",
            "justify_items": null,
            "grid_row": null,
            "max_height": null,
            "align_content": null,
            "visibility": null,
            "align_self": null,
            "height": null,
            "min_height": null,
            "padding": null,
            "grid_auto_rows": null,
            "grid_gap": null,
            "max_width": null,
            "order": null,
            "_view_module_version": "1.2.0",
            "grid_template_areas": null,
            "object_position": null,
            "object_fit": null,
            "grid_auto_columns": null,
            "margin": null,
            "display": null,
            "left": null
          }
        },
        "d032498d56a44ba1b59794ae9ae0461c": {
          "model_module": "@jupyter-widgets/controls",
          "model_name": "FloatProgressModel",
          "model_module_version": "1.5.0",
          "state": {
            "_view_name": "ProgressView",
            "style": "IPY_MODEL_8024d6418fee43529f50eb97bbd90a5d",
            "_dom_classes": [],
            "description": "100%",
            "_model_name": "FloatProgressModel",
            "bar_style": "success",
            "max": 6,
            "_view_module": "@jupyter-widgets/controls",
            "_model_module_version": "1.5.0",
            "value": 6,
            "_view_count": null,
            "_view_module_version": "1.5.0",
            "orientation": "horizontal",
            "min": 0,
            "description_tooltip": null,
            "_model_module": "@jupyter-widgets/controls",
            "layout": "IPY_MODEL_d1e2ac52348444ecb6e184f36ceea3e0"
          }
        },
        "00c2e2af06e84039a9ea425a7ef145a8": {
          "model_module": "@jupyter-widgets/controls",
          "model_name": "HTMLModel",
          "model_module_version": "1.5.0",
          "state": {
            "_view_name": "HTMLView",
            "style": "IPY_MODEL_4e7ce86aced249c0a46a4832c5400d1b",
            "_dom_classes": [],
            "description": "",
            "_model_name": "HTMLModel",
            "placeholder": "​",
            "_view_module": "@jupyter-widgets/controls",
            "_model_module_version": "1.5.0",
            "value": " 6/6 [08:40&lt;00:00, 86.77s/it]",
            "_view_count": null,
            "_view_module_version": "1.5.0",
            "description_tooltip": null,
            "_model_module": "@jupyter-widgets/controls",
            "layout": "IPY_MODEL_7b6a077d7df74c2a84dc2232877dbc33"
          }
        },
        "8024d6418fee43529f50eb97bbd90a5d": {
          "model_module": "@jupyter-widgets/controls",
          "model_name": "ProgressStyleModel",
          "model_module_version": "1.5.0",
          "state": {
            "_view_name": "StyleView",
            "_model_name": "ProgressStyleModel",
            "description_width": "initial",
            "_view_module": "@jupyter-widgets/base",
            "_model_module_version": "1.5.0",
            "_view_count": null,
            "_view_module_version": "1.2.0",
            "bar_color": null,
            "_model_module": "@jupyter-widgets/controls"
          }
        },
        "d1e2ac52348444ecb6e184f36ceea3e0": {
          "model_module": "@jupyter-widgets/base",
          "model_name": "LayoutModel",
          "model_module_version": "1.2.0",
          "state": {
            "_view_name": "LayoutView",
            "grid_template_rows": null,
            "right": null,
            "justify_content": null,
            "_view_module": "@jupyter-widgets/base",
            "overflow": null,
            "_model_module_version": "1.2.0",
            "_view_count": null,
            "flex_flow": null,
            "width": null,
            "min_width": null,
            "border": null,
            "align_items": null,
            "bottom": null,
            "_model_module": "@jupyter-widgets/base",
            "top": null,
            "grid_column": null,
            "overflow_y": null,
            "overflow_x": null,
            "grid_auto_flow": null,
            "grid_area": null,
            "grid_template_columns": null,
            "flex": null,
            "_model_name": "LayoutModel",
            "justify_items": null,
            "grid_row": null,
            "max_height": null,
            "align_content": null,
            "visibility": null,
            "align_self": null,
            "height": null,
            "min_height": null,
            "padding": null,
            "grid_auto_rows": null,
            "grid_gap": null,
            "max_width": null,
            "order": null,
            "_view_module_version": "1.2.0",
            "grid_template_areas": null,
            "object_position": null,
            "object_fit": null,
            "grid_auto_columns": null,
            "margin": null,
            "display": null,
            "left": null
          }
        },
        "4e7ce86aced249c0a46a4832c5400d1b": {
          "model_module": "@jupyter-widgets/controls",
          "model_name": "DescriptionStyleModel",
          "model_module_version": "1.5.0",
          "state": {
            "_view_name": "StyleView",
            "_model_name": "DescriptionStyleModel",
            "description_width": "",
            "_view_module": "@jupyter-widgets/base",
            "_model_module_version": "1.5.0",
            "_view_count": null,
            "_view_module_version": "1.2.0",
            "_model_module": "@jupyter-widgets/controls"
          }
        },
        "7b6a077d7df74c2a84dc2232877dbc33": {
          "model_module": "@jupyter-widgets/base",
          "model_name": "LayoutModel",
          "model_module_version": "1.2.0",
          "state": {
            "_view_name": "LayoutView",
            "grid_template_rows": null,
            "right": null,
            "justify_content": null,
            "_view_module": "@jupyter-widgets/base",
            "overflow": null,
            "_model_module_version": "1.2.0",
            "_view_count": null,
            "flex_flow": null,
            "width": null,
            "min_width": null,
            "border": null,
            "align_items": null,
            "bottom": null,
            "_model_module": "@jupyter-widgets/base",
            "top": null,
            "grid_column": null,
            "overflow_y": null,
            "overflow_x": null,
            "grid_auto_flow": null,
            "grid_area": null,
            "grid_template_columns": null,
            "flex": null,
            "_model_name": "LayoutModel",
            "justify_items": null,
            "grid_row": null,
            "max_height": null,
            "align_content": null,
            "visibility": null,
            "align_self": null,
            "height": null,
            "min_height": null,
            "padding": null,
            "grid_auto_rows": null,
            "grid_gap": null,
            "max_width": null,
            "order": null,
            "_view_module_version": "1.2.0",
            "grid_template_areas": null,
            "object_position": null,
            "object_fit": null,
            "grid_auto_columns": null,
            "margin": null,
            "display": null,
            "left": null
          }
        },
        "2fe2d096f6094e908d3d6a48d3f31740": {
          "model_module": "@jupyter-widgets/controls",
          "model_name": "HBoxModel",
          "model_module_version": "1.5.0",
          "state": {
            "_view_name": "HBoxView",
            "_dom_classes": [],
            "_model_name": "HBoxModel",
            "_view_module": "@jupyter-widgets/controls",
            "_model_module_version": "1.5.0",
            "_view_count": null,
            "_view_module_version": "1.5.0",
            "box_style": "",
            "layout": "IPY_MODEL_73190ca3c940475993e18e2ee54d1366",
            "_model_module": "@jupyter-widgets/controls",
            "children": [
              "IPY_MODEL_4c2493740e194c24bf2c56a4b87272db",
              "IPY_MODEL_3a087610609345d6b5783eb0d4b00e1c"
            ]
          }
        },
        "73190ca3c940475993e18e2ee54d1366": {
          "model_module": "@jupyter-widgets/base",
          "model_name": "LayoutModel",
          "model_module_version": "1.2.0",
          "state": {
            "_view_name": "LayoutView",
            "grid_template_rows": null,
            "right": null,
            "justify_content": null,
            "_view_module": "@jupyter-widgets/base",
            "overflow": null,
            "_model_module_version": "1.2.0",
            "_view_count": null,
            "flex_flow": null,
            "width": null,
            "min_width": null,
            "border": null,
            "align_items": null,
            "bottom": null,
            "_model_module": "@jupyter-widgets/base",
            "top": null,
            "grid_column": null,
            "overflow_y": null,
            "overflow_x": null,
            "grid_auto_flow": null,
            "grid_area": null,
            "grid_template_columns": null,
            "flex": null,
            "_model_name": "LayoutModel",
            "justify_items": null,
            "grid_row": null,
            "max_height": null,
            "align_content": null,
            "visibility": null,
            "align_self": null,
            "height": null,
            "min_height": null,
            "padding": null,
            "grid_auto_rows": null,
            "grid_gap": null,
            "max_width": null,
            "order": null,
            "_view_module_version": "1.2.0",
            "grid_template_areas": null,
            "object_position": null,
            "object_fit": null,
            "grid_auto_columns": null,
            "margin": null,
            "display": null,
            "left": null
          }
        },
        "4c2493740e194c24bf2c56a4b87272db": {
          "model_module": "@jupyter-widgets/controls",
          "model_name": "FloatProgressModel",
          "model_module_version": "1.5.0",
          "state": {
            "_view_name": "ProgressView",
            "style": "IPY_MODEL_1fc543e0a8764734873ee0418baf838f",
            "_dom_classes": [],
            "description": "100%",
            "_model_name": "FloatProgressModel",
            "bar_style": "success",
            "max": 24,
            "_view_module": "@jupyter-widgets/controls",
            "_model_module_version": "1.5.0",
            "value": 24,
            "_view_count": null,
            "_view_module_version": "1.5.0",
            "orientation": "horizontal",
            "min": 0,
            "description_tooltip": null,
            "_model_module": "@jupyter-widgets/controls",
            "layout": "IPY_MODEL_92c5e61374944ff69aacb3522dfe6bdc"
          }
        },
        "3a087610609345d6b5783eb0d4b00e1c": {
          "model_module": "@jupyter-widgets/controls",
          "model_name": "HTMLModel",
          "model_module_version": "1.5.0",
          "state": {
            "_view_name": "HTMLView",
            "style": "IPY_MODEL_6025fdf94e1240e3b22379feabd4f9fb",
            "_dom_classes": [],
            "description": "",
            "_model_name": "HTMLModel",
            "placeholder": "​",
            "_view_module": "@jupyter-widgets/controls",
            "_model_module_version": "1.5.0",
            "value": " 24/24 [00:31&lt;00:00,  1.30s/it]",
            "_view_count": null,
            "_view_module_version": "1.5.0",
            "description_tooltip": null,
            "_model_module": "@jupyter-widgets/controls",
            "layout": "IPY_MODEL_1e738b99e34246219552da88a5011caf"
          }
        },
        "1fc543e0a8764734873ee0418baf838f": {
          "model_module": "@jupyter-widgets/controls",
          "model_name": "ProgressStyleModel",
          "model_module_version": "1.5.0",
          "state": {
            "_view_name": "StyleView",
            "_model_name": "ProgressStyleModel",
            "description_width": "initial",
            "_view_module": "@jupyter-widgets/base",
            "_model_module_version": "1.5.0",
            "_view_count": null,
            "_view_module_version": "1.2.0",
            "bar_color": null,
            "_model_module": "@jupyter-widgets/controls"
          }
        },
        "92c5e61374944ff69aacb3522dfe6bdc": {
          "model_module": "@jupyter-widgets/base",
          "model_name": "LayoutModel",
          "model_module_version": "1.2.0",
          "state": {
            "_view_name": "LayoutView",
            "grid_template_rows": null,
            "right": null,
            "justify_content": null,
            "_view_module": "@jupyter-widgets/base",
            "overflow": null,
            "_model_module_version": "1.2.0",
            "_view_count": null,
            "flex_flow": null,
            "width": null,
            "min_width": null,
            "border": null,
            "align_items": null,
            "bottom": null,
            "_model_module": "@jupyter-widgets/base",
            "top": null,
            "grid_column": null,
            "overflow_y": null,
            "overflow_x": null,
            "grid_auto_flow": null,
            "grid_area": null,
            "grid_template_columns": null,
            "flex": null,
            "_model_name": "LayoutModel",
            "justify_items": null,
            "grid_row": null,
            "max_height": null,
            "align_content": null,
            "visibility": null,
            "align_self": null,
            "height": null,
            "min_height": null,
            "padding": null,
            "grid_auto_rows": null,
            "grid_gap": null,
            "max_width": null,
            "order": null,
            "_view_module_version": "1.2.0",
            "grid_template_areas": null,
            "object_position": null,
            "object_fit": null,
            "grid_auto_columns": null,
            "margin": null,
            "display": null,
            "left": null
          }
        },
        "6025fdf94e1240e3b22379feabd4f9fb": {
          "model_module": "@jupyter-widgets/controls",
          "model_name": "DescriptionStyleModel",
          "model_module_version": "1.5.0",
          "state": {
            "_view_name": "StyleView",
            "_model_name": "DescriptionStyleModel",
            "description_width": "",
            "_view_module": "@jupyter-widgets/base",
            "_model_module_version": "1.5.0",
            "_view_count": null,
            "_view_module_version": "1.2.0",
            "_model_module": "@jupyter-widgets/controls"
          }
        },
        "1e738b99e34246219552da88a5011caf": {
          "model_module": "@jupyter-widgets/base",
          "model_name": "LayoutModel",
          "model_module_version": "1.2.0",
          "state": {
            "_view_name": "LayoutView",
            "grid_template_rows": null,
            "right": null,
            "justify_content": null,
            "_view_module": "@jupyter-widgets/base",
            "overflow": null,
            "_model_module_version": "1.2.0",
            "_view_count": null,
            "flex_flow": null,
            "width": null,
            "min_width": null,
            "border": null,
            "align_items": null,
            "bottom": null,
            "_model_module": "@jupyter-widgets/base",
            "top": null,
            "grid_column": null,
            "overflow_y": null,
            "overflow_x": null,
            "grid_auto_flow": null,
            "grid_area": null,
            "grid_template_columns": null,
            "flex": null,
            "_model_name": "LayoutModel",
            "justify_items": null,
            "grid_row": null,
            "max_height": null,
            "align_content": null,
            "visibility": null,
            "align_self": null,
            "height": null,
            "min_height": null,
            "padding": null,
            "grid_auto_rows": null,
            "grid_gap": null,
            "max_width": null,
            "order": null,
            "_view_module_version": "1.2.0",
            "grid_template_areas": null,
            "object_position": null,
            "object_fit": null,
            "grid_auto_columns": null,
            "margin": null,
            "display": null,
            "left": null
          }
        },
        "a68c2989a2264489aba3de04e2c706e1": {
          "model_module": "@jupyter-widgets/controls",
          "model_name": "HBoxModel",
          "model_module_version": "1.5.0",
          "state": {
            "_view_name": "HBoxView",
            "_dom_classes": [],
            "_model_name": "HBoxModel",
            "_view_module": "@jupyter-widgets/controls",
            "_model_module_version": "1.5.0",
            "_view_count": null,
            "_view_module_version": "1.5.0",
            "box_style": "",
            "layout": "IPY_MODEL_facdf9fe0519408eb7adc706ed160e68",
            "_model_module": "@jupyter-widgets/controls",
            "children": [
              "IPY_MODEL_558307fb895b436498f7f04a722dd2b7",
              "IPY_MODEL_dbdcdf0494704c4fa7eaa7724c289ef2"
            ]
          }
        },
        "facdf9fe0519408eb7adc706ed160e68": {
          "model_module": "@jupyter-widgets/base",
          "model_name": "LayoutModel",
          "model_module_version": "1.2.0",
          "state": {
            "_view_name": "LayoutView",
            "grid_template_rows": null,
            "right": null,
            "justify_content": null,
            "_view_module": "@jupyter-widgets/base",
            "overflow": null,
            "_model_module_version": "1.2.0",
            "_view_count": null,
            "flex_flow": null,
            "width": null,
            "min_width": null,
            "border": null,
            "align_items": null,
            "bottom": null,
            "_model_module": "@jupyter-widgets/base",
            "top": null,
            "grid_column": null,
            "overflow_y": null,
            "overflow_x": null,
            "grid_auto_flow": null,
            "grid_area": null,
            "grid_template_columns": null,
            "flex": null,
            "_model_name": "LayoutModel",
            "justify_items": null,
            "grid_row": null,
            "max_height": null,
            "align_content": null,
            "visibility": null,
            "align_self": null,
            "height": null,
            "min_height": null,
            "padding": null,
            "grid_auto_rows": null,
            "grid_gap": null,
            "max_width": null,
            "order": null,
            "_view_module_version": "1.2.0",
            "grid_template_areas": null,
            "object_position": null,
            "object_fit": null,
            "grid_auto_columns": null,
            "margin": null,
            "display": null,
            "left": null
          }
        },
        "558307fb895b436498f7f04a722dd2b7": {
          "model_module": "@jupyter-widgets/controls",
          "model_name": "FloatProgressModel",
          "model_module_version": "1.5.0",
          "state": {
            "_view_name": "ProgressView",
            "style": "IPY_MODEL_6651854ca8a948b19e82667dcd9355da",
            "_dom_classes": [],
            "description": "100%",
            "_model_name": "FloatProgressModel",
            "bar_style": "success",
            "max": 6,
            "_view_module": "@jupyter-widgets/controls",
            "_model_module_version": "1.5.0",
            "value": 6,
            "_view_count": null,
            "_view_module_version": "1.5.0",
            "orientation": "horizontal",
            "min": 0,
            "description_tooltip": null,
            "_model_module": "@jupyter-widgets/controls",
            "layout": "IPY_MODEL_189b6470f9054b1a9882667eb7a06d10"
          }
        },
        "dbdcdf0494704c4fa7eaa7724c289ef2": {
          "model_module": "@jupyter-widgets/controls",
          "model_name": "HTMLModel",
          "model_module_version": "1.5.0",
          "state": {
            "_view_name": "HTMLView",
            "style": "IPY_MODEL_e16614a5c15549c3bc32638f50400083",
            "_dom_classes": [],
            "description": "",
            "_model_name": "HTMLModel",
            "placeholder": "​",
            "_view_module": "@jupyter-widgets/controls",
            "_model_module_version": "1.5.0",
            "value": " 6/6 [00:05&lt;00:00,  1.10it/s]",
            "_view_count": null,
            "_view_module_version": "1.5.0",
            "description_tooltip": null,
            "_model_module": "@jupyter-widgets/controls",
            "layout": "IPY_MODEL_a02e51adab0d457d976687986b2e4db3"
          }
        },
        "6651854ca8a948b19e82667dcd9355da": {
          "model_module": "@jupyter-widgets/controls",
          "model_name": "ProgressStyleModel",
          "model_module_version": "1.5.0",
          "state": {
            "_view_name": "StyleView",
            "_model_name": "ProgressStyleModel",
            "description_width": "initial",
            "_view_module": "@jupyter-widgets/base",
            "_model_module_version": "1.5.0",
            "_view_count": null,
            "_view_module_version": "1.2.0",
            "bar_color": null,
            "_model_module": "@jupyter-widgets/controls"
          }
        },
        "189b6470f9054b1a9882667eb7a06d10": {
          "model_module": "@jupyter-widgets/base",
          "model_name": "LayoutModel",
          "model_module_version": "1.2.0",
          "state": {
            "_view_name": "LayoutView",
            "grid_template_rows": null,
            "right": null,
            "justify_content": null,
            "_view_module": "@jupyter-widgets/base",
            "overflow": null,
            "_model_module_version": "1.2.0",
            "_view_count": null,
            "flex_flow": null,
            "width": null,
            "min_width": null,
            "border": null,
            "align_items": null,
            "bottom": null,
            "_model_module": "@jupyter-widgets/base",
            "top": null,
            "grid_column": null,
            "overflow_y": null,
            "overflow_x": null,
            "grid_auto_flow": null,
            "grid_area": null,
            "grid_template_columns": null,
            "flex": null,
            "_model_name": "LayoutModel",
            "justify_items": null,
            "grid_row": null,
            "max_height": null,
            "align_content": null,
            "visibility": null,
            "align_self": null,
            "height": null,
            "min_height": null,
            "padding": null,
            "grid_auto_rows": null,
            "grid_gap": null,
            "max_width": null,
            "order": null,
            "_view_module_version": "1.2.0",
            "grid_template_areas": null,
            "object_position": null,
            "object_fit": null,
            "grid_auto_columns": null,
            "margin": null,
            "display": null,
            "left": null
          }
        },
        "e16614a5c15549c3bc32638f50400083": {
          "model_module": "@jupyter-widgets/controls",
          "model_name": "DescriptionStyleModel",
          "model_module_version": "1.5.0",
          "state": {
            "_view_name": "StyleView",
            "_model_name": "DescriptionStyleModel",
            "description_width": "",
            "_view_module": "@jupyter-widgets/base",
            "_model_module_version": "1.5.0",
            "_view_count": null,
            "_view_module_version": "1.2.0",
            "_model_module": "@jupyter-widgets/controls"
          }
        },
        "a02e51adab0d457d976687986b2e4db3": {
          "model_module": "@jupyter-widgets/base",
          "model_name": "LayoutModel",
          "model_module_version": "1.2.0",
          "state": {
            "_view_name": "LayoutView",
            "grid_template_rows": null,
            "right": null,
            "justify_content": null,
            "_view_module": "@jupyter-widgets/base",
            "overflow": null,
            "_model_module_version": "1.2.0",
            "_view_count": null,
            "flex_flow": null,
            "width": null,
            "min_width": null,
            "border": null,
            "align_items": null,
            "bottom": null,
            "_model_module": "@jupyter-widgets/base",
            "top": null,
            "grid_column": null,
            "overflow_y": null,
            "overflow_x": null,
            "grid_auto_flow": null,
            "grid_area": null,
            "grid_template_columns": null,
            "flex": null,
            "_model_name": "LayoutModel",
            "justify_items": null,
            "grid_row": null,
            "max_height": null,
            "align_content": null,
            "visibility": null,
            "align_self": null,
            "height": null,
            "min_height": null,
            "padding": null,
            "grid_auto_rows": null,
            "grid_gap": null,
            "max_width": null,
            "order": null,
            "_view_module_version": "1.2.0",
            "grid_template_areas": null,
            "object_position": null,
            "object_fit": null,
            "grid_auto_columns": null,
            "margin": null,
            "display": null,
            "left": null
          }
        },
        "48fcb1ee600e42d0a89fd2c8000e5097": {
          "model_module": "@jupyter-widgets/controls",
          "model_name": "HBoxModel",
          "model_module_version": "1.5.0",
          "state": {
            "_view_name": "HBoxView",
            "_dom_classes": [],
            "_model_name": "HBoxModel",
            "_view_module": "@jupyter-widgets/controls",
            "_model_module_version": "1.5.0",
            "_view_count": null,
            "_view_module_version": "1.5.0",
            "box_style": "",
            "layout": "IPY_MODEL_4e703c1d080940f78841529afe11828f",
            "_model_module": "@jupyter-widgets/controls",
            "children": [
              "IPY_MODEL_d87140e4289c4defa69b1119d7e77f01",
              "IPY_MODEL_ee9d481b3c4a44289b25c4a60df9a791"
            ]
          }
        },
        "4e703c1d080940f78841529afe11828f": {
          "model_module": "@jupyter-widgets/base",
          "model_name": "LayoutModel",
          "model_module_version": "1.2.0",
          "state": {
            "_view_name": "LayoutView",
            "grid_template_rows": null,
            "right": null,
            "justify_content": null,
            "_view_module": "@jupyter-widgets/base",
            "overflow": null,
            "_model_module_version": "1.2.0",
            "_view_count": null,
            "flex_flow": null,
            "width": null,
            "min_width": null,
            "border": null,
            "align_items": null,
            "bottom": null,
            "_model_module": "@jupyter-widgets/base",
            "top": null,
            "grid_column": null,
            "overflow_y": null,
            "overflow_x": null,
            "grid_auto_flow": null,
            "grid_area": null,
            "grid_template_columns": null,
            "flex": null,
            "_model_name": "LayoutModel",
            "justify_items": null,
            "grid_row": null,
            "max_height": null,
            "align_content": null,
            "visibility": null,
            "align_self": null,
            "height": null,
            "min_height": null,
            "padding": null,
            "grid_auto_rows": null,
            "grid_gap": null,
            "max_width": null,
            "order": null,
            "_view_module_version": "1.2.0",
            "grid_template_areas": null,
            "object_position": null,
            "object_fit": null,
            "grid_auto_columns": null,
            "margin": null,
            "display": null,
            "left": null
          }
        },
        "d87140e4289c4defa69b1119d7e77f01": {
          "model_module": "@jupyter-widgets/controls",
          "model_name": "FloatProgressModel",
          "model_module_version": "1.5.0",
          "state": {
            "_view_name": "ProgressView",
            "style": "IPY_MODEL_d32ffcab727d4a35b736e80d60444c33",
            "_dom_classes": [],
            "description": "100%",
            "_model_name": "FloatProgressModel",
            "bar_style": "success",
            "max": 24,
            "_view_module": "@jupyter-widgets/controls",
            "_model_module_version": "1.5.0",
            "value": 24,
            "_view_count": null,
            "_view_module_version": "1.5.0",
            "orientation": "horizontal",
            "min": 0,
            "description_tooltip": null,
            "_model_module": "@jupyter-widgets/controls",
            "layout": "IPY_MODEL_733470bd81584ef79c018fcd93236db3"
          }
        },
        "ee9d481b3c4a44289b25c4a60df9a791": {
          "model_module": "@jupyter-widgets/controls",
          "model_name": "HTMLModel",
          "model_module_version": "1.5.0",
          "state": {
            "_view_name": "HTMLView",
            "style": "IPY_MODEL_f878cbbdf7ae4b1cbf539a2a89e8d7df",
            "_dom_classes": [],
            "description": "",
            "_model_name": "HTMLModel",
            "placeholder": "​",
            "_view_module": "@jupyter-widgets/controls",
            "_model_module_version": "1.5.0",
            "value": " 24/24 [07:41&lt;00:00, 19.22s/it]",
            "_view_count": null,
            "_view_module_version": "1.5.0",
            "description_tooltip": null,
            "_model_module": "@jupyter-widgets/controls",
            "layout": "IPY_MODEL_d212cf7eee5d4fe497f69de695222dc4"
          }
        },
        "d32ffcab727d4a35b736e80d60444c33": {
          "model_module": "@jupyter-widgets/controls",
          "model_name": "ProgressStyleModel",
          "model_module_version": "1.5.0",
          "state": {
            "_view_name": "StyleView",
            "_model_name": "ProgressStyleModel",
            "description_width": "initial",
            "_view_module": "@jupyter-widgets/base",
            "_model_module_version": "1.5.0",
            "_view_count": null,
            "_view_module_version": "1.2.0",
            "bar_color": null,
            "_model_module": "@jupyter-widgets/controls"
          }
        },
        "733470bd81584ef79c018fcd93236db3": {
          "model_module": "@jupyter-widgets/base",
          "model_name": "LayoutModel",
          "model_module_version": "1.2.0",
          "state": {
            "_view_name": "LayoutView",
            "grid_template_rows": null,
            "right": null,
            "justify_content": null,
            "_view_module": "@jupyter-widgets/base",
            "overflow": null,
            "_model_module_version": "1.2.0",
            "_view_count": null,
            "flex_flow": null,
            "width": null,
            "min_width": null,
            "border": null,
            "align_items": null,
            "bottom": null,
            "_model_module": "@jupyter-widgets/base",
            "top": null,
            "grid_column": null,
            "overflow_y": null,
            "overflow_x": null,
            "grid_auto_flow": null,
            "grid_area": null,
            "grid_template_columns": null,
            "flex": null,
            "_model_name": "LayoutModel",
            "justify_items": null,
            "grid_row": null,
            "max_height": null,
            "align_content": null,
            "visibility": null,
            "align_self": null,
            "height": null,
            "min_height": null,
            "padding": null,
            "grid_auto_rows": null,
            "grid_gap": null,
            "max_width": null,
            "order": null,
            "_view_module_version": "1.2.0",
            "grid_template_areas": null,
            "object_position": null,
            "object_fit": null,
            "grid_auto_columns": null,
            "margin": null,
            "display": null,
            "left": null
          }
        },
        "f878cbbdf7ae4b1cbf539a2a89e8d7df": {
          "model_module": "@jupyter-widgets/controls",
          "model_name": "DescriptionStyleModel",
          "model_module_version": "1.5.0",
          "state": {
            "_view_name": "StyleView",
            "_model_name": "DescriptionStyleModel",
            "description_width": "",
            "_view_module": "@jupyter-widgets/base",
            "_model_module_version": "1.5.0",
            "_view_count": null,
            "_view_module_version": "1.2.0",
            "_model_module": "@jupyter-widgets/controls"
          }
        },
        "d212cf7eee5d4fe497f69de695222dc4": {
          "model_module": "@jupyter-widgets/base",
          "model_name": "LayoutModel",
          "model_module_version": "1.2.0",
          "state": {
            "_view_name": "LayoutView",
            "grid_template_rows": null,
            "right": null,
            "justify_content": null,
            "_view_module": "@jupyter-widgets/base",
            "overflow": null,
            "_model_module_version": "1.2.0",
            "_view_count": null,
            "flex_flow": null,
            "width": null,
            "min_width": null,
            "border": null,
            "align_items": null,
            "bottom": null,
            "_model_module": "@jupyter-widgets/base",
            "top": null,
            "grid_column": null,
            "overflow_y": null,
            "overflow_x": null,
            "grid_auto_flow": null,
            "grid_area": null,
            "grid_template_columns": null,
            "flex": null,
            "_model_name": "LayoutModel",
            "justify_items": null,
            "grid_row": null,
            "max_height": null,
            "align_content": null,
            "visibility": null,
            "align_self": null,
            "height": null,
            "min_height": null,
            "padding": null,
            "grid_auto_rows": null,
            "grid_gap": null,
            "max_width": null,
            "order": null,
            "_view_module_version": "1.2.0",
            "grid_template_areas": null,
            "object_position": null,
            "object_fit": null,
            "grid_auto_columns": null,
            "margin": null,
            "display": null,
            "left": null
          }
        },
        "bfd30de7a728450bab2017d75f657680": {
          "model_module": "@jupyter-widgets/controls",
          "model_name": "HBoxModel",
          "model_module_version": "1.5.0",
          "state": {
            "_view_name": "HBoxView",
            "_dom_classes": [],
            "_model_name": "HBoxModel",
            "_view_module": "@jupyter-widgets/controls",
            "_model_module_version": "1.5.0",
            "_view_count": null,
            "_view_module_version": "1.5.0",
            "box_style": "",
            "layout": "IPY_MODEL_79d22f02701145758eebf7850693fd89",
            "_model_module": "@jupyter-widgets/controls",
            "children": [
              "IPY_MODEL_d83d7d16734248c8a83cd49ddc82f06d",
              "IPY_MODEL_a9882e5991644ad28e717eac551aebdd"
            ]
          }
        },
        "79d22f02701145758eebf7850693fd89": {
          "model_module": "@jupyter-widgets/base",
          "model_name": "LayoutModel",
          "model_module_version": "1.2.0",
          "state": {
            "_view_name": "LayoutView",
            "grid_template_rows": null,
            "right": null,
            "justify_content": null,
            "_view_module": "@jupyter-widgets/base",
            "overflow": null,
            "_model_module_version": "1.2.0",
            "_view_count": null,
            "flex_flow": null,
            "width": null,
            "min_width": null,
            "border": null,
            "align_items": null,
            "bottom": null,
            "_model_module": "@jupyter-widgets/base",
            "top": null,
            "grid_column": null,
            "overflow_y": null,
            "overflow_x": null,
            "grid_auto_flow": null,
            "grid_area": null,
            "grid_template_columns": null,
            "flex": null,
            "_model_name": "LayoutModel",
            "justify_items": null,
            "grid_row": null,
            "max_height": null,
            "align_content": null,
            "visibility": null,
            "align_self": null,
            "height": null,
            "min_height": null,
            "padding": null,
            "grid_auto_rows": null,
            "grid_gap": null,
            "max_width": null,
            "order": null,
            "_view_module_version": "1.2.0",
            "grid_template_areas": null,
            "object_position": null,
            "object_fit": null,
            "grid_auto_columns": null,
            "margin": null,
            "display": null,
            "left": null
          }
        },
        "d83d7d16734248c8a83cd49ddc82f06d": {
          "model_module": "@jupyter-widgets/controls",
          "model_name": "FloatProgressModel",
          "model_module_version": "1.5.0",
          "state": {
            "_view_name": "ProgressView",
            "style": "IPY_MODEL_380a8f96641b469abaed8513a071db44",
            "_dom_classes": [],
            "description": "100%",
            "_model_name": "FloatProgressModel",
            "bar_style": "success",
            "max": 6,
            "_view_module": "@jupyter-widgets/controls",
            "_model_module_version": "1.5.0",
            "value": 6,
            "_view_count": null,
            "_view_module_version": "1.5.0",
            "orientation": "horizontal",
            "min": 0,
            "description_tooltip": null,
            "_model_module": "@jupyter-widgets/controls",
            "layout": "IPY_MODEL_a79a11e9cfda49b7973a4f3b83fe206d"
          }
        },
        "a9882e5991644ad28e717eac551aebdd": {
          "model_module": "@jupyter-widgets/controls",
          "model_name": "HTMLModel",
          "model_module_version": "1.5.0",
          "state": {
            "_view_name": "HTMLView",
            "style": "IPY_MODEL_9b4bd5237a0149c486cfb8809da5c7d4",
            "_dom_classes": [],
            "description": "",
            "_model_name": "HTMLModel",
            "placeholder": "​",
            "_view_module": "@jupyter-widgets/controls",
            "_model_module_version": "1.5.0",
            "value": " 6/6 [00:17&lt;00:00,  2.94s/it]",
            "_view_count": null,
            "_view_module_version": "1.5.0",
            "description_tooltip": null,
            "_model_module": "@jupyter-widgets/controls",
            "layout": "IPY_MODEL_4b4a3d7d136b4ecba362ad4268f5c468"
          }
        },
        "380a8f96641b469abaed8513a071db44": {
          "model_module": "@jupyter-widgets/controls",
          "model_name": "ProgressStyleModel",
          "model_module_version": "1.5.0",
          "state": {
            "_view_name": "StyleView",
            "_model_name": "ProgressStyleModel",
            "description_width": "initial",
            "_view_module": "@jupyter-widgets/base",
            "_model_module_version": "1.5.0",
            "_view_count": null,
            "_view_module_version": "1.2.0",
            "bar_color": null,
            "_model_module": "@jupyter-widgets/controls"
          }
        },
        "a79a11e9cfda49b7973a4f3b83fe206d": {
          "model_module": "@jupyter-widgets/base",
          "model_name": "LayoutModel",
          "model_module_version": "1.2.0",
          "state": {
            "_view_name": "LayoutView",
            "grid_template_rows": null,
            "right": null,
            "justify_content": null,
            "_view_module": "@jupyter-widgets/base",
            "overflow": null,
            "_model_module_version": "1.2.0",
            "_view_count": null,
            "flex_flow": null,
            "width": null,
            "min_width": null,
            "border": null,
            "align_items": null,
            "bottom": null,
            "_model_module": "@jupyter-widgets/base",
            "top": null,
            "grid_column": null,
            "overflow_y": null,
            "overflow_x": null,
            "grid_auto_flow": null,
            "grid_area": null,
            "grid_template_columns": null,
            "flex": null,
            "_model_name": "LayoutModel",
            "justify_items": null,
            "grid_row": null,
            "max_height": null,
            "align_content": null,
            "visibility": null,
            "align_self": null,
            "height": null,
            "min_height": null,
            "padding": null,
            "grid_auto_rows": null,
            "grid_gap": null,
            "max_width": null,
            "order": null,
            "_view_module_version": "1.2.0",
            "grid_template_areas": null,
            "object_position": null,
            "object_fit": null,
            "grid_auto_columns": null,
            "margin": null,
            "display": null,
            "left": null
          }
        },
        "9b4bd5237a0149c486cfb8809da5c7d4": {
          "model_module": "@jupyter-widgets/controls",
          "model_name": "DescriptionStyleModel",
          "model_module_version": "1.5.0",
          "state": {
            "_view_name": "StyleView",
            "_model_name": "DescriptionStyleModel",
            "description_width": "",
            "_view_module": "@jupyter-widgets/base",
            "_model_module_version": "1.5.0",
            "_view_count": null,
            "_view_module_version": "1.2.0",
            "_model_module": "@jupyter-widgets/controls"
          }
        },
        "4b4a3d7d136b4ecba362ad4268f5c468": {
          "model_module": "@jupyter-widgets/base",
          "model_name": "LayoutModel",
          "model_module_version": "1.2.0",
          "state": {
            "_view_name": "LayoutView",
            "grid_template_rows": null,
            "right": null,
            "justify_content": null,
            "_view_module": "@jupyter-widgets/base",
            "overflow": null,
            "_model_module_version": "1.2.0",
            "_view_count": null,
            "flex_flow": null,
            "width": null,
            "min_width": null,
            "border": null,
            "align_items": null,
            "bottom": null,
            "_model_module": "@jupyter-widgets/base",
            "top": null,
            "grid_column": null,
            "overflow_y": null,
            "overflow_x": null,
            "grid_auto_flow": null,
            "grid_area": null,
            "grid_template_columns": null,
            "flex": null,
            "_model_name": "LayoutModel",
            "justify_items": null,
            "grid_row": null,
            "max_height": null,
            "align_content": null,
            "visibility": null,
            "align_self": null,
            "height": null,
            "min_height": null,
            "padding": null,
            "grid_auto_rows": null,
            "grid_gap": null,
            "max_width": null,
            "order": null,
            "_view_module_version": "1.2.0",
            "grid_template_areas": null,
            "object_position": null,
            "object_fit": null,
            "grid_auto_columns": null,
            "margin": null,
            "display": null,
            "left": null
          }
        },
        "739e471da861438283e5600ecd9fe046": {
          "model_module": "@jupyter-widgets/controls",
          "model_name": "HBoxModel",
          "model_module_version": "1.5.0",
          "state": {
            "_view_name": "HBoxView",
            "_dom_classes": [],
            "_model_name": "HBoxModel",
            "_view_module": "@jupyter-widgets/controls",
            "_model_module_version": "1.5.0",
            "_view_count": null,
            "_view_module_version": "1.5.0",
            "box_style": "",
            "layout": "IPY_MODEL_2a796e21f1d5419f9a2c0a4b980adaad",
            "_model_module": "@jupyter-widgets/controls",
            "children": [
              "IPY_MODEL_81cfabc43e474d70974b9664a1db7838",
              "IPY_MODEL_a067a54092c14bb7a5f7c7422f47198a"
            ]
          }
        },
        "2a796e21f1d5419f9a2c0a4b980adaad": {
          "model_module": "@jupyter-widgets/base",
          "model_name": "LayoutModel",
          "model_module_version": "1.2.0",
          "state": {
            "_view_name": "LayoutView",
            "grid_template_rows": null,
            "right": null,
            "justify_content": null,
            "_view_module": "@jupyter-widgets/base",
            "overflow": null,
            "_model_module_version": "1.2.0",
            "_view_count": null,
            "flex_flow": null,
            "width": null,
            "min_width": null,
            "border": null,
            "align_items": null,
            "bottom": null,
            "_model_module": "@jupyter-widgets/base",
            "top": null,
            "grid_column": null,
            "overflow_y": null,
            "overflow_x": null,
            "grid_auto_flow": null,
            "grid_area": null,
            "grid_template_columns": null,
            "flex": null,
            "_model_name": "LayoutModel",
            "justify_items": null,
            "grid_row": null,
            "max_height": null,
            "align_content": null,
            "visibility": null,
            "align_self": null,
            "height": null,
            "min_height": null,
            "padding": null,
            "grid_auto_rows": null,
            "grid_gap": null,
            "max_width": null,
            "order": null,
            "_view_module_version": "1.2.0",
            "grid_template_areas": null,
            "object_position": null,
            "object_fit": null,
            "grid_auto_columns": null,
            "margin": null,
            "display": null,
            "left": null
          }
        },
        "81cfabc43e474d70974b9664a1db7838": {
          "model_module": "@jupyter-widgets/controls",
          "model_name": "FloatProgressModel",
          "model_module_version": "1.5.0",
          "state": {
            "_view_name": "ProgressView",
            "style": "IPY_MODEL_a8a70c8b2a7a4fce91e47d0030a25680",
            "_dom_classes": [],
            "description": "100%",
            "_model_name": "FloatProgressModel",
            "bar_style": "success",
            "max": 24,
            "_view_module": "@jupyter-widgets/controls",
            "_model_module_version": "1.5.0",
            "value": 24,
            "_view_count": null,
            "_view_module_version": "1.5.0",
            "orientation": "horizontal",
            "min": 0,
            "description_tooltip": null,
            "_model_module": "@jupyter-widgets/controls",
            "layout": "IPY_MODEL_3cbd6f2cb1e24f91b6512e741e01afe0"
          }
        },
        "a067a54092c14bb7a5f7c7422f47198a": {
          "model_module": "@jupyter-widgets/controls",
          "model_name": "HTMLModel",
          "model_module_version": "1.5.0",
          "state": {
            "_view_name": "HTMLView",
            "style": "IPY_MODEL_db0b70e39cb64026a886af4048ac1ef9",
            "_dom_classes": [],
            "description": "",
            "_model_name": "HTMLModel",
            "placeholder": "​",
            "_view_module": "@jupyter-widgets/controls",
            "_model_module_version": "1.5.0",
            "value": " 24/24 [01:49&lt;00:00,  4.56s/it]",
            "_view_count": null,
            "_view_module_version": "1.5.0",
            "description_tooltip": null,
            "_model_module": "@jupyter-widgets/controls",
            "layout": "IPY_MODEL_af52c6f833d14808a42323fbd99920ff"
          }
        },
        "a8a70c8b2a7a4fce91e47d0030a25680": {
          "model_module": "@jupyter-widgets/controls",
          "model_name": "ProgressStyleModel",
          "model_module_version": "1.5.0",
          "state": {
            "_view_name": "StyleView",
            "_model_name": "ProgressStyleModel",
            "description_width": "initial",
            "_view_module": "@jupyter-widgets/base",
            "_model_module_version": "1.5.0",
            "_view_count": null,
            "_view_module_version": "1.2.0",
            "bar_color": null,
            "_model_module": "@jupyter-widgets/controls"
          }
        },
        "3cbd6f2cb1e24f91b6512e741e01afe0": {
          "model_module": "@jupyter-widgets/base",
          "model_name": "LayoutModel",
          "model_module_version": "1.2.0",
          "state": {
            "_view_name": "LayoutView",
            "grid_template_rows": null,
            "right": null,
            "justify_content": null,
            "_view_module": "@jupyter-widgets/base",
            "overflow": null,
            "_model_module_version": "1.2.0",
            "_view_count": null,
            "flex_flow": null,
            "width": null,
            "min_width": null,
            "border": null,
            "align_items": null,
            "bottom": null,
            "_model_module": "@jupyter-widgets/base",
            "top": null,
            "grid_column": null,
            "overflow_y": null,
            "overflow_x": null,
            "grid_auto_flow": null,
            "grid_area": null,
            "grid_template_columns": null,
            "flex": null,
            "_model_name": "LayoutModel",
            "justify_items": null,
            "grid_row": null,
            "max_height": null,
            "align_content": null,
            "visibility": null,
            "align_self": null,
            "height": null,
            "min_height": null,
            "padding": null,
            "grid_auto_rows": null,
            "grid_gap": null,
            "max_width": null,
            "order": null,
            "_view_module_version": "1.2.0",
            "grid_template_areas": null,
            "object_position": null,
            "object_fit": null,
            "grid_auto_columns": null,
            "margin": null,
            "display": null,
            "left": null
          }
        },
        "db0b70e39cb64026a886af4048ac1ef9": {
          "model_module": "@jupyter-widgets/controls",
          "model_name": "DescriptionStyleModel",
          "model_module_version": "1.5.0",
          "state": {
            "_view_name": "StyleView",
            "_model_name": "DescriptionStyleModel",
            "description_width": "",
            "_view_module": "@jupyter-widgets/base",
            "_model_module_version": "1.5.0",
            "_view_count": null,
            "_view_module_version": "1.2.0",
            "_model_module": "@jupyter-widgets/controls"
          }
        },
        "af52c6f833d14808a42323fbd99920ff": {
          "model_module": "@jupyter-widgets/base",
          "model_name": "LayoutModel",
          "model_module_version": "1.2.0",
          "state": {
            "_view_name": "LayoutView",
            "grid_template_rows": null,
            "right": null,
            "justify_content": null,
            "_view_module": "@jupyter-widgets/base",
            "overflow": null,
            "_model_module_version": "1.2.0",
            "_view_count": null,
            "flex_flow": null,
            "width": null,
            "min_width": null,
            "border": null,
            "align_items": null,
            "bottom": null,
            "_model_module": "@jupyter-widgets/base",
            "top": null,
            "grid_column": null,
            "overflow_y": null,
            "overflow_x": null,
            "grid_auto_flow": null,
            "grid_area": null,
            "grid_template_columns": null,
            "flex": null,
            "_model_name": "LayoutModel",
            "justify_items": null,
            "grid_row": null,
            "max_height": null,
            "align_content": null,
            "visibility": null,
            "align_self": null,
            "height": null,
            "min_height": null,
            "padding": null,
            "grid_auto_rows": null,
            "grid_gap": null,
            "max_width": null,
            "order": null,
            "_view_module_version": "1.2.0",
            "grid_template_areas": null,
            "object_position": null,
            "object_fit": null,
            "grid_auto_columns": null,
            "margin": null,
            "display": null,
            "left": null
          }
        },
        "097356f382094f64a994b2e0ef2624a8": {
          "model_module": "@jupyter-widgets/controls",
          "model_name": "HBoxModel",
          "model_module_version": "1.5.0",
          "state": {
            "_view_name": "HBoxView",
            "_dom_classes": [],
            "_model_name": "HBoxModel",
            "_view_module": "@jupyter-widgets/controls",
            "_model_module_version": "1.5.0",
            "_view_count": null,
            "_view_module_version": "1.5.0",
            "box_style": "",
            "layout": "IPY_MODEL_c4d66ecb8e8547c1a532a4269c2fa469",
            "_model_module": "@jupyter-widgets/controls",
            "children": [
              "IPY_MODEL_f75dd00a87bc48228d4ceb46cc3c67ce",
              "IPY_MODEL_d7d4e4b1fcc74f52b2573095c8b0b159"
            ]
          }
        },
        "c4d66ecb8e8547c1a532a4269c2fa469": {
          "model_module": "@jupyter-widgets/base",
          "model_name": "LayoutModel",
          "model_module_version": "1.2.0",
          "state": {
            "_view_name": "LayoutView",
            "grid_template_rows": null,
            "right": null,
            "justify_content": null,
            "_view_module": "@jupyter-widgets/base",
            "overflow": null,
            "_model_module_version": "1.2.0",
            "_view_count": null,
            "flex_flow": null,
            "width": null,
            "min_width": null,
            "border": null,
            "align_items": null,
            "bottom": null,
            "_model_module": "@jupyter-widgets/base",
            "top": null,
            "grid_column": null,
            "overflow_y": null,
            "overflow_x": null,
            "grid_auto_flow": null,
            "grid_area": null,
            "grid_template_columns": null,
            "flex": null,
            "_model_name": "LayoutModel",
            "justify_items": null,
            "grid_row": null,
            "max_height": null,
            "align_content": null,
            "visibility": null,
            "align_self": null,
            "height": null,
            "min_height": null,
            "padding": null,
            "grid_auto_rows": null,
            "grid_gap": null,
            "max_width": null,
            "order": null,
            "_view_module_version": "1.2.0",
            "grid_template_areas": null,
            "object_position": null,
            "object_fit": null,
            "grid_auto_columns": null,
            "margin": null,
            "display": null,
            "left": null
          }
        },
        "f75dd00a87bc48228d4ceb46cc3c67ce": {
          "model_module": "@jupyter-widgets/controls",
          "model_name": "FloatProgressModel",
          "model_module_version": "1.5.0",
          "state": {
            "_view_name": "ProgressView",
            "style": "IPY_MODEL_1fa23cc196064e9288bcc916d8197bf4",
            "_dom_classes": [],
            "description": "100%",
            "_model_name": "FloatProgressModel",
            "bar_style": "success",
            "max": 6,
            "_view_module": "@jupyter-widgets/controls",
            "_model_module_version": "1.5.0",
            "value": 6,
            "_view_count": null,
            "_view_module_version": "1.5.0",
            "orientation": "horizontal",
            "min": 0,
            "description_tooltip": null,
            "_model_module": "@jupyter-widgets/controls",
            "layout": "IPY_MODEL_d5d0e3e88e9b4afeb06298485145c29c"
          }
        },
        "d7d4e4b1fcc74f52b2573095c8b0b159": {
          "model_module": "@jupyter-widgets/controls",
          "model_name": "HTMLModel",
          "model_module_version": "1.5.0",
          "state": {
            "_view_name": "HTMLView",
            "style": "IPY_MODEL_2aca832a663f49048e777e69da4fbec9",
            "_dom_classes": [],
            "description": "",
            "_model_name": "HTMLModel",
            "placeholder": "​",
            "_view_module": "@jupyter-widgets/controls",
            "_model_module_version": "1.5.0",
            "value": " 6/6 [01:12&lt;00:00, 12.08s/it]",
            "_view_count": null,
            "_view_module_version": "1.5.0",
            "description_tooltip": null,
            "_model_module": "@jupyter-widgets/controls",
            "layout": "IPY_MODEL_c0077d4e4eef4328af77202081e6bdf8"
          }
        },
        "1fa23cc196064e9288bcc916d8197bf4": {
          "model_module": "@jupyter-widgets/controls",
          "model_name": "ProgressStyleModel",
          "model_module_version": "1.5.0",
          "state": {
            "_view_name": "StyleView",
            "_model_name": "ProgressStyleModel",
            "description_width": "initial",
            "_view_module": "@jupyter-widgets/base",
            "_model_module_version": "1.5.0",
            "_view_count": null,
            "_view_module_version": "1.2.0",
            "bar_color": null,
            "_model_module": "@jupyter-widgets/controls"
          }
        },
        "d5d0e3e88e9b4afeb06298485145c29c": {
          "model_module": "@jupyter-widgets/base",
          "model_name": "LayoutModel",
          "model_module_version": "1.2.0",
          "state": {
            "_view_name": "LayoutView",
            "grid_template_rows": null,
            "right": null,
            "justify_content": null,
            "_view_module": "@jupyter-widgets/base",
            "overflow": null,
            "_model_module_version": "1.2.0",
            "_view_count": null,
            "flex_flow": null,
            "width": null,
            "min_width": null,
            "border": null,
            "align_items": null,
            "bottom": null,
            "_model_module": "@jupyter-widgets/base",
            "top": null,
            "grid_column": null,
            "overflow_y": null,
            "overflow_x": null,
            "grid_auto_flow": null,
            "grid_area": null,
            "grid_template_columns": null,
            "flex": null,
            "_model_name": "LayoutModel",
            "justify_items": null,
            "grid_row": null,
            "max_height": null,
            "align_content": null,
            "visibility": null,
            "align_self": null,
            "height": null,
            "min_height": null,
            "padding": null,
            "grid_auto_rows": null,
            "grid_gap": null,
            "max_width": null,
            "order": null,
            "_view_module_version": "1.2.0",
            "grid_template_areas": null,
            "object_position": null,
            "object_fit": null,
            "grid_auto_columns": null,
            "margin": null,
            "display": null,
            "left": null
          }
        },
        "2aca832a663f49048e777e69da4fbec9": {
          "model_module": "@jupyter-widgets/controls",
          "model_name": "DescriptionStyleModel",
          "model_module_version": "1.5.0",
          "state": {
            "_view_name": "StyleView",
            "_model_name": "DescriptionStyleModel",
            "description_width": "",
            "_view_module": "@jupyter-widgets/base",
            "_model_module_version": "1.5.0",
            "_view_count": null,
            "_view_module_version": "1.2.0",
            "_model_module": "@jupyter-widgets/controls"
          }
        },
        "c0077d4e4eef4328af77202081e6bdf8": {
          "model_module": "@jupyter-widgets/base",
          "model_name": "LayoutModel",
          "model_module_version": "1.2.0",
          "state": {
            "_view_name": "LayoutView",
            "grid_template_rows": null,
            "right": null,
            "justify_content": null,
            "_view_module": "@jupyter-widgets/base",
            "overflow": null,
            "_model_module_version": "1.2.0",
            "_view_count": null,
            "flex_flow": null,
            "width": null,
            "min_width": null,
            "border": null,
            "align_items": null,
            "bottom": null,
            "_model_module": "@jupyter-widgets/base",
            "top": null,
            "grid_column": null,
            "overflow_y": null,
            "overflow_x": null,
            "grid_auto_flow": null,
            "grid_area": null,
            "grid_template_columns": null,
            "flex": null,
            "_model_name": "LayoutModel",
            "justify_items": null,
            "grid_row": null,
            "max_height": null,
            "align_content": null,
            "visibility": null,
            "align_self": null,
            "height": null,
            "min_height": null,
            "padding": null,
            "grid_auto_rows": null,
            "grid_gap": null,
            "max_width": null,
            "order": null,
            "_view_module_version": "1.2.0",
            "grid_template_areas": null,
            "object_position": null,
            "object_fit": null,
            "grid_auto_columns": null,
            "margin": null,
            "display": null,
            "left": null
          }
        },
        "7588c777fd3d4cc79c15e46846a00e16": {
          "model_module": "@jupyter-widgets/controls",
          "model_name": "HBoxModel",
          "model_module_version": "1.5.0",
          "state": {
            "_view_name": "HBoxView",
            "_dom_classes": [],
            "_model_name": "HBoxModel",
            "_view_module": "@jupyter-widgets/controls",
            "_model_module_version": "1.5.0",
            "_view_count": null,
            "_view_module_version": "1.5.0",
            "box_style": "",
            "layout": "IPY_MODEL_a7ff47ab1f3e422196499561f09f69fd",
            "_model_module": "@jupyter-widgets/controls",
            "children": [
              "IPY_MODEL_adf03d69748d4a52abbfeae4f029c41c",
              "IPY_MODEL_d59d90690e22471289993e7751b4a85f"
            ]
          }
        },
        "a7ff47ab1f3e422196499561f09f69fd": {
          "model_module": "@jupyter-widgets/base",
          "model_name": "LayoutModel",
          "model_module_version": "1.2.0",
          "state": {
            "_view_name": "LayoutView",
            "grid_template_rows": null,
            "right": null,
            "justify_content": null,
            "_view_module": "@jupyter-widgets/base",
            "overflow": null,
            "_model_module_version": "1.2.0",
            "_view_count": null,
            "flex_flow": null,
            "width": null,
            "min_width": null,
            "border": null,
            "align_items": null,
            "bottom": null,
            "_model_module": "@jupyter-widgets/base",
            "top": null,
            "grid_column": null,
            "overflow_y": null,
            "overflow_x": null,
            "grid_auto_flow": null,
            "grid_area": null,
            "grid_template_columns": null,
            "flex": null,
            "_model_name": "LayoutModel",
            "justify_items": null,
            "grid_row": null,
            "max_height": null,
            "align_content": null,
            "visibility": null,
            "align_self": null,
            "height": null,
            "min_height": null,
            "padding": null,
            "grid_auto_rows": null,
            "grid_gap": null,
            "max_width": null,
            "order": null,
            "_view_module_version": "1.2.0",
            "grid_template_areas": null,
            "object_position": null,
            "object_fit": null,
            "grid_auto_columns": null,
            "margin": null,
            "display": null,
            "left": null
          }
        },
        "adf03d69748d4a52abbfeae4f029c41c": {
          "model_module": "@jupyter-widgets/controls",
          "model_name": "FloatProgressModel",
          "model_module_version": "1.5.0",
          "state": {
            "_view_name": "ProgressView",
            "style": "IPY_MODEL_9e8d64d07f2a4f6e98c9bc6ddc9dc630",
            "_dom_classes": [],
            "description": "100%",
            "_model_name": "FloatProgressModel",
            "bar_style": "success",
            "max": 24,
            "_view_module": "@jupyter-widgets/controls",
            "_model_module_version": "1.5.0",
            "value": 24,
            "_view_count": null,
            "_view_module_version": "1.5.0",
            "orientation": "horizontal",
            "min": 0,
            "description_tooltip": null,
            "_model_module": "@jupyter-widgets/controls",
            "layout": "IPY_MODEL_48c79053216c462a8a2a4d902d955eef"
          }
        },
        "d59d90690e22471289993e7751b4a85f": {
          "model_module": "@jupyter-widgets/controls",
          "model_name": "HTMLModel",
          "model_module_version": "1.5.0",
          "state": {
            "_view_name": "HTMLView",
            "style": "IPY_MODEL_e818ab9cbb834804a7412346ba28933f",
            "_dom_classes": [],
            "description": "",
            "_model_name": "HTMLModel",
            "placeholder": "​",
            "_view_module": "@jupyter-widgets/controls",
            "_model_module_version": "1.5.0",
            "value": " 24/24 [00:29&lt;00:00,  1.25s/it]",
            "_view_count": null,
            "_view_module_version": "1.5.0",
            "description_tooltip": null,
            "_model_module": "@jupyter-widgets/controls",
            "layout": "IPY_MODEL_090f0cd8c7704a4b96ed24ee222d41b5"
          }
        },
        "9e8d64d07f2a4f6e98c9bc6ddc9dc630": {
          "model_module": "@jupyter-widgets/controls",
          "model_name": "ProgressStyleModel",
          "model_module_version": "1.5.0",
          "state": {
            "_view_name": "StyleView",
            "_model_name": "ProgressStyleModel",
            "description_width": "initial",
            "_view_module": "@jupyter-widgets/base",
            "_model_module_version": "1.5.0",
            "_view_count": null,
            "_view_module_version": "1.2.0",
            "bar_color": null,
            "_model_module": "@jupyter-widgets/controls"
          }
        },
        "48c79053216c462a8a2a4d902d955eef": {
          "model_module": "@jupyter-widgets/base",
          "model_name": "LayoutModel",
          "model_module_version": "1.2.0",
          "state": {
            "_view_name": "LayoutView",
            "grid_template_rows": null,
            "right": null,
            "justify_content": null,
            "_view_module": "@jupyter-widgets/base",
            "overflow": null,
            "_model_module_version": "1.2.0",
            "_view_count": null,
            "flex_flow": null,
            "width": null,
            "min_width": null,
            "border": null,
            "align_items": null,
            "bottom": null,
            "_model_module": "@jupyter-widgets/base",
            "top": null,
            "grid_column": null,
            "overflow_y": null,
            "overflow_x": null,
            "grid_auto_flow": null,
            "grid_area": null,
            "grid_template_columns": null,
            "flex": null,
            "_model_name": "LayoutModel",
            "justify_items": null,
            "grid_row": null,
            "max_height": null,
            "align_content": null,
            "visibility": null,
            "align_self": null,
            "height": null,
            "min_height": null,
            "padding": null,
            "grid_auto_rows": null,
            "grid_gap": null,
            "max_width": null,
            "order": null,
            "_view_module_version": "1.2.0",
            "grid_template_areas": null,
            "object_position": null,
            "object_fit": null,
            "grid_auto_columns": null,
            "margin": null,
            "display": null,
            "left": null
          }
        },
        "e818ab9cbb834804a7412346ba28933f": {
          "model_module": "@jupyter-widgets/controls",
          "model_name": "DescriptionStyleModel",
          "model_module_version": "1.5.0",
          "state": {
            "_view_name": "StyleView",
            "_model_name": "DescriptionStyleModel",
            "description_width": "",
            "_view_module": "@jupyter-widgets/base",
            "_model_module_version": "1.5.0",
            "_view_count": null,
            "_view_module_version": "1.2.0",
            "_model_module": "@jupyter-widgets/controls"
          }
        },
        "090f0cd8c7704a4b96ed24ee222d41b5": {
          "model_module": "@jupyter-widgets/base",
          "model_name": "LayoutModel",
          "model_module_version": "1.2.0",
          "state": {
            "_view_name": "LayoutView",
            "grid_template_rows": null,
            "right": null,
            "justify_content": null,
            "_view_module": "@jupyter-widgets/base",
            "overflow": null,
            "_model_module_version": "1.2.0",
            "_view_count": null,
            "flex_flow": null,
            "width": null,
            "min_width": null,
            "border": null,
            "align_items": null,
            "bottom": null,
            "_model_module": "@jupyter-widgets/base",
            "top": null,
            "grid_column": null,
            "overflow_y": null,
            "overflow_x": null,
            "grid_auto_flow": null,
            "grid_area": null,
            "grid_template_columns": null,
            "flex": null,
            "_model_name": "LayoutModel",
            "justify_items": null,
            "grid_row": null,
            "max_height": null,
            "align_content": null,
            "visibility": null,
            "align_self": null,
            "height": null,
            "min_height": null,
            "padding": null,
            "grid_auto_rows": null,
            "grid_gap": null,
            "max_width": null,
            "order": null,
            "_view_module_version": "1.2.0",
            "grid_template_areas": null,
            "object_position": null,
            "object_fit": null,
            "grid_auto_columns": null,
            "margin": null,
            "display": null,
            "left": null
          }
        },
        "03b9c9fda7f2488dabe978c6fad180ba": {
          "model_module": "@jupyter-widgets/controls",
          "model_name": "HBoxModel",
          "model_module_version": "1.5.0",
          "state": {
            "_view_name": "HBoxView",
            "_dom_classes": [],
            "_model_name": "HBoxModel",
            "_view_module": "@jupyter-widgets/controls",
            "_model_module_version": "1.5.0",
            "_view_count": null,
            "_view_module_version": "1.5.0",
            "box_style": "",
            "layout": "IPY_MODEL_753a718b196c4b43b7c0c311c5b1d2af",
            "_model_module": "@jupyter-widgets/controls",
            "children": [
              "IPY_MODEL_8b2de2eb148c46c2a6cd9f805b9d7a13",
              "IPY_MODEL_d0c48b2c54804999b8052580a4aba60f"
            ]
          }
        },
        "753a718b196c4b43b7c0c311c5b1d2af": {
          "model_module": "@jupyter-widgets/base",
          "model_name": "LayoutModel",
          "model_module_version": "1.2.0",
          "state": {
            "_view_name": "LayoutView",
            "grid_template_rows": null,
            "right": null,
            "justify_content": null,
            "_view_module": "@jupyter-widgets/base",
            "overflow": null,
            "_model_module_version": "1.2.0",
            "_view_count": null,
            "flex_flow": null,
            "width": null,
            "min_width": null,
            "border": null,
            "align_items": null,
            "bottom": null,
            "_model_module": "@jupyter-widgets/base",
            "top": null,
            "grid_column": null,
            "overflow_y": null,
            "overflow_x": null,
            "grid_auto_flow": null,
            "grid_area": null,
            "grid_template_columns": null,
            "flex": null,
            "_model_name": "LayoutModel",
            "justify_items": null,
            "grid_row": null,
            "max_height": null,
            "align_content": null,
            "visibility": null,
            "align_self": null,
            "height": null,
            "min_height": null,
            "padding": null,
            "grid_auto_rows": null,
            "grid_gap": null,
            "max_width": null,
            "order": null,
            "_view_module_version": "1.2.0",
            "grid_template_areas": null,
            "object_position": null,
            "object_fit": null,
            "grid_auto_columns": null,
            "margin": null,
            "display": null,
            "left": null
          }
        },
        "8b2de2eb148c46c2a6cd9f805b9d7a13": {
          "model_module": "@jupyter-widgets/controls",
          "model_name": "FloatProgressModel",
          "model_module_version": "1.5.0",
          "state": {
            "_view_name": "ProgressView",
            "style": "IPY_MODEL_7f466fb44156458ca24a9330f34776c9",
            "_dom_classes": [],
            "description": "100%",
            "_model_name": "FloatProgressModel",
            "bar_style": "success",
            "max": 6,
            "_view_module": "@jupyter-widgets/controls",
            "_model_module_version": "1.5.0",
            "value": 6,
            "_view_count": null,
            "_view_module_version": "1.5.0",
            "orientation": "horizontal",
            "min": 0,
            "description_tooltip": null,
            "_model_module": "@jupyter-widgets/controls",
            "layout": "IPY_MODEL_567f8421f48a46329ee2a09a2df4f15e"
          }
        },
        "d0c48b2c54804999b8052580a4aba60f": {
          "model_module": "@jupyter-widgets/controls",
          "model_name": "HTMLModel",
          "model_module_version": "1.5.0",
          "state": {
            "_view_name": "HTMLView",
            "style": "IPY_MODEL_d472faae948943548382e4cd84148eae",
            "_dom_classes": [],
            "description": "",
            "_model_name": "HTMLModel",
            "placeholder": "​",
            "_view_module": "@jupyter-widgets/controls",
            "_model_module_version": "1.5.0",
            "value": " 6/6 [00:14&lt;00:00,  2.33s/it]",
            "_view_count": null,
            "_view_module_version": "1.5.0",
            "description_tooltip": null,
            "_model_module": "@jupyter-widgets/controls",
            "layout": "IPY_MODEL_964b092e8c1a43ad9259066ef2f2b504"
          }
        },
        "7f466fb44156458ca24a9330f34776c9": {
          "model_module": "@jupyter-widgets/controls",
          "model_name": "ProgressStyleModel",
          "model_module_version": "1.5.0",
          "state": {
            "_view_name": "StyleView",
            "_model_name": "ProgressStyleModel",
            "description_width": "initial",
            "_view_module": "@jupyter-widgets/base",
            "_model_module_version": "1.5.0",
            "_view_count": null,
            "_view_module_version": "1.2.0",
            "bar_color": null,
            "_model_module": "@jupyter-widgets/controls"
          }
        },
        "567f8421f48a46329ee2a09a2df4f15e": {
          "model_module": "@jupyter-widgets/base",
          "model_name": "LayoutModel",
          "model_module_version": "1.2.0",
          "state": {
            "_view_name": "LayoutView",
            "grid_template_rows": null,
            "right": null,
            "justify_content": null,
            "_view_module": "@jupyter-widgets/base",
            "overflow": null,
            "_model_module_version": "1.2.0",
            "_view_count": null,
            "flex_flow": null,
            "width": null,
            "min_width": null,
            "border": null,
            "align_items": null,
            "bottom": null,
            "_model_module": "@jupyter-widgets/base",
            "top": null,
            "grid_column": null,
            "overflow_y": null,
            "overflow_x": null,
            "grid_auto_flow": null,
            "grid_area": null,
            "grid_template_columns": null,
            "flex": null,
            "_model_name": "LayoutModel",
            "justify_items": null,
            "grid_row": null,
            "max_height": null,
            "align_content": null,
            "visibility": null,
            "align_self": null,
            "height": null,
            "min_height": null,
            "padding": null,
            "grid_auto_rows": null,
            "grid_gap": null,
            "max_width": null,
            "order": null,
            "_view_module_version": "1.2.0",
            "grid_template_areas": null,
            "object_position": null,
            "object_fit": null,
            "grid_auto_columns": null,
            "margin": null,
            "display": null,
            "left": null
          }
        },
        "d472faae948943548382e4cd84148eae": {
          "model_module": "@jupyter-widgets/controls",
          "model_name": "DescriptionStyleModel",
          "model_module_version": "1.5.0",
          "state": {
            "_view_name": "StyleView",
            "_model_name": "DescriptionStyleModel",
            "description_width": "",
            "_view_module": "@jupyter-widgets/base",
            "_model_module_version": "1.5.0",
            "_view_count": null,
            "_view_module_version": "1.2.0",
            "_model_module": "@jupyter-widgets/controls"
          }
        },
        "964b092e8c1a43ad9259066ef2f2b504": {
          "model_module": "@jupyter-widgets/base",
          "model_name": "LayoutModel",
          "model_module_version": "1.2.0",
          "state": {
            "_view_name": "LayoutView",
            "grid_template_rows": null,
            "right": null,
            "justify_content": null,
            "_view_module": "@jupyter-widgets/base",
            "overflow": null,
            "_model_module_version": "1.2.0",
            "_view_count": null,
            "flex_flow": null,
            "width": null,
            "min_width": null,
            "border": null,
            "align_items": null,
            "bottom": null,
            "_model_module": "@jupyter-widgets/base",
            "top": null,
            "grid_column": null,
            "overflow_y": null,
            "overflow_x": null,
            "grid_auto_flow": null,
            "grid_area": null,
            "grid_template_columns": null,
            "flex": null,
            "_model_name": "LayoutModel",
            "justify_items": null,
            "grid_row": null,
            "max_height": null,
            "align_content": null,
            "visibility": null,
            "align_self": null,
            "height": null,
            "min_height": null,
            "padding": null,
            "grid_auto_rows": null,
            "grid_gap": null,
            "max_width": null,
            "order": null,
            "_view_module_version": "1.2.0",
            "grid_template_areas": null,
            "object_position": null,
            "object_fit": null,
            "grid_auto_columns": null,
            "margin": null,
            "display": null,
            "left": null
          }
        },
        "76695e695ce3406781f46965de7b5b7a": {
          "model_module": "@jupyter-widgets/controls",
          "model_name": "HBoxModel",
          "model_module_version": "1.5.0",
          "state": {
            "_view_name": "HBoxView",
            "_dom_classes": [],
            "_model_name": "HBoxModel",
            "_view_module": "@jupyter-widgets/controls",
            "_model_module_version": "1.5.0",
            "_view_count": null,
            "_view_module_version": "1.5.0",
            "box_style": "",
            "layout": "IPY_MODEL_a4cdfe7373774768a56a008b2df60bcf",
            "_model_module": "@jupyter-widgets/controls",
            "children": [
              "IPY_MODEL_8ea4b9c3047949229136d39653d1a80c",
              "IPY_MODEL_3089a6743a6344839e2e6058735008ac"
            ]
          }
        },
        "a4cdfe7373774768a56a008b2df60bcf": {
          "model_module": "@jupyter-widgets/base",
          "model_name": "LayoutModel",
          "model_module_version": "1.2.0",
          "state": {
            "_view_name": "LayoutView",
            "grid_template_rows": null,
            "right": null,
            "justify_content": null,
            "_view_module": "@jupyter-widgets/base",
            "overflow": null,
            "_model_module_version": "1.2.0",
            "_view_count": null,
            "flex_flow": null,
            "width": null,
            "min_width": null,
            "border": null,
            "align_items": null,
            "bottom": null,
            "_model_module": "@jupyter-widgets/base",
            "top": null,
            "grid_column": null,
            "overflow_y": null,
            "overflow_x": null,
            "grid_auto_flow": null,
            "grid_area": null,
            "grid_template_columns": null,
            "flex": null,
            "_model_name": "LayoutModel",
            "justify_items": null,
            "grid_row": null,
            "max_height": null,
            "align_content": null,
            "visibility": null,
            "align_self": null,
            "height": null,
            "min_height": null,
            "padding": null,
            "grid_auto_rows": null,
            "grid_gap": null,
            "max_width": null,
            "order": null,
            "_view_module_version": "1.2.0",
            "grid_template_areas": null,
            "object_position": null,
            "object_fit": null,
            "grid_auto_columns": null,
            "margin": null,
            "display": null,
            "left": null
          }
        },
        "8ea4b9c3047949229136d39653d1a80c": {
          "model_module": "@jupyter-widgets/controls",
          "model_name": "FloatProgressModel",
          "model_module_version": "1.5.0",
          "state": {
            "_view_name": "ProgressView",
            "style": "IPY_MODEL_223aab0d713e47178f04624125e8560b",
            "_dom_classes": [],
            "description": "100%",
            "_model_name": "FloatProgressModel",
            "bar_style": "success",
            "max": 24,
            "_view_module": "@jupyter-widgets/controls",
            "_model_module_version": "1.5.0",
            "value": 24,
            "_view_count": null,
            "_view_module_version": "1.5.0",
            "orientation": "horizontal",
            "min": 0,
            "description_tooltip": null,
            "_model_module": "@jupyter-widgets/controls",
            "layout": "IPY_MODEL_c0354cdbe46943adba94c7cf5bfc56e0"
          }
        },
        "3089a6743a6344839e2e6058735008ac": {
          "model_module": "@jupyter-widgets/controls",
          "model_name": "HTMLModel",
          "model_module_version": "1.5.0",
          "state": {
            "_view_name": "HTMLView",
            "style": "IPY_MODEL_1dd89ea503f9454b8913c5d3d6d6a100",
            "_dom_classes": [],
            "description": "",
            "_model_name": "HTMLModel",
            "placeholder": "​",
            "_view_module": "@jupyter-widgets/controls",
            "_model_module_version": "1.5.0",
            "value": " 24/24 [02:33&lt;00:00,  6.39s/it]",
            "_view_count": null,
            "_view_module_version": "1.5.0",
            "description_tooltip": null,
            "_model_module": "@jupyter-widgets/controls",
            "layout": "IPY_MODEL_9266f64e80894218976fee558b8c5fb0"
          }
        },
        "223aab0d713e47178f04624125e8560b": {
          "model_module": "@jupyter-widgets/controls",
          "model_name": "ProgressStyleModel",
          "model_module_version": "1.5.0",
          "state": {
            "_view_name": "StyleView",
            "_model_name": "ProgressStyleModel",
            "description_width": "initial",
            "_view_module": "@jupyter-widgets/base",
            "_model_module_version": "1.5.0",
            "_view_count": null,
            "_view_module_version": "1.2.0",
            "bar_color": null,
            "_model_module": "@jupyter-widgets/controls"
          }
        },
        "c0354cdbe46943adba94c7cf5bfc56e0": {
          "model_module": "@jupyter-widgets/base",
          "model_name": "LayoutModel",
          "model_module_version": "1.2.0",
          "state": {
            "_view_name": "LayoutView",
            "grid_template_rows": null,
            "right": null,
            "justify_content": null,
            "_view_module": "@jupyter-widgets/base",
            "overflow": null,
            "_model_module_version": "1.2.0",
            "_view_count": null,
            "flex_flow": null,
            "width": null,
            "min_width": null,
            "border": null,
            "align_items": null,
            "bottom": null,
            "_model_module": "@jupyter-widgets/base",
            "top": null,
            "grid_column": null,
            "overflow_y": null,
            "overflow_x": null,
            "grid_auto_flow": null,
            "grid_area": null,
            "grid_template_columns": null,
            "flex": null,
            "_model_name": "LayoutModel",
            "justify_items": null,
            "grid_row": null,
            "max_height": null,
            "align_content": null,
            "visibility": null,
            "align_self": null,
            "height": null,
            "min_height": null,
            "padding": null,
            "grid_auto_rows": null,
            "grid_gap": null,
            "max_width": null,
            "order": null,
            "_view_module_version": "1.2.0",
            "grid_template_areas": null,
            "object_position": null,
            "object_fit": null,
            "grid_auto_columns": null,
            "margin": null,
            "display": null,
            "left": null
          }
        },
        "1dd89ea503f9454b8913c5d3d6d6a100": {
          "model_module": "@jupyter-widgets/controls",
          "model_name": "DescriptionStyleModel",
          "model_module_version": "1.5.0",
          "state": {
            "_view_name": "StyleView",
            "_model_name": "DescriptionStyleModel",
            "description_width": "",
            "_view_module": "@jupyter-widgets/base",
            "_model_module_version": "1.5.0",
            "_view_count": null,
            "_view_module_version": "1.2.0",
            "_model_module": "@jupyter-widgets/controls"
          }
        },
        "9266f64e80894218976fee558b8c5fb0": {
          "model_module": "@jupyter-widgets/base",
          "model_name": "LayoutModel",
          "model_module_version": "1.2.0",
          "state": {
            "_view_name": "LayoutView",
            "grid_template_rows": null,
            "right": null,
            "justify_content": null,
            "_view_module": "@jupyter-widgets/base",
            "overflow": null,
            "_model_module_version": "1.2.0",
            "_view_count": null,
            "flex_flow": null,
            "width": null,
            "min_width": null,
            "border": null,
            "align_items": null,
            "bottom": null,
            "_model_module": "@jupyter-widgets/base",
            "top": null,
            "grid_column": null,
            "overflow_y": null,
            "overflow_x": null,
            "grid_auto_flow": null,
            "grid_area": null,
            "grid_template_columns": null,
            "flex": null,
            "_model_name": "LayoutModel",
            "justify_items": null,
            "grid_row": null,
            "max_height": null,
            "align_content": null,
            "visibility": null,
            "align_self": null,
            "height": null,
            "min_height": null,
            "padding": null,
            "grid_auto_rows": null,
            "grid_gap": null,
            "max_width": null,
            "order": null,
            "_view_module_version": "1.2.0",
            "grid_template_areas": null,
            "object_position": null,
            "object_fit": null,
            "grid_auto_columns": null,
            "margin": null,
            "display": null,
            "left": null
          }
        },
        "5b30322d9b374aec90d800b441398dc4": {
          "model_module": "@jupyter-widgets/controls",
          "model_name": "HBoxModel",
          "model_module_version": "1.5.0",
          "state": {
            "_view_name": "HBoxView",
            "_dom_classes": [],
            "_model_name": "HBoxModel",
            "_view_module": "@jupyter-widgets/controls",
            "_model_module_version": "1.5.0",
            "_view_count": null,
            "_view_module_version": "1.5.0",
            "box_style": "",
            "layout": "IPY_MODEL_3f39434ee167449dad2877d3ba0d7e23",
            "_model_module": "@jupyter-widgets/controls",
            "children": [
              "IPY_MODEL_865bb08089c24257a712b50dde610cd3",
              "IPY_MODEL_fc7795aa50c34f85baeeb998fb1bc32a"
            ]
          }
        },
        "3f39434ee167449dad2877d3ba0d7e23": {
          "model_module": "@jupyter-widgets/base",
          "model_name": "LayoutModel",
          "model_module_version": "1.2.0",
          "state": {
            "_view_name": "LayoutView",
            "grid_template_rows": null,
            "right": null,
            "justify_content": null,
            "_view_module": "@jupyter-widgets/base",
            "overflow": null,
            "_model_module_version": "1.2.0",
            "_view_count": null,
            "flex_flow": null,
            "width": null,
            "min_width": null,
            "border": null,
            "align_items": null,
            "bottom": null,
            "_model_module": "@jupyter-widgets/base",
            "top": null,
            "grid_column": null,
            "overflow_y": null,
            "overflow_x": null,
            "grid_auto_flow": null,
            "grid_area": null,
            "grid_template_columns": null,
            "flex": null,
            "_model_name": "LayoutModel",
            "justify_items": null,
            "grid_row": null,
            "max_height": null,
            "align_content": null,
            "visibility": null,
            "align_self": null,
            "height": null,
            "min_height": null,
            "padding": null,
            "grid_auto_rows": null,
            "grid_gap": null,
            "max_width": null,
            "order": null,
            "_view_module_version": "1.2.0",
            "grid_template_areas": null,
            "object_position": null,
            "object_fit": null,
            "grid_auto_columns": null,
            "margin": null,
            "display": null,
            "left": null
          }
        },
        "865bb08089c24257a712b50dde610cd3": {
          "model_module": "@jupyter-widgets/controls",
          "model_name": "FloatProgressModel",
          "model_module_version": "1.5.0",
          "state": {
            "_view_name": "ProgressView",
            "style": "IPY_MODEL_05d2a99d24084c18b6195c48de843c30",
            "_dom_classes": [],
            "description": "100%",
            "_model_name": "FloatProgressModel",
            "bar_style": "success",
            "max": 6,
            "_view_module": "@jupyter-widgets/controls",
            "_model_module_version": "1.5.0",
            "value": 6,
            "_view_count": null,
            "_view_module_version": "1.5.0",
            "orientation": "horizontal",
            "min": 0,
            "description_tooltip": null,
            "_model_module": "@jupyter-widgets/controls",
            "layout": "IPY_MODEL_154a1051b8a94cdbb708b5e440d73f42"
          }
        },
        "fc7795aa50c34f85baeeb998fb1bc32a": {
          "model_module": "@jupyter-widgets/controls",
          "model_name": "HTMLModel",
          "model_module_version": "1.5.0",
          "state": {
            "_view_name": "HTMLView",
            "style": "IPY_MODEL_946c0be6df7e4eb7ba9f6e421529e49c",
            "_dom_classes": [],
            "description": "",
            "_model_name": "HTMLModel",
            "placeholder": "​",
            "_view_module": "@jupyter-widgets/controls",
            "_model_module_version": "1.5.0",
            "value": " 6/6 [02:09&lt;00:00, 21.60s/it]",
            "_view_count": null,
            "_view_module_version": "1.5.0",
            "description_tooltip": null,
            "_model_module": "@jupyter-widgets/controls",
            "layout": "IPY_MODEL_5162d6107f004ef8a2771eb1dbe27350"
          }
        },
        "05d2a99d24084c18b6195c48de843c30": {
          "model_module": "@jupyter-widgets/controls",
          "model_name": "ProgressStyleModel",
          "model_module_version": "1.5.0",
          "state": {
            "_view_name": "StyleView",
            "_model_name": "ProgressStyleModel",
            "description_width": "initial",
            "_view_module": "@jupyter-widgets/base",
            "_model_module_version": "1.5.0",
            "_view_count": null,
            "_view_module_version": "1.2.0",
            "bar_color": null,
            "_model_module": "@jupyter-widgets/controls"
          }
        },
        "154a1051b8a94cdbb708b5e440d73f42": {
          "model_module": "@jupyter-widgets/base",
          "model_name": "LayoutModel",
          "model_module_version": "1.2.0",
          "state": {
            "_view_name": "LayoutView",
            "grid_template_rows": null,
            "right": null,
            "justify_content": null,
            "_view_module": "@jupyter-widgets/base",
            "overflow": null,
            "_model_module_version": "1.2.0",
            "_view_count": null,
            "flex_flow": null,
            "width": null,
            "min_width": null,
            "border": null,
            "align_items": null,
            "bottom": null,
            "_model_module": "@jupyter-widgets/base",
            "top": null,
            "grid_column": null,
            "overflow_y": null,
            "overflow_x": null,
            "grid_auto_flow": null,
            "grid_area": null,
            "grid_template_columns": null,
            "flex": null,
            "_model_name": "LayoutModel",
            "justify_items": null,
            "grid_row": null,
            "max_height": null,
            "align_content": null,
            "visibility": null,
            "align_self": null,
            "height": null,
            "min_height": null,
            "padding": null,
            "grid_auto_rows": null,
            "grid_gap": null,
            "max_width": null,
            "order": null,
            "_view_module_version": "1.2.0",
            "grid_template_areas": null,
            "object_position": null,
            "object_fit": null,
            "grid_auto_columns": null,
            "margin": null,
            "display": null,
            "left": null
          }
        },
        "946c0be6df7e4eb7ba9f6e421529e49c": {
          "model_module": "@jupyter-widgets/controls",
          "model_name": "DescriptionStyleModel",
          "model_module_version": "1.5.0",
          "state": {
            "_view_name": "StyleView",
            "_model_name": "DescriptionStyleModel",
            "description_width": "",
            "_view_module": "@jupyter-widgets/base",
            "_model_module_version": "1.5.0",
            "_view_count": null,
            "_view_module_version": "1.2.0",
            "_model_module": "@jupyter-widgets/controls"
          }
        },
        "5162d6107f004ef8a2771eb1dbe27350": {
          "model_module": "@jupyter-widgets/base",
          "model_name": "LayoutModel",
          "model_module_version": "1.2.0",
          "state": {
            "_view_name": "LayoutView",
            "grid_template_rows": null,
            "right": null,
            "justify_content": null,
            "_view_module": "@jupyter-widgets/base",
            "overflow": null,
            "_model_module_version": "1.2.0",
            "_view_count": null,
            "flex_flow": null,
            "width": null,
            "min_width": null,
            "border": null,
            "align_items": null,
            "bottom": null,
            "_model_module": "@jupyter-widgets/base",
            "top": null,
            "grid_column": null,
            "overflow_y": null,
            "overflow_x": null,
            "grid_auto_flow": null,
            "grid_area": null,
            "grid_template_columns": null,
            "flex": null,
            "_model_name": "LayoutModel",
            "justify_items": null,
            "grid_row": null,
            "max_height": null,
            "align_content": null,
            "visibility": null,
            "align_self": null,
            "height": null,
            "min_height": null,
            "padding": null,
            "grid_auto_rows": null,
            "grid_gap": null,
            "max_width": null,
            "order": null,
            "_view_module_version": "1.2.0",
            "grid_template_areas": null,
            "object_position": null,
            "object_fit": null,
            "grid_auto_columns": null,
            "margin": null,
            "display": null,
            "left": null
          }
        }
      }
    }
  },
  "cells": [
    {
      "cell_type": "markdown",
      "metadata": {
        "id": "Ep6oksBaG0bp"
      },
      "source": [
        "#Detectron2 (Mask R-CNN) to segment Carseats and Detect Wrinkles\n",
        "\n",
        "**Summary**:\n",
        "Wrinkles detection on a small set of images using original images (section 2) and images with the background filtered out (section 3).\n",
        "\n",
        "\n",
        "\n",
        "**Written by**: Armand Kouyoumdjian\n",
        "\n"
      ]
    },
    {
      "cell_type": "markdown",
      "metadata": {
        "id": "hf7c5bp0abPX"
      },
      "source": [
        "## 0 - Workbook preparation (imports, functions, ...)"
      ]
    },
    {
      "cell_type": "markdown",
      "metadata": {
        "id": "diquE8Y6Gp3u"
      },
      "source": [
        "### Preparing the environment (Note: Must restart runtime after running everything in this section)"
      ]
    },
    {
      "cell_type": "code",
      "metadata": {
        "colab": {
          "base_uri": "https://localhost:8080/"
        },
        "id": "UXqvL2p_xzpG",
        "outputId": "9bdd17ad-4750-4e3a-c344-3c3aa23e21a1"
      },
      "source": [
        "!gcc --version\n",
        "!pip install labelme\n",
        "\n",
        "!pip install detectron2 -f https://dl.fbaipublicfiles.com/detectron2/wheels/cu101/torch1.7/index.html\n",
        "\n",
        "# Install pyyaml - data serialization module\n",
        "!pip install pyyaml==5.1\n",
        "\n"
      ],
      "execution_count": null,
      "outputs": [
        {
          "output_type": "stream",
          "text": [
            "gcc (Ubuntu 7.5.0-3ubuntu1~18.04) 7.5.0\n",
            "Copyright (C) 2017 Free Software Foundation, Inc.\n",
            "This is free software; see the source for copying conditions.  There is NO\n",
            "warranty; not even for MERCHANTABILITY or FITNESS FOR A PARTICULAR PURPOSE.\n",
            "\n",
            "Requirement already satisfied: labelme in /usr/local/lib/python3.7/dist-packages (4.5.7)\n",
            "Requirement already satisfied: matplotlib<3.3 in /usr/local/lib/python3.7/dist-packages (from labelme) (3.2.2)\n",
            "Requirement already satisfied: PyYAML in /usr/local/lib/python3.7/dist-packages (from labelme) (5.1)\n",
            "Requirement already satisfied: termcolor in /usr/local/lib/python3.7/dist-packages (from labelme) (1.1.0)\n",
            "Requirement already satisfied: qtpy in /usr/local/lib/python3.7/dist-packages (from labelme) (1.9.0)\n",
            "Requirement already satisfied: PyQt5 in /usr/local/lib/python3.7/dist-packages (from labelme) (5.15.4)\n",
            "Requirement already satisfied: numpy in /usr/local/lib/python3.7/dist-packages (from labelme) (1.19.5)\n",
            "Requirement already satisfied: imgviz>=0.11.0 in /usr/local/lib/python3.7/dist-packages (from labelme) (1.2.5)\n",
            "Requirement already satisfied: Pillow>=2.8.0 in /usr/local/lib/python3.7/dist-packages (from labelme) (8.1.2)\n",
            "Requirement already satisfied: pyparsing!=2.0.4,!=2.1.2,!=2.1.6,>=2.0.1 in /usr/local/lib/python3.7/dist-packages (from matplotlib<3.3->labelme) (2.4.7)\n",
            "Requirement already satisfied: python-dateutil>=2.1 in /usr/local/lib/python3.7/dist-packages (from matplotlib<3.3->labelme) (2.8.1)\n",
            "Requirement already satisfied: kiwisolver>=1.0.1 in /usr/local/lib/python3.7/dist-packages (from matplotlib<3.3->labelme) (1.3.1)\n",
            "Requirement already satisfied: cycler>=0.10 in /usr/local/lib/python3.7/dist-packages (from matplotlib<3.3->labelme) (0.10.0)\n",
            "Requirement already satisfied: PyQt5-sip<13,>=12.8 in /usr/local/lib/python3.7/dist-packages (from PyQt5->labelme) (12.8.1)\n",
            "Requirement already satisfied: PyQt5-Qt5>=5.15 in /usr/local/lib/python3.7/dist-packages (from PyQt5->labelme) (5.15.2)\n",
            "Requirement already satisfied: six>=1.5 in /usr/local/lib/python3.7/dist-packages (from python-dateutil>=2.1->matplotlib<3.3->labelme) (1.15.0)\n",
            "Looking in links: https://dl.fbaipublicfiles.com/detectron2/wheels/cu101/torch1.7/index.html\n",
            "Requirement already satisfied: detectron2 in /usr/local/lib/python3.7/dist-packages (0.3+cu101)\n",
            "Requirement already satisfied: future in /usr/local/lib/python3.7/dist-packages (from detectron2) (0.16.0)\n",
            "Requirement already satisfied: tqdm>4.29.0 in /usr/local/lib/python3.7/dist-packages (from detectron2) (4.41.1)\n",
            "Requirement already satisfied: tabulate in /usr/local/lib/python3.7/dist-packages (from detectron2) (0.8.9)\n",
            "Requirement already satisfied: pycocotools>=2.0.2 in /usr/local/lib/python3.7/dist-packages (from detectron2) (2.0.2)\n",
            "Requirement already satisfied: matplotlib in /usr/local/lib/python3.7/dist-packages (from detectron2) (3.2.2)\n",
            "Requirement already satisfied: fvcore>=0.1.2 in /usr/local/lib/python3.7/dist-packages (from detectron2) (0.1.4.post20210323)\n",
            "Requirement already satisfied: cloudpickle in /usr/local/lib/python3.7/dist-packages (from detectron2) (1.3.0)\n",
            "Requirement already satisfied: Pillow>=7.1 in /usr/local/lib/python3.7/dist-packages (from detectron2) (8.1.2)\n",
            "Requirement already satisfied: termcolor>=1.1 in /usr/local/lib/python3.7/dist-packages (from detectron2) (1.1.0)\n",
            "Requirement already satisfied: tensorboard in /usr/local/lib/python3.7/dist-packages (from detectron2) (2.4.1)\n",
            "Requirement already satisfied: pydot in /usr/local/lib/python3.7/dist-packages (from detectron2) (1.3.0)\n",
            "Requirement already satisfied: yacs>=0.1.6 in /usr/local/lib/python3.7/dist-packages (from detectron2) (0.1.8)\n",
            "Requirement already satisfied: cython>=0.27.3 in /usr/local/lib/python3.7/dist-packages (from pycocotools>=2.0.2->detectron2) (0.29.22)\n",
            "Requirement already satisfied: setuptools>=18.0 in /usr/local/lib/python3.7/dist-packages (from pycocotools>=2.0.2->detectron2) (54.1.2)\n",
            "Requirement already satisfied: numpy>=1.11 in /usr/local/lib/python3.7/dist-packages (from matplotlib->detectron2) (1.19.5)\n",
            "Requirement already satisfied: pyparsing!=2.0.4,!=2.1.2,!=2.1.6,>=2.0.1 in /usr/local/lib/python3.7/dist-packages (from matplotlib->detectron2) (2.4.7)\n",
            "Requirement already satisfied: kiwisolver>=1.0.1 in /usr/local/lib/python3.7/dist-packages (from matplotlib->detectron2) (1.3.1)\n",
            "Requirement already satisfied: cycler>=0.10 in /usr/local/lib/python3.7/dist-packages (from matplotlib->detectron2) (0.10.0)\n",
            "Requirement already satisfied: python-dateutil>=2.1 in /usr/local/lib/python3.7/dist-packages (from matplotlib->detectron2) (2.8.1)\n",
            "Requirement already satisfied: pyyaml>=5.1 in /usr/local/lib/python3.7/dist-packages (from fvcore>=0.1.2->detectron2) (5.1)\n",
            "Requirement already satisfied: iopath>=0.1.2 in /usr/local/lib/python3.7/dist-packages (from fvcore>=0.1.2->detectron2) (0.1.7)\n",
            "Requirement already satisfied: requests<3,>=2.21.0 in /usr/local/lib/python3.7/dist-packages (from tensorboard->detectron2) (2.23.0)\n",
            "Requirement already satisfied: werkzeug>=0.11.15 in /usr/local/lib/python3.7/dist-packages (from tensorboard->detectron2) (1.0.1)\n",
            "Requirement already satisfied: wheel>=0.26; python_version >= \"3\" in /usr/local/lib/python3.7/dist-packages (from tensorboard->detectron2) (0.36.2)\n",
            "Requirement already satisfied: tensorboard-plugin-wit>=1.6.0 in /usr/local/lib/python3.7/dist-packages (from tensorboard->detectron2) (1.8.0)\n",
            "Requirement already satisfied: grpcio>=1.24.3 in /usr/local/lib/python3.7/dist-packages (from tensorboard->detectron2) (1.32.0)\n",
            "Requirement already satisfied: google-auth<2,>=1.6.3 in /usr/local/lib/python3.7/dist-packages (from tensorboard->detectron2) (1.27.1)\n",
            "Requirement already satisfied: absl-py>=0.4 in /usr/local/lib/python3.7/dist-packages (from tensorboard->detectron2) (0.10.0)\n",
            "Requirement already satisfied: google-auth-oauthlib<0.5,>=0.4.1 in /usr/local/lib/python3.7/dist-packages (from tensorboard->detectron2) (0.4.3)\n",
            "Requirement already satisfied: protobuf>=3.6.0 in /usr/local/lib/python3.7/dist-packages (from tensorboard->detectron2) (3.12.4)\n",
            "Requirement already satisfied: markdown>=2.6.8 in /usr/local/lib/python3.7/dist-packages (from tensorboard->detectron2) (3.3.4)\n",
            "Requirement already satisfied: six>=1.10.0 in /usr/local/lib/python3.7/dist-packages (from tensorboard->detectron2) (1.15.0)\n",
            "Requirement already satisfied: portalocker in /usr/local/lib/python3.7/dist-packages (from iopath>=0.1.2->fvcore>=0.1.2->detectron2) (2.2.1)\n",
            "Requirement already satisfied: idna<3,>=2.5 in /usr/local/lib/python3.7/dist-packages (from requests<3,>=2.21.0->tensorboard->detectron2) (2.10)\n",
            "Requirement already satisfied: urllib3!=1.25.0,!=1.25.1,<1.26,>=1.21.1 in /usr/local/lib/python3.7/dist-packages (from requests<3,>=2.21.0->tensorboard->detectron2) (1.24.3)\n",
            "Requirement already satisfied: chardet<4,>=3.0.2 in /usr/local/lib/python3.7/dist-packages (from requests<3,>=2.21.0->tensorboard->detectron2) (3.0.4)\n",
            "Requirement already satisfied: certifi>=2017.4.17 in /usr/local/lib/python3.7/dist-packages (from requests<3,>=2.21.0->tensorboard->detectron2) (2020.12.5)\n",
            "Requirement already satisfied: rsa<5,>=3.1.4; python_version >= \"3.6\" in /usr/local/lib/python3.7/dist-packages (from google-auth<2,>=1.6.3->tensorboard->detectron2) (4.7.2)\n",
            "Requirement already satisfied: cachetools<5.0,>=2.0.0 in /usr/local/lib/python3.7/dist-packages (from google-auth<2,>=1.6.3->tensorboard->detectron2) (4.2.1)\n",
            "Requirement already satisfied: pyasn1-modules>=0.2.1 in /usr/local/lib/python3.7/dist-packages (from google-auth<2,>=1.6.3->tensorboard->detectron2) (0.2.8)\n",
            "Requirement already satisfied: requests-oauthlib>=0.7.0 in /usr/local/lib/python3.7/dist-packages (from google-auth-oauthlib<0.5,>=0.4.1->tensorboard->detectron2) (1.3.0)\n",
            "Requirement already satisfied: importlib-metadata; python_version < \"3.8\" in /usr/local/lib/python3.7/dist-packages (from markdown>=2.6.8->tensorboard->detectron2) (3.7.2)\n",
            "Requirement already satisfied: pyasn1>=0.1.3 in /usr/local/lib/python3.7/dist-packages (from rsa<5,>=3.1.4; python_version >= \"3.6\"->google-auth<2,>=1.6.3->tensorboard->detectron2) (0.4.8)\n",
            "Requirement already satisfied: oauthlib>=3.0.0 in /usr/local/lib/python3.7/dist-packages (from requests-oauthlib>=0.7.0->google-auth-oauthlib<0.5,>=0.4.1->tensorboard->detectron2) (3.1.0)\n",
            "Requirement already satisfied: zipp>=0.5 in /usr/local/lib/python3.7/dist-packages (from importlib-metadata; python_version < \"3.8\"->markdown>=2.6.8->tensorboard->detectron2) (3.4.1)\n",
            "Requirement already satisfied: typing-extensions>=3.6.4; python_version < \"3.8\" in /usr/local/lib/python3.7/dist-packages (from importlib-metadata; python_version < \"3.8\"->markdown>=2.6.8->tensorboard->detectron2) (3.7.4.3)\n",
            "Requirement already satisfied: pyyaml==5.1 in /usr/local/lib/python3.7/dist-packages (5.1)\n"
          ],
          "name": "stdout"
        }
      ]
    },
    {
      "cell_type": "code",
      "metadata": {
        "colab": {
          "base_uri": "https://localhost:8080/"
        },
        "id": "5wNjZoiQN4Qy",
        "outputId": "c24473fe-05ee-4541-e21a-e745d506870d"
      },
      "source": [
        "!pip install torch==1.7.1 torchvision==0.8.2\n"
      ],
      "execution_count": null,
      "outputs": [
        {
          "output_type": "stream",
          "text": [
            "Collecting torch==1.7.1\n",
            "\u001b[?25l  Downloading https://files.pythonhosted.org/packages/90/5d/095ddddc91c8a769a68c791c019c5793f9c4456a688ddd235d6670924ecb/torch-1.7.1-cp37-cp37m-manylinux1_x86_64.whl (776.8MB)\n",
            "\u001b[K     |████████████████████████████████| 776.8MB 23kB/s \n",
            "\u001b[?25hCollecting torchvision==0.8.2\n",
            "\u001b[?25l  Downloading https://files.pythonhosted.org/packages/94/df/969e69a94cff1c8911acb0688117f95e1915becc1e01c73e7960a2c76ec8/torchvision-0.8.2-cp37-cp37m-manylinux1_x86_64.whl (12.8MB)\n",
            "\u001b[K     |████████████████████████████████| 12.8MB 242kB/s \n",
            "\u001b[?25hRequirement already satisfied: typing-extensions in /usr/local/lib/python3.7/dist-packages (from torch==1.7.1) (3.7.4.3)\n",
            "Requirement already satisfied: numpy in /usr/local/lib/python3.7/dist-packages (from torch==1.7.1) (1.19.5)\n",
            "Requirement already satisfied: pillow>=4.1.1 in /usr/local/lib/python3.7/dist-packages (from torchvision==0.8.2) (8.1.2)\n",
            "\u001b[31mERROR: torchtext 0.9.0 has requirement torch==1.8.0, but you'll have torch 1.7.1 which is incompatible.\u001b[0m\n",
            "Installing collected packages: torch, torchvision\n",
            "  Found existing installation: torch 1.8.0+cu101\n",
            "    Uninstalling torch-1.8.0+cu101:\n",
            "      Successfully uninstalled torch-1.8.0+cu101\n",
            "  Found existing installation: torchvision 0.9.0+cu101\n",
            "    Uninstalling torchvision-0.9.0+cu101:\n",
            "      Successfully uninstalled torchvision-0.9.0+cu101\n",
            "Successfully installed torch-1.7.1 torchvision-0.8.2\n"
          ],
          "name": "stdout"
        }
      ]
    },
    {
      "cell_type": "code",
      "metadata": {
        "id": "RooYH7y2y6HJ"
      },
      "source": [
        "# import torch and utilities\n",
        "import torch, torchvision\n",
        "\n",
        "assert torch.__version__.startswith(\"1.7\")\n",
        "print(torch.__version__, torch.cuda.is_available())\n",
        "\n",
        "# import common Python libraries used in the colab\n",
        "import argparse\n",
        "from labelme import utils\n",
        "import PIL.Image,PIL.ImageDraw\n",
        "import os\n",
        "import time\n",
        "from tqdm.notebook import tqdm\n",
        "import shutil\n",
        "import random\n",
        "import glob\n",
        "import json\n",
        "import numpy as np\n",
        "import pandas as pd\n",
        "import cv2\n",
        "import matplotlib.pyplot as plt\n",
        "from google.colab.patches import cv2_imshow\n",
        "\n",
        "# import some common detectron2 utilities\n",
        "import detectron2\n",
        "\n",
        "from detectron2              import model_zoo\n",
        "from detectron2.utils.logger import setup_logger\n",
        "setup_logger()\n",
        "\n",
        "from detectron2.engine   import DefaultTrainer, DefaultPredictor\n",
        "from detectron2.modeling import build_model\n",
        "\n",
        "from detectron2.structures       import BoxMode\n",
        "from detectron2.config           import get_cfg\n",
        "from detectron2.utils.visualizer import Visualizer, ColorMode\n",
        "from detectron2.data             import DatasetCatalog, MetadataCatalog\n",
        "from detectron2.data.datasets    import register_coco_instances\n",
        "\n",
        "from google.colab import drive\n",
        "\n"
      ],
      "execution_count": null,
      "outputs": []
    },
    {
      "cell_type": "code",
      "metadata": {
        "id": "Dw0OQjZ_5a2f"
      },
      "source": [
        "# connection to drive\n",
        "drive.mount(\"/content/drive/\", force_remount=True)\n",
        "path = \"/content/drive/MyDrive/ESSEC_Google_Drive/CRP_Shared/Algorithms_n_pictures/wrinkles\"\n",
        "#wrinkles_path = path+\"/wrinkles\"\n",
        "os.chdir(path)\n",
        "os.getcwd()"
      ],
      "execution_count": null,
      "outputs": []
    },
    {
      "cell_type": "markdown",
      "metadata": {
        "id": "-rp3a8W_S_II"
      },
      "source": [
        "### Functions"
      ]
    },
    {
      "cell_type": "code",
      "metadata": {
        "id": "3sHt7po-Jrni"
      },
      "source": [
        "def register_datasets(dataset_name,json_file, image_directory):\n",
        "    # register\n",
        "    register_coco_instances(dataset_name, {}, json_file, image_directory)\n",
        "    # dataset\n",
        "    my_dataset = DatasetCatalog.get(dataset_name)\n",
        "    # metadata\n",
        "    my_dataset_metadata = MetadataCatalog.get(dataset_name)\n",
        "\n",
        "    return my_dataset, my_dataset_metadata"
      ],
      "execution_count": null,
      "outputs": []
    },
    {
      "cell_type": "code",
      "metadata": {
        "id": "S1X_LsZ44S69"
      },
      "source": [
        "def get_dicts_data(directory, classes_objects = ['SEAT']):\n",
        "    \"\"\"function to create  a dictionary of  all  the information, to register the dataset\n",
        "        - function is an alternative to labelcoco\n",
        "        - for wrinkles, it detects the different categories\"\"\"\n",
        "    classes = classes_objects\n",
        "    dataset_dicts = []\n",
        "    for filename in [file for file in os.listdir(directory) if file.endswith('.json')]:\n",
        "        json_file = os.path.join(directory, filename)\n",
        "        with open(json_file) as f:\n",
        "            img_anns = json.load(f)\n",
        "\n",
        "        record = {}\n",
        "        \n",
        "        filename = os.path.join(directory, img_anns[\"imagePath\"])\n",
        "        \n",
        "        record[\"file_name\"] = filename\n",
        "        record[\"height\"] = 4024\n",
        "        record[\"width\"] = 3036\n",
        "      \n",
        "        annos = img_anns[\"shapes\"]\n",
        "        objs = []\n",
        "        for anno in annos:\n",
        "            px = [a[0] for a in anno['points']]\n",
        "            py = [a[1] for a in anno['points']]\n",
        "            poly = [(x, y) for x, y in zip(px, py)]\n",
        "            poly = [p for x in poly for p in x]\n",
        "\n",
        "            if anno['label'] in classes:\n",
        "                obj = {\n",
        "                    \"bbox\": [np.min(px), np.min(py), np.max(px), np.max(py)],\n",
        "                    \"bbox_mode\": BoxMode.XYXY_ABS,\n",
        "                    \"segmentation\": [poly],\n",
        "                    \"category_id\": classes.index(anno['label']),\n",
        "                    \"iscrowd\": 0\n",
        "                }\n",
        "                objs.append(obj)\n",
        "            else:\n",
        "              continue\n",
        "        record[\"annotations\"] = objs\n",
        "        dataset_dicts.append(record)\n",
        "    \n",
        "    return dataset_dicts\n",
        "\n"
      ],
      "execution_count": null,
      "outputs": []
    },
    {
      "cell_type": "code",
      "metadata": {
        "id": "r5UxoNgx8RJC"
      },
      "source": [
        "def register_datasets2(dataset_name, \n",
        "                       image_directory, \n",
        "                       classes_objects=['SEAT']):\n",
        "  \n",
        "    # register                    \n",
        "    DatasetCatalog.register(dataset_name, \n",
        "                            lambda image_directory=image_directory: get_dicts_data(image_directory, classes_objects))\n",
        "\n",
        "    # dataset\n",
        "    my_dataset = DatasetCatalog.get(dataset_name)\n",
        "    # metadata\n",
        "    my_dataset_metadata = MetadataCatalog.get(dataset_name).set(thing_classes=classes_objects)\n",
        "\n",
        "    return my_dataset, my_dataset_metadata"
      ],
      "execution_count": null,
      "outputs": []
    },
    {
      "cell_type": "code",
      "metadata": {
        "id": "8PoC2wduEwS-"
      },
      "source": [
        "def check_nbr_categories(dataset):\n",
        "    \"\"\"Prints the number & nature of objects per sample image, for one dataset\"\"\"\n",
        "    for i, instance in enumerate(dataset):\n",
        "        categories = [i[\"category_id\"] for i in instance[\"annotations\"]]\n",
        "        unique_categories = np.unique(categories)\n",
        "        print(f\"{len(unique_categories)} unique classes in instance {i}: {categories}\")"
      ],
      "execution_count": null,
      "outputs": []
    },
    {
      "cell_type": "code",
      "metadata": {
        "id": "b9FIEnk0qPUO"
      },
      "source": [
        "def visualize_annotated_images(dataset,dataset_metadata,index_image=0):\n",
        "    \"\"\"Plots the image and annotations (only the ground-truth)\"\"\"\n",
        "    d = dataset[index_image]\n",
        "    img = cv2.imread(d[\"file_name\"])\n",
        "    v = Visualizer(img[:, :, ::-1], metadata=dataset_metadata , scale=0.5)\n",
        "    v = v.draw_dataset_dict(d)\n",
        "    plt.figure(figsize = (14, 10))\n",
        "    plt.imshow(cv2.cvtColor(v.get_image()[:, :, ::-1], cv2.COLOR_BGR2RGB))\n",
        "    plt.show()"
      ],
      "execution_count": null,
      "outputs": []
    },
    {
      "cell_type": "code",
      "metadata": {
        "id": "RVIbVU3jc2Qh"
      },
      "source": [
        "def polygons_to_mask(img_shape, polygons):\n",
        "    \"\"\"converts annotations to a binary mask (numpy  array)\"\"\"\n",
        "    mask = np.zeros(img_shape, dtype=np.uint8)\n",
        "    mask = PIL.Image.fromarray(mask)\n",
        "    xy = list(map(tuple, polygons))\n",
        "    PIL.ImageDraw.Draw(mask).polygon(xy=xy, outline=1, fill=1)\n",
        "    mask = np.array(mask, dtype=bool)\n",
        "    return mask"
      ],
      "execution_count": null,
      "outputs": []
    },
    {
      "cell_type": "code",
      "metadata": {
        "id": "WxPMzpMQJu8l"
      },
      "source": [
        "def train(train_dataset_name,pretrained_model_name, nbr_classes=1,iterations=300):\n",
        "    cfg = get_cfg()\n",
        "    cfg.merge_from_file(model_zoo.get_config_file(pretrained_model_name))\n",
        "    cfg.DATASETS.TRAIN = (train_dataset_name,)\n",
        "    cfg.DATASETS.TEST = ()\n",
        "    cfg.DATALOADER.NUM_WORKERS = 2\n",
        "    cfg.MODEL.WEIGHTS = model_zoo.get_checkpoint_url(pretrained_model_name)  # Let training initialize from model zoo\n",
        "    cfg.SOLVER.IMS_PER_BATCH = 2\n",
        "    cfg.SOLVER.BASE_LR = 0.00025  \n",
        "    cfg.SOLVER.MAX_ITER = iterations    \n",
        "    cfg.MODEL.ROI_HEADS.BATCH_SIZE_PER_IMAGE = 512   # (default: 512)\n",
        "    cfg.MODEL.ROI_HEADS.NUM_CLASSES = nbr_classes\n",
        "    # NOTE: this config means the number of classes, but a few popular unofficial tutorials incorrect uses num_classes+1 here.\n",
        "\n",
        "    os.makedirs(cfg.OUTPUT_DIR, exist_ok=True)\n",
        "    trainer = DefaultTrainer(cfg) \n",
        "    trainer.resume_or_load(resume=False)\n",
        "    trainer.train()\n",
        "\n",
        "    # Save the config --> used to load a model.pth without having to train again\n",
        "    config_path = cfg.OUTPUT_DIR + \"/config.yml\"\n",
        "    f = open(config_path, 'w')\n",
        "    f.write(cfg.dump())\n",
        "    f.close() \n",
        "    return trainer"
      ],
      "execution_count": null,
      "outputs": []
    },
    {
      "cell_type": "code",
      "metadata": {
        "id": "l-EBAsdjKSV8"
      },
      "source": [
        "def inference(yaml_path, model_name=\"model_final.pth\", threshold=0.5):\n",
        "  \"\"\"This loads the model, and builds a predictor\n",
        "  Inference should use the config with parameters that are used in training\"\"\"\n",
        "\n",
        "  cfg = get_cfg()\n",
        "  cfg.merge_from_file(yaml_path)\n",
        "\n",
        "  cfg.MODEL.WEIGHTS = os.path.join(os.getcwd(),model_name)  # path to the model we just trained\n",
        "  cfg.MODEL.ROI_HEADS.SCORE_THRESH_TEST = threshold   # set a custom testing threshold\n",
        "  predictor = DefaultPredictor(cfg)\n",
        "  return predictor"
      ],
      "execution_count": null,
      "outputs": []
    },
    {
      "cell_type": "code",
      "metadata": {
        "id": "2DP0peNfxYpN"
      },
      "source": [
        "def compute_iou(array1, array2):\n",
        "    intersection = np.logical_and(array1,array2)\n",
        "    union = np.logical_or(array1,array2)\n",
        "    IOU = np.sum(intersection)/np.sum(union)\n",
        "    return IOU"
      ],
      "execution_count": null,
      "outputs": []
    },
    {
      "cell_type": "code",
      "metadata": {
        "id": "vLpiN-miXgyE"
      },
      "source": [
        "def compute_iou_dataset(dataset, predictor):\n",
        "    iou_scores = []\n",
        "    start = time.time()\n",
        "    for d in tqdm(dataset):    \n",
        "        im = cv2.imread(d[\"file_name\"])\n",
        "        outputs = predictor(im)  # format is documented at https://detectron2.readthedocs.io/tutorials/models.html#model-output-format\n",
        "        \n",
        "        # print number of instances\n",
        "        categories = [i[\"category_id\"] for i in d[\"annotations\"]]\n",
        "\n",
        "        # compute iou\n",
        "        annos = d.get(\"annotations\", None) \n",
        "        masks = [x[\"segmentation\"] for x in annos]\n",
        "        pred = outputs['instances'].get_fields()['pred_masks']\n",
        "\n",
        "        for i,obj in enumerate(categories):\n",
        "          # mask of the ground truth\n",
        "          mask = np.array(masks[i])\n",
        "          mask = mask.reshape(int(mask.shape[1]/2),2)\n",
        "          mask = polygons_to_mask(im.shape,mask)\n",
        "\n",
        "          if i < pred.shape[0]:\n",
        "              # mask of prediction\n",
        "              pred_i = pred[i,:,:].cpu().numpy()\n",
        "              pred_i = np.where(pred_i==False,0,255)\n",
        "\n",
        "              # iou calculation and print\n",
        "              iou = compute_iou(mask[:,:,0], pred_i)\n",
        "              iou_scores.append(iou)\n",
        "\n",
        "          else:\n",
        "              iou_scores.append(0.0)\n",
        "    \n",
        "    end = time.time()\n",
        "    print(f\"Average inference time per sample: {(end-start)/len(dataset):.2f}\")\n",
        "    print(f\"Average IOU: {np.mean(iou_scores):.2f}\")\n",
        "    \n"
      ],
      "execution_count": null,
      "outputs": []
    },
    {
      "cell_type": "code",
      "metadata": {
        "id": "hGNkfGDkSp2Z"
      },
      "source": [
        "def compute_positives_negatives(dataset, predictor):\n",
        "    iou_scores = []\n",
        "    start = time.time()\n",
        "\n",
        "\n",
        "    TP = 0\n",
        "    FP = 0\n",
        "    TN = 0\n",
        "    FN = 0\n",
        "\n",
        "    start = time.time()\n",
        "    for d in tqdm(dataset):\n",
        "        iou_image = []    \n",
        "        im = cv2.imread(d[\"file_name\"])\n",
        "        outputs = predictor(im)  # format is documented at https://detectron2.readthedocs.io/tutorials/models.html#model-output-format\n",
        "        \n",
        "        # print number of instances\n",
        "        categories = [i[\"category_id\"] for i in d[\"annotations\"]]\n",
        "\n",
        "        # compute iou\n",
        "        annos = d.get(\"annotations\", None) \n",
        "        masks = [x[\"segmentation\"] for x in annos]\n",
        "        pred = outputs['instances'].get_fields()['pred_masks']\n",
        "        if (len(pred) and len(categories)) == 1:\n",
        "            TN +=1\n",
        "        else:\n",
        "          for i,obj in enumerate(categories):\n",
        "              # mask of the ground truth\n",
        "              mask = np.array(masks[i])\n",
        "              mask = mask.reshape(int(mask.shape[1]/2),2)\n",
        "              mask = polygons_to_mask(im.shape,mask)\n",
        "\n",
        "              if i < pred.shape[0]:\n",
        "                  # mask of prediction\n",
        "                  pred_i = pred[i,:,:].cpu().numpy()\n",
        "                  pred_i = np.where(pred_i==False,0,255)\n",
        "\n",
        "                  # iou calculation and print\n",
        "                  iou = compute_iou(mask[:,:,0], pred_i)\n",
        "                  if iou > 0.0:\n",
        "                      TP += 1\n",
        "                  else:\n",
        "                      FP +=1\n",
        "\n",
        "              else:\n",
        "                  FN += 1\n",
        "\n",
        "    end = time.time()\n",
        "    avg_duration = (end-start)/len(dataset)\n",
        "\n",
        "    results = {\"TP\":TP, \"FP\":FP, \"TN\":TN, \"FN\":FN}\n",
        "\n",
        "    return results, avg_duration\n",
        "   \n"
      ],
      "execution_count": null,
      "outputs": []
    },
    {
      "cell_type": "markdown",
      "metadata": {
        "id": "qemXyTOTSzQF"
      },
      "source": [
        "**Explanation of the previous function, compute_positives_negatives()**\n",
        "\n",
        "IOU > 0.0 \n",
        "* TP: actual wrinkle detected\n",
        "\n",
        "IOU = -1.0\n",
        "* FN: actual wrinkle NOT detected\n",
        "\n",
        "IOU = 0.0\n",
        "* FP: false wrinkle detected\n",
        "\n",
        "No Wrinkles in the image\n",
        "* TN: No wrinkle predicted"
      ]
    },
    {
      "cell_type": "code",
      "metadata": {
        "id": "7k89_Wdk16rb"
      },
      "source": [
        "def build_confusion_matrix(dict_positives_negatives):\n",
        "    df1 = pd.DataFrame({\"Predicted Positive\":[dict_positives_negatives.get(\"TP\"),dict_positives_negatives.get(\"FP\")]})\n",
        "    df2 = pd.DataFrame({\"Predicted Negative\":[dict_positives_negatives.get(\"FN\"),dict_positives_negatives.get(\"TN\")]})\n",
        "    df = pd.concat([df1,df2], axis=1)\n",
        "    df = df.rename(index={0:\"Actual Positive\", 1:\"Actual negative\"})\n",
        "\n",
        "    return df"
      ],
      "execution_count": null,
      "outputs": []
    },
    {
      "cell_type": "code",
      "metadata": {
        "id": "NvhtXLUuiQUh"
      },
      "source": [
        "def compute_precision_recall(positives_negatives_dict, avg_time=None):\n",
        "    \"\"\"takes as input the dictionary output of the function \"compute_positives_negatives()\"\"\"\n",
        "    TP = positives_negatives_dict.get(\"TP\")\n",
        "    FP = positives_negatives_dict.get(\"FP\")\n",
        "    TN = positives_negatives_dict.get(\"TN\")\n",
        "    FN = positives_negatives_dict.get(\"FN\")\n",
        "\n",
        "    precision = TP/(TP + FP)\n",
        "    recall = TP / (TP + FN)\n",
        "    f1 = 2*(precision*recall)/(precision+recall)\n",
        "    #F1  = 2*(precision + recall)/(precision*recall)\n",
        "    print(f\"precision: {precision:.3f}\")\n",
        "    print(f\"recall: {recall:.3f}\")\n",
        "    print(f\"f1 score: {f1:.3f}\")\n",
        "    print(f\"mean inference time: {avg_time}\")\n",
        "    "
      ],
      "execution_count": null,
      "outputs": []
    },
    {
      "cell_type": "markdown",
      "metadata": {
        "id": "usTSoQJWiA_I"
      },
      "source": [
        "**evaluate_and_display()**: Visualization function working for carseats"
      ]
    },
    {
      "cell_type": "code",
      "metadata": {
        "id": "0Jl4lzemLFIa"
      },
      "source": [
        "def evaluate_and_display(dataset,dataset_metadata,predictor, nbr_images=1):\n",
        "  for i,d in enumerate(random.sample(dataset, nbr_images)):  \n",
        "      # read & predict\n",
        "      im = cv2.imread(d[\"file_name\"])\n",
        "      outputs = predictor(im)  # format is documented at https://detectron2.readthedocs.io/tutorials/models.html#model-output-format\n",
        "      pred = outputs['instances'].get_fields()['pred_masks']\n",
        "      pred = pred.reshape(pred.shape[1],pred.shape[2]).cpu().numpy()\n",
        "      pred = pred.astype(int)\n",
        "      \n",
        "      # creating mask array\n",
        "      annos = d.get(\"annotations\", None)\n",
        "      if annos:\n",
        "        if \"segmentation\" in annos[0]:\n",
        "            masks = [x[\"segmentation\"] for x in annos]\n",
        "        else:\n",
        "            masks = None\n",
        "      masks = np.array(masks)\n",
        "      masks = masks.reshape(int(masks.shape[2]/2),2)\n",
        "      mask = polygons_to_mask(im.shape,masks)\n",
        "      \n",
        "      # iou\n",
        "      ground_truth = mask[:,:,0].astype(int)\n",
        "      intersection = np.logical_and(pred,ground_truth)\n",
        "      union = np.logical_or(pred,ground_truth)\n",
        "      IOU = np.sum(intersection)/np.sum(union)\n",
        "      \n",
        "      # visualize\n",
        "      v = Visualizer(im[:, :, ::-1],\n",
        "                    metadata=dataset_metadata, \n",
        "                    scale=0.5, \n",
        "                    instance_mode=ColorMode.IMAGE_BW   # remove the colors of unsegmented pixels. This option is only available for segmentation models\n",
        "      )\n",
        "      message = \"Intersection Over Union : \"+str(np.around(IOU*100,decimals = 2))+\"%\"\n",
        "      v.draw_text(message,(500,50),color=\"red\")\n",
        "      out = v.draw_instance_predictions(outputs[\"instances\"].to(\"cpu\"))\n",
        "      print(\"Test Image : \",i+1)\n",
        "      cv2_imshow(out.get_image()[:, :, ::-1])"
      ],
      "execution_count": null,
      "outputs": []
    },
    {
      "cell_type": "markdown",
      "metadata": {
        "id": "VF6J23ibiFBO"
      },
      "source": [
        "**visualize_predicted_images()**: Visualization function working for carseats **&** wrinkles"
      ]
    },
    {
      "cell_type": "code",
      "metadata": {
        "id": "_UYzOjN8zIQ1"
      },
      "source": [
        "def visualize_predicted_images(dataset, dataset_metadata, predictor, \n",
        "                               index_image=None,nbr_images=1):\n",
        "    # Plots the predicted mask & computes the IOU (also works with wrinkles)\n",
        "           \n",
        "    # Initialize the visualizer\n",
        "    d = dataset[index_image]\n",
        "    im = cv2.imread(d[\"file_name\"])\n",
        "\n",
        "    v = Visualizer(im[:, :, ::-1],\n",
        "                  metadata=dataset_metadata, \n",
        "                  scale=0.2, \n",
        "                  instance_mode=ColorMode.IMAGE_BW   # remove the colors of unsegmented pixels. This option is only available for segmentation models\n",
        "    )\n",
        "\n",
        "    # computation\n",
        "    if index_image is None:\n",
        "      for d in random.sample(dataset, nbr_images):    \n",
        "          outputs = predictor(im)  # format is documented at https://detectron2.readthedocs.io/tutorials/models.html#model-output-format\n",
        "          \n",
        "          # print number of instances\n",
        "          categories = [i[\"category_id\"] for i in d[\"annotations\"]]\n",
        "          print(f\"{len(categories)-1} wrinkles to detect in this image\")\n",
        "\n",
        "          # plot\n",
        "          v = Visualizer(im[:, :, ::-1],\n",
        "                        metadata=dataset_metadata, \n",
        "                        scale=0.2, \n",
        "                        instance_mode=ColorMode.IMAGE_BW   # remove the colors of unsegmented pixels. This option is only available for segmentation models\n",
        "          )\n",
        "          out = v.draw_instance_predictions(outputs[\"instances\"].to(\"cpu\"))\n",
        "          \n",
        "          cv2_imshow(out.get_image()[:, :, ::-1])\n",
        "    else:\n",
        "      outputs = predictor(im)  # format is documented at https://detectron2.readthedocs.io/tutorials/models.html#model-output-format\n",
        "      \n",
        "      # print number of instances\n",
        "      categories = [i[\"category_id\"] for i in d[\"annotations\"]]\n",
        "      print(f\"{len(categories)-1} wrinkles to detect in this image\")\n",
        "\n",
        "      # compute iou\n",
        "      annos = d.get(\"annotations\", None) \n",
        "      masks = [x[\"segmentation\"] for x in annos]\n",
        "      pred = outputs['instances'].get_fields()['pred_masks']\n",
        "\n",
        "      for i,obj in enumerate(categories):\n",
        "        # mask of the ground truth\n",
        "        mask = np.array(masks[i])\n",
        "        mask = mask.reshape(int(mask.shape[1]/2),2)\n",
        "        mask = polygons_to_mask(im.shape,mask)\n",
        "\n",
        "        if i < pred.shape[0]:\n",
        "            # mask of prediction\n",
        "            pred_i = pred[i,:,:].cpu().numpy()\n",
        "            pred_i = np.where(pred_i==False,0,255)\n",
        "\n",
        "            # iou calculation and print\n",
        "            iou = compute_iou(mask[:,:,0], pred_i)\n",
        "            print(f\" - Object {i+1}: IOU = {iou:.2f}\")\n",
        "            message = f\" - Object {i+1}: IOU = {iou:.2f}\"\n",
        "            v.draw_text(message,(500,50+i*50),color=\"white\")\n",
        "\n",
        "        else:\n",
        "            print(f\" - Wrinkle {i+1} not detected.\")\n",
        "\n",
        "      \n",
        "      # plot\n",
        "      out = v.draw_instance_predictions(outputs[\"instances\"].to(\"cpu\"))\n",
        "      cv2_imshow(out.get_image()[:, :, ::-1])\n",
        "\n"
      ],
      "execution_count": null,
      "outputs": []
    },
    {
      "cell_type": "markdown",
      "metadata": {
        "id": "TxIM005rmQjD"
      },
      "source": [
        "### Environment Variables"
      ]
    },
    {
      "cell_type": "code",
      "metadata": {
        "id": "MDUh_gLlnY-M"
      },
      "source": [
        "#  dataset 1: only seats \n",
        "train_dataset_name = \"my_dataset_train\"\n",
        "test_dataset_name = \"my_dataset_test\"\n",
        "train_coco_filename = \"results/train.json\"\n",
        "test_coco_filename = \"results/test.json\"\n",
        "\n",
        "# dataset 2: seats + wrinkles\n",
        "train_dataset_name1 = \"my_dataset_train1\"\n",
        "test_dataset_name1 = \"my_dataset_test1\"\n",
        "train_coco_filename1 = \"results/train1.json\"\n",
        "test_coco_filename1 = \"results/test1.json\"\n",
        "\n",
        "\n",
        "# dataset 3: seats + wrinkles + White Background \n",
        "train_dataset_name2 = \"my_dataset_train2\"\n",
        "test_dataset_name2 = \"my_dataset_test2\"\n",
        "train_coco_filename2 = \"results/train2.json\"\n",
        "test_coco_filename2 = \"results/test2.json\"\n",
        "\n",
        "\n",
        "# models\n",
        "pretrained_model_mask_rcnn = \"COCO-InstanceSegmentation/mask_rcnn_R_50_FPN_3x.yaml\""
      ],
      "execution_count": null,
      "outputs": []
    },
    {
      "cell_type": "markdown",
      "metadata": {
        "id": "TqH2KQEwntpj"
      },
      "source": [
        "## 1 - Segment & Detect Seats\n",
        "\n",
        "Task already done"
      ]
    },
    {
      "cell_type": "markdown",
      "metadata": {
        "id": "x61U8c7G482f"
      },
      "source": [
        "#### 1.1 - Registration"
      ]
    },
    {
      "cell_type": "markdown",
      "metadata": {
        "id": "zQvu2NGSMh1Y"
      },
      "source": [
        "Note 1: 1st registration encounters problems, preferrable to use the second  (\"register 2nd method\")\n",
        "\n",
        "Note 2: For error \"Dataset 'my_dataset_train' is already registered!\", restart the kernel and execute again"
      ]
    },
    {
      "cell_type": "code",
      "metadata": {
        "id": "-XVKj4csnrtk"
      },
      "source": [
        "# Register >> datasets >> metadata\n",
        "train_dataset, train_dataset_metadata = register_datasets(dataset_name = train_dataset_name,\n",
        "                                                          json_file = train_coco_filename,\n",
        "                                                          image_directory = \"train\")\n",
        "\n",
        "test_dataset, test_dataset_metadata = register_datasets(dataset_name = test_dataset_name,\n",
        "                                                        json_file = test_coco_filename,\n",
        "                                                        image_directory = \"test\")"
      ],
      "execution_count": null,
      "outputs": []
    },
    {
      "cell_type": "code",
      "metadata": {
        "id": "yhO64d29q45A"
      },
      "source": [
        "# visualize annotated images\n",
        "visualize_annotated_images(train_dataset,train_dataset_metadata)"
      ],
      "execution_count": null,
      "outputs": []
    },
    {
      "cell_type": "markdown",
      "metadata": {
        "id": "X5rRn6Do5BmZ"
      },
      "source": [
        "#### 1.2 - Training"
      ]
    },
    {
      "cell_type": "code",
      "metadata": {
        "id": "nz463BdtrGTp"
      },
      "source": [
        "# train\n",
        "train(train_dataset_name = train_dataset_name, \n",
        "      pretrained_model_name = pretrained_model_mask_rcnn, \n",
        "      nbr_classes = 1,\n",
        "      iterations = 1000)"
      ],
      "execution_count": null,
      "outputs": []
    },
    {
      "cell_type": "markdown",
      "metadata": {
        "id": "p2vPjQXZ5Fem"
      },
      "source": [
        "#### 1.3 - Inference"
      ]
    },
    {
      "cell_type": "code",
      "metadata": {
        "colab": {
          "base_uri": "https://localhost:8080/"
        },
        "id": "YoxDqa6ZupE1",
        "outputId": "47fc839a-4b4e-4abb-f113-62dde41f68f6"
      },
      "source": [
        "# Build a predictor\n",
        "output_path = \"output_seats/\"\n",
        "yaml_path = output_path + \"config.yml\"\n",
        "model_path = output_path + \"model_final.pth\"\n",
        "\n",
        "my_predictor = inference(yaml_path, \n",
        "                         model_name=model_path, \n",
        "                         threshold=0.5)"
      ],
      "execution_count": null,
      "outputs": [
        {
          "output_type": "stream",
          "text": [
            "[\u001b[1m\u001b[37mINFO   \u001b[0m] \u001b[36mcheckpoint\u001b[0m:\u001b[36mload\u001b[0m:\u001b[36m138\u001b[0m - \u001b[1m\u001b[37mLoading checkpoint from /content/drive/My Drive/ESSEC_Google_Drive/CRP_Shared/Algorithms_n_pictures/wrinkles/output_seats/model_final.pth\u001b[0m\n"
          ],
          "name": "stderr"
        }
      ]
    },
    {
      "cell_type": "code",
      "metadata": {
        "id": "isuupQXwzcaQ"
      },
      "source": [
        "# Visualize the predictions on train\n",
        "visualize_predicted_images(dataset = train_dataset, \n",
        "                           dataset_metadata = train_dataset_metadata, \n",
        "                           predictor = my_predictor)\n"
      ],
      "execution_count": null,
      "outputs": []
    },
    {
      "cell_type": "code",
      "metadata": {
        "id": "gHD4ULeO2msV"
      },
      "source": [
        "# visualize & evaluate on test_set\n",
        "evaluate_and_display(train_dataset,train_dataset_metadata,my_predictor)\n"
      ],
      "execution_count": null,
      "outputs": []
    },
    {
      "cell_type": "markdown",
      "metadata": {
        "id": "nxW6LagPu6pb"
      },
      "source": [
        "## 2 - WRINKLES 1: segment & detect wrinkles "
      ]
    },
    {
      "cell_type": "markdown",
      "metadata": {
        "id": "KLGojE6V5PrE"
      },
      "source": [
        "#### 2.1 - Registration"
      ]
    },
    {
      "cell_type": "markdown",
      "metadata": {
        "id": "DdjwiAX37TcS"
      },
      "source": [
        "1st method to register a dataset with only \"SEAT\" and \"WRINKLE\"\n",
        "\n",
        "To register a dataset with different types of wrinkles, use the second method (next cell)"
      ]
    },
    {
      "cell_type": "code",
      "metadata": {
        "id": "3ExAVc0uvGo7"
      },
      "source": [
        "# # Register 1st method >> datasets >> metadata\n",
        "# train_dataset1, train_dataset_metadata1 = register_datasets(dataset_name = train_dataset_name1,\n",
        "#                                                           json_file = train_coco_filename1,\n",
        "#                                                           image_directory = \"train1\")\n",
        "\n",
        "# test_dataset1, test_dataset_metadata1 = register_datasets(dataset_name = test_dataset_name1,\n",
        "#                                                           json_file = test_coco_filename1,\n",
        "#                                                           image_directory = \"test1\")"
      ],
      "execution_count": null,
      "outputs": []
    },
    {
      "cell_type": "code",
      "metadata": {
        "id": "wymPyuJcIRwI"
      },
      "source": [
        "# # register 2nd method >> datasets >> metadata\n",
        "objects_list= ['SEAT', 'WRINKLE_1', 'WRINKLE_2', 'WRINKLE_3']\n",
        "#objects_list= ['WRINKLE_1', 'WRINKLE_2', 'WRINKLE_3']\n",
        "\n",
        "\n",
        "train_dataset1, train_dataset_metadata1 = register_datasets2(dataset_name = train_dataset_name1, \n",
        "                                                             image_directory=\"train1\", \n",
        "                                                             classes_objects=objects_list)\n",
        "  \n",
        "test_dataset1, test_dataset_metadata1 = register_datasets2(dataset_name = test_dataset_name1, \n",
        "                                                           image_directory=\"test1\", \n",
        "                                                           classes_objects=objects_list)\n",
        "  "
      ],
      "execution_count": null,
      "outputs": []
    },
    {
      "cell_type": "code",
      "metadata": {
        "colab": {
          "base_uri": "https://localhost:8080/"
        },
        "id": "uQ_xvhVoEEAL",
        "outputId": "89b54a11-79d1-45d9-f535-9bb7acecd7a9"
      },
      "source": [
        "# check if the algorithm recognized that there were different wrinkles\n",
        "check_nbr_categories(test_dataset1)"
      ],
      "execution_count": null,
      "outputs": [
        {
          "output_type": "stream",
          "text": [
            "2 unique classes in instance 0: [0, 1]\n",
            "3 unique classes in instance 1: [0, 1, 2]\n",
            "3 unique classes in instance 2: [0, 1, 2, 1, 1]\n",
            "3 unique classes in instance 3: [0, 1, 1, 2, 2, 1]\n",
            "2 unique classes in instance 4: [0, 1, 1, 1]\n",
            "3 unique classes in instance 5: [0, 2, 1, 1, 1]\n"
          ],
          "name": "stdout"
        }
      ]
    },
    {
      "cell_type": "code",
      "metadata": {
        "id": "vOIxWurC5a5m"
      },
      "source": [
        "# visualize annotated images\n",
        "visualize_annotated_images(train_dataset1,train_dataset_metadata1)"
      ],
      "execution_count": null,
      "outputs": []
    },
    {
      "cell_type": "markdown",
      "metadata": {
        "id": "ieiX2Mhp6Y-Q"
      },
      "source": [
        "#### 2.2 - Training"
      ]
    },
    {
      "cell_type": "code",
      "metadata": {
        "id": "DzlOIdM25a8W"
      },
      "source": [
        "# train\n",
        "train(train_dataset_name = train_dataset_name1, \n",
        "      pretrained_model_name = pretrained_model_mask_rcnn, \n",
        "      nbr_classes = 3,\n",
        "      iterations = 1000)"
      ],
      "execution_count": null,
      "outputs": []
    },
    {
      "cell_type": "markdown",
      "metadata": {
        "id": "tuEeFCJc6zBU"
      },
      "source": [
        "#### 2.3 - Inference"
      ]
    },
    {
      "cell_type": "markdown",
      "metadata": {
        "id": "bBtLUpSrrX3T"
      },
      "source": [
        "#####**Results for model trained on 2 instances**:\n",
        "\n",
        "1. SEAT\n",
        "2. WRINKLE"
      ]
    },
    {
      "cell_type": "code",
      "metadata": {
        "colab": {
          "base_uri": "https://localhost:8080/"
        },
        "id": "6Oaq5G6rxgKH",
        "outputId": "4756daea-3d4c-47e2-9047-6176e4988039"
      },
      "source": [
        "# Build a predictor\n",
        "output_path = \"output_wrinkles1/\"\n",
        "yaml_path = output_path + \"config.yml\"\n",
        "model_path = output_path + \"model_final.pth\"\n",
        "\n",
        "my_predictor = inference(yaml_path, \n",
        "                         model_name=model_path, \n",
        "                         threshold=0.5)"
      ],
      "execution_count": null,
      "outputs": [
        {
          "output_type": "stream",
          "text": [
            "[\u001b[1m\u001b[37mINFO   \u001b[0m] \u001b[36mcheckpoint\u001b[0m:\u001b[36mload\u001b[0m:\u001b[36m138\u001b[0m - \u001b[1m\u001b[37mLoading checkpoint from /content/drive/My Drive/ESSEC_Google_Drive/CRP_Shared/Algorithms_n_pictures/wrinkles/output_wrinkles1/model_final.pth\u001b[0m\n"
          ],
          "name": "stderr"
        }
      ]
    },
    {
      "cell_type": "code",
      "metadata": {
        "colab": {
          "base_uri": "https://localhost:8080/",
          "height": 220,
          "referenced_widgets": [
            "1b33d30d6e4047e0ab9b3dd03379fc44",
            "7784286dcb1b426686a1e33616e59929",
            "0cc382934eaf473e9bebaf9046cc06d2",
            "2833240543bf4324b20c20b7dc27797d",
            "ee15cdbfea0e4efb837bc323eb48a0ae",
            "90797a01697e49e3b9479f91cff9b36a",
            "f09b17329690482f8736b0f2276f223f",
            "09c34f16909742aaa47b33f77c2dddcd",
            "e12adaa77c9b4298a2ae51cdb3753a36",
            "e2bfb9ee67804f53b4539e714354d41d",
            "b3503a56b2d54a4f9554cbd07c545ec4",
            "42de8210b868409b8f644eebb68df99c",
            "57ac7994bbd54fefb5a9fac0d4659a97",
            "e5d16ee6077d420b9eacbc9991e0b359",
            "ee8ca767a49f4048a46d55bc067a4521",
            "e0290ab73d5944fca848130f5c0f3b5d"
          ]
        },
        "id": "UQwYmPjZxmeZ",
        "outputId": "f463897d-c50b-4fc6-c168-63217a3c6a55"
      },
      "source": [
        "# inference: Positives & Negatives ...\n",
        "results_train = compute_positives_negatives(train_dataset1, my_predictor)\n",
        "results_test = compute_positives_negatives(test_dataset1, my_predictor)\n"
      ],
      "execution_count": null,
      "outputs": [
        {
          "output_type": "display_data",
          "data": {
            "application/vnd.jupyter.widget-view+json": {
              "model_id": "1b33d30d6e4047e0ab9b3dd03379fc44",
              "version_minor": 0,
              "version_major": 2
            },
            "text/plain": [
              "HBox(children=(FloatProgress(value=0.0, max=24.0), HTML(value='')))"
            ]
          },
          "metadata": {
            "tags": []
          }
        },
        {
          "output_type": "stream",
          "text": [
            "/usr/local/lib/python3.7/dist-packages/detectron2/modeling/roi_heads/fast_rcnn.py:124: UserWarning: This overload of nonzero is deprecated:\n",
            "\tnonzero()\n",
            "Consider using one of the following signatures instead:\n",
            "\tnonzero(*, bool as_tuple) (Triggered internally at  /pytorch/torch/csrc/utils/python_arg_parser.cpp:882.)\n",
            "  filter_inds = filter_mask.nonzero()\n"
          ],
          "name": "stderr"
        },
        {
          "output_type": "stream",
          "text": [
            "\n"
          ],
          "name": "stdout"
        },
        {
          "output_type": "display_data",
          "data": {
            "application/vnd.jupyter.widget-view+json": {
              "model_id": "e12adaa77c9b4298a2ae51cdb3753a36",
              "version_minor": 0,
              "version_major": 2
            },
            "text/plain": [
              "HBox(children=(FloatProgress(value=0.0, max=6.0), HTML(value='')))"
            ]
          },
          "metadata": {
            "tags": []
          }
        },
        {
          "output_type": "stream",
          "text": [
            "\n"
          ],
          "name": "stdout"
        }
      ]
    },
    {
      "cell_type": "code",
      "metadata": {
        "colab": {
          "base_uri": "https://localhost:8080/",
          "height": 324
        },
        "id": "MixIqa8G2qDy",
        "outputId": "41ed7b45-ec4e-44e6-de73-00dbc822a6ae"
      },
      "source": [
        "# building the confusion matrix\n",
        "display(build_confusion_matrix(results_train))\n",
        "display(build_confusion_matrix(results_test))\n",
        "\n",
        "# precision & recall, train\n",
        "print(\"Train set\")\n",
        "compute_precision_recall(results_train)\n",
        "print(\"\\nTest set\")\n",
        "compute_precision_recall(results_test)"
      ],
      "execution_count": null,
      "outputs": [
        {
          "output_type": "display_data",
          "data": {
            "text/html": [
              "<div>\n",
              "<style scoped>\n",
              "    .dataframe tbody tr th:only-of-type {\n",
              "        vertical-align: middle;\n",
              "    }\n",
              "\n",
              "    .dataframe tbody tr th {\n",
              "        vertical-align: top;\n",
              "    }\n",
              "\n",
              "    .dataframe thead th {\n",
              "        text-align: right;\n",
              "    }\n",
              "</style>\n",
              "<table border=\"1\" class=\"dataframe\">\n",
              "  <thead>\n",
              "    <tr style=\"text-align: right;\">\n",
              "      <th></th>\n",
              "      <th>Predicted Positive</th>\n",
              "      <th>Predicted Negative</th>\n",
              "    </tr>\n",
              "  </thead>\n",
              "  <tbody>\n",
              "    <tr>\n",
              "      <th>Actual Positive</th>\n",
              "      <td>41</td>\n",
              "      <td>16</td>\n",
              "    </tr>\n",
              "    <tr>\n",
              "      <th>Actual negative</th>\n",
              "      <td>60</td>\n",
              "      <td>2</td>\n",
              "    </tr>\n",
              "  </tbody>\n",
              "</table>\n",
              "</div>"
            ],
            "text/plain": [
              "                 Predicted Positive  Predicted Negative\n",
              "Actual Positive                  41                  16\n",
              "Actual negative                  60                   2"
            ]
          },
          "metadata": {
            "tags": []
          }
        },
        {
          "output_type": "display_data",
          "data": {
            "text/html": [
              "<div>\n",
              "<style scoped>\n",
              "    .dataframe tbody tr th:only-of-type {\n",
              "        vertical-align: middle;\n",
              "    }\n",
              "\n",
              "    .dataframe tbody tr th {\n",
              "        vertical-align: top;\n",
              "    }\n",
              "\n",
              "    .dataframe thead th {\n",
              "        text-align: right;\n",
              "    }\n",
              "</style>\n",
              "<table border=\"1\" class=\"dataframe\">\n",
              "  <thead>\n",
              "    <tr style=\"text-align: right;\">\n",
              "      <th></th>\n",
              "      <th>Predicted Positive</th>\n",
              "      <th>Predicted Negative</th>\n",
              "    </tr>\n",
              "  </thead>\n",
              "  <tbody>\n",
              "    <tr>\n",
              "      <th>Actual Positive</th>\n",
              "      <td>10</td>\n",
              "      <td>7</td>\n",
              "    </tr>\n",
              "    <tr>\n",
              "      <th>Actual negative</th>\n",
              "      <td>8</td>\n",
              "      <td>0</td>\n",
              "    </tr>\n",
              "  </tbody>\n",
              "</table>\n",
              "</div>"
            ],
            "text/plain": [
              "                 Predicted Positive  Predicted Negative\n",
              "Actual Positive                  10                   7\n",
              "Actual negative                   8                   0"
            ]
          },
          "metadata": {
            "tags": []
          }
        },
        {
          "output_type": "stream",
          "text": [
            "Train set\n",
            "precision: 0.406\n",
            "recall: 0.719\n",
            "\n",
            "Test set\n",
            "precision: 0.556\n",
            "recall: 0.588\n"
          ],
          "name": "stdout"
        }
      ]
    },
    {
      "cell_type": "markdown",
      "metadata": {
        "id": "sToy7yQYxYAS"
      },
      "source": [
        "#####**Results for model trained on set, with 4 instances**:\n",
        "1.  SEAT\n",
        "2.  WRINKLE_1\n",
        "3.  WRINKLE_2\n",
        "4.  WRINKLE_3\n"
      ]
    },
    {
      "cell_type": "code",
      "metadata": {
        "colab": {
          "base_uri": "https://localhost:8080/"
        },
        "id": "QHGePG5Q5bC8",
        "outputId": "d640aff8-ca4e-4e3b-d4ec-08ec7178614a"
      },
      "source": [
        "# Build a predictor\n",
        "output_path = \"output_wrinkles1_differentwrinkles/\"\n",
        "yaml_path = output_path + \"config.yml\"\n",
        "model_path = output_path + \"model_final.pth\"\n",
        "\n",
        "my_predictor = inference(yaml_path, \n",
        "                         model_name=model_path, \n",
        "                         threshold=0.6)"
      ],
      "execution_count": null,
      "outputs": [
        {
          "output_type": "stream",
          "text": [
            "[\u001b[1m\u001b[37mINFO   \u001b[0m] \u001b[36mcheckpoint\u001b[0m:\u001b[36mload\u001b[0m:\u001b[36m138\u001b[0m - \u001b[1m\u001b[37mLoading checkpoint from /content/drive/My Drive/ESSEC_Google_Drive/CRP_Shared/Algorithms_n_pictures/wrinkles/output_wrinkles1_differentwrinkles/model_final.pth\u001b[0m\n"
          ],
          "name": "stderr"
        }
      ]
    },
    {
      "cell_type": "code",
      "metadata": {
        "id": "wc5bk2Jq-1Nx"
      },
      "source": [
        "# Visualize the predictions on test set\n",
        "visualize_predicted_images(dataset = test_dataset1, \n",
        "                           dataset_metadata = test_dataset_metadata1, \n",
        "                           predictor = my_predictor,\n",
        "                           index_image=np.random.randint(len(test_dataset1)-1))"
      ],
      "execution_count": null,
      "outputs": []
    },
    {
      "cell_type": "code",
      "metadata": {
        "colab": {
          "base_uri": "https://localhost:8080/",
          "height": 115,
          "referenced_widgets": [
            "3ca28412e4684f88969daf5adf1d1233",
            "a1dbdfd8b8dc486eaf1b703d5a452135",
            "fc5ec7c82ba847169c4ac9e0b8909bb0",
            "77874aafdbe14a28843f437f501ac0fa",
            "2370012ac5b84d38a7c2bc49c79f1ad3",
            "aa024d6e531941bd806222dd8b1fa382",
            "b31cec729c5545d2991eff445da8f18d",
            "c979a153bf684204bef173b15529568d",
            "9554cb8488db4ba4a800dbb6c262f397",
            "8a6ae6eea3514c90a6b3cbb7bcf50e6b",
            "d032498d56a44ba1b59794ae9ae0461c",
            "00c2e2af06e84039a9ea425a7ef145a8",
            "8024d6418fee43529f50eb97bbd90a5d",
            "d1e2ac52348444ecb6e184f36ceea3e0",
            "4e7ce86aced249c0a46a4832c5400d1b",
            "7b6a077d7df74c2a84dc2232877dbc33"
          ]
        },
        "id": "w96iT5PSP1-V",
        "outputId": "9018350a-a1f4-45ed-de99-0c2f6eb5aac4"
      },
      "source": [
        "# inference: Positives & Negatives ...\n",
        "results_train, avg_time_train = compute_positives_negatives(train_dataset1, my_predictor)\n",
        "results_test,avg_time_test = compute_positives_negatives(test_dataset1, my_predictor)\n"
      ],
      "execution_count": null,
      "outputs": [
        {
          "output_type": "display_data",
          "data": {
            "application/vnd.jupyter.widget-view+json": {
              "model_id": "3ca28412e4684f88969daf5adf1d1233",
              "version_minor": 0,
              "version_major": 2
            },
            "text/plain": [
              "HBox(children=(FloatProgress(value=0.0, max=24.0), HTML(value='')))"
            ]
          },
          "metadata": {
            "tags": []
          }
        },
        {
          "output_type": "stream",
          "text": [
            "\n"
          ],
          "name": "stdout"
        },
        {
          "output_type": "display_data",
          "data": {
            "application/vnd.jupyter.widget-view+json": {
              "model_id": "9554cb8488db4ba4a800dbb6c262f397",
              "version_minor": 0,
              "version_major": 2
            },
            "text/plain": [
              "HBox(children=(FloatProgress(value=0.0, max=6.0), HTML(value='')))"
            ]
          },
          "metadata": {
            "tags": []
          }
        },
        {
          "output_type": "stream",
          "text": [
            "\n"
          ],
          "name": "stdout"
        }
      ]
    },
    {
      "cell_type": "code",
      "metadata": {
        "colab": {
          "base_uri": "https://localhost:8080/",
          "height": 392
        },
        "id": "nJjlgsEMxxSw",
        "outputId": "8cebf113-274c-4d58-a4d4-a6db8cbe5f3f"
      },
      "source": [
        "# building the confusion matrix\n",
        "display(build_confusion_matrix(results_train))\n",
        "display(build_confusion_matrix(results_test))\n",
        "\n",
        "# precision & recall, train\n",
        "print(\"train set\")\n",
        "compute_precision_recall(results_train, avg_time_train)\n",
        "print(\"\\ntest set \")\n",
        "compute_precision_recall(results_test, avg_time_test)"
      ],
      "execution_count": null,
      "outputs": [
        {
          "output_type": "display_data",
          "data": {
            "text/html": [
              "<div>\n",
              "<style scoped>\n",
              "    .dataframe tbody tr th:only-of-type {\n",
              "        vertical-align: middle;\n",
              "    }\n",
              "\n",
              "    .dataframe tbody tr th {\n",
              "        vertical-align: top;\n",
              "    }\n",
              "\n",
              "    .dataframe thead th {\n",
              "        text-align: right;\n",
              "    }\n",
              "</style>\n",
              "<table border=\"1\" class=\"dataframe\">\n",
              "  <thead>\n",
              "    <tr style=\"text-align: right;\">\n",
              "      <th></th>\n",
              "      <th>Predicted Positive</th>\n",
              "      <th>Predicted Negative</th>\n",
              "    </tr>\n",
              "  </thead>\n",
              "  <tbody>\n",
              "    <tr>\n",
              "      <th>Actual Positive</th>\n",
              "      <td>25</td>\n",
              "      <td>89</td>\n",
              "    </tr>\n",
              "    <tr>\n",
              "      <th>Actual negative</th>\n",
              "      <td>3</td>\n",
              "      <td>2</td>\n",
              "    </tr>\n",
              "  </tbody>\n",
              "</table>\n",
              "</div>"
            ],
            "text/plain": [
              "                 Predicted Positive  Predicted Negative\n",
              "Actual Positive                  25                  89\n",
              "Actual negative                   3                   2"
            ]
          },
          "metadata": {
            "tags": []
          }
        },
        {
          "output_type": "display_data",
          "data": {
            "text/html": [
              "<div>\n",
              "<style scoped>\n",
              "    .dataframe tbody tr th:only-of-type {\n",
              "        vertical-align: middle;\n",
              "    }\n",
              "\n",
              "    .dataframe tbody tr th {\n",
              "        vertical-align: top;\n",
              "    }\n",
              "\n",
              "    .dataframe thead th {\n",
              "        text-align: right;\n",
              "    }\n",
              "</style>\n",
              "<table border=\"1\" class=\"dataframe\">\n",
              "  <thead>\n",
              "    <tr style=\"text-align: right;\">\n",
              "      <th></th>\n",
              "      <th>Predicted Positive</th>\n",
              "      <th>Predicted Negative</th>\n",
              "    </tr>\n",
              "  </thead>\n",
              "  <tbody>\n",
              "    <tr>\n",
              "      <th>Actual Positive</th>\n",
              "      <td>6</td>\n",
              "      <td>19</td>\n",
              "    </tr>\n",
              "    <tr>\n",
              "      <th>Actual negative</th>\n",
              "      <td>0</td>\n",
              "      <td>0</td>\n",
              "    </tr>\n",
              "  </tbody>\n",
              "</table>\n",
              "</div>"
            ],
            "text/plain": [
              "                 Predicted Positive  Predicted Negative\n",
              "Actual Positive                   6                  19\n",
              "Actual negative                   0                   0"
            ]
          },
          "metadata": {
            "tags": []
          }
        },
        {
          "output_type": "stream",
          "text": [
            "train set\n",
            "precision: 0.893\n",
            "recall: 0.219\n",
            "f1 score: 0.352\n",
            "mean inference time: 0.7178725302219391\n",
            "\n",
            "test set \n",
            "precision: 1.000\n",
            "recall: 0.240\n",
            "f1 score: 0.387\n",
            "mean inference time: 0.6754646698633829\n"
          ],
          "name": "stdout"
        }
      ]
    },
    {
      "cell_type": "markdown",
      "metadata": {
        "id": "bVEFv13D-AYi"
      },
      "source": [
        "#####**Results for model trained on set, with 3 instances**:\n",
        "1. Wrinkle 1\n",
        "2. Wrinkle 2\n",
        "3. Wrinkle 3\n",
        "\n"
      ]
    },
    {
      "cell_type": "code",
      "metadata": {
        "colab": {
          "base_uri": "https://localhost:8080/"
        },
        "id": "kG992HbI-rbX",
        "outputId": "f0a23351-6e79-4156-eefd-3c10959d6d48"
      },
      "source": [
        "# Build a predictor\n",
        "output_path = \"output_wrinkles1_onlywrinkles/\"\n",
        "yaml_path = output_path + \"config.yml\"\n",
        "model_path = output_path + \"model_final.pth\"\n",
        "\n",
        "my_predictor = inference(yaml_path, \n",
        "                         model_name=model_path, \n",
        "                         threshold=0.2)"
      ],
      "execution_count": null,
      "outputs": [
        {
          "output_type": "stream",
          "text": [
            "[\u001b[1m\u001b[37mINFO   \u001b[0m] \u001b[36mcheckpoint\u001b[0m:\u001b[36mload\u001b[0m:\u001b[36m138\u001b[0m - \u001b[1m\u001b[37mLoading checkpoint from /content/drive/My Drive/ESSEC_Google_Drive/CRP_Shared/Algorithms_n_pictures/wrinkles/output_wrinkles1_onlywrinkles/model_final.pth\u001b[0m\n"
          ],
          "name": "stderr"
        }
      ]
    },
    {
      "cell_type": "code",
      "metadata": {
        "colab": {
          "base_uri": "https://localhost:8080/",
          "height": 115,
          "referenced_widgets": [
            "2fe2d096f6094e908d3d6a48d3f31740",
            "73190ca3c940475993e18e2ee54d1366",
            "4c2493740e194c24bf2c56a4b87272db",
            "3a087610609345d6b5783eb0d4b00e1c",
            "1fc543e0a8764734873ee0418baf838f",
            "92c5e61374944ff69aacb3522dfe6bdc",
            "6025fdf94e1240e3b22379feabd4f9fb",
            "1e738b99e34246219552da88a5011caf",
            "a68c2989a2264489aba3de04e2c706e1",
            "facdf9fe0519408eb7adc706ed160e68",
            "558307fb895b436498f7f04a722dd2b7",
            "dbdcdf0494704c4fa7eaa7724c289ef2",
            "6651854ca8a948b19e82667dcd9355da",
            "189b6470f9054b1a9882667eb7a06d10",
            "e16614a5c15549c3bc32638f50400083",
            "a02e51adab0d457d976687986b2e4db3"
          ]
        },
        "id": "27QdNfS3-62s",
        "outputId": "88353598-6e90-4830-88fe-76f9aa6eabff"
      },
      "source": [
        "# inference: Positives & Negatives ...\n",
        "results_train, avg_time_train = compute_positives_negatives(train_dataset1, my_predictor)\n",
        "results_test, avg_time_test = compute_positives_negatives(test_dataset1, my_predictor)\n"
      ],
      "execution_count": null,
      "outputs": [
        {
          "output_type": "display_data",
          "data": {
            "application/vnd.jupyter.widget-view+json": {
              "model_id": "2fe2d096f6094e908d3d6a48d3f31740",
              "version_minor": 0,
              "version_major": 2
            },
            "text/plain": [
              "HBox(children=(FloatProgress(value=0.0, max=24.0), HTML(value='')))"
            ]
          },
          "metadata": {
            "tags": []
          }
        },
        {
          "output_type": "stream",
          "text": [
            "\n"
          ],
          "name": "stdout"
        },
        {
          "output_type": "display_data",
          "data": {
            "application/vnd.jupyter.widget-view+json": {
              "model_id": "a68c2989a2264489aba3de04e2c706e1",
              "version_minor": 0,
              "version_major": 2
            },
            "text/plain": [
              "HBox(children=(FloatProgress(value=0.0, max=6.0), HTML(value='')))"
            ]
          },
          "metadata": {
            "tags": []
          }
        },
        {
          "output_type": "stream",
          "text": [
            "\n"
          ],
          "name": "stdout"
        }
      ]
    },
    {
      "cell_type": "code",
      "metadata": {
        "colab": {
          "base_uri": "https://localhost:8080/",
          "height": 409
        },
        "id": "DsOb_bO7_f3w",
        "outputId": "065c5223-c030-413d-d7da-39b6997f4dc3"
      },
      "source": [
        "# building the confusion matrix\n",
        "display(build_confusion_matrix(results_train))\n",
        "display(build_confusion_matrix(results_test))\n",
        "\n",
        "# precision & recall, train\n",
        "print(\"\\ntrain set\")\n",
        "compute_precision_recall(results_train, avg_time_train)\n",
        "print(\"\\ntest set \")\n",
        "compute_precision_recall(results_test, avg_time_test)"
      ],
      "execution_count": null,
      "outputs": [
        {
          "output_type": "display_data",
          "data": {
            "text/html": [
              "<div>\n",
              "<style scoped>\n",
              "    .dataframe tbody tr th:only-of-type {\n",
              "        vertical-align: middle;\n",
              "    }\n",
              "\n",
              "    .dataframe tbody tr th {\n",
              "        vertical-align: top;\n",
              "    }\n",
              "\n",
              "    .dataframe thead th {\n",
              "        text-align: right;\n",
              "    }\n",
              "</style>\n",
              "<table border=\"1\" class=\"dataframe\">\n",
              "  <thead>\n",
              "    <tr style=\"text-align: right;\">\n",
              "      <th></th>\n",
              "      <th>Predicted Positive</th>\n",
              "      <th>Predicted Negative</th>\n",
              "    </tr>\n",
              "  </thead>\n",
              "  <tbody>\n",
              "    <tr>\n",
              "      <th>Actual Positive</th>\n",
              "      <td>21</td>\n",
              "      <td>1</td>\n",
              "    </tr>\n",
              "    <tr>\n",
              "      <th>Actual negative</th>\n",
              "      <td>73</td>\n",
              "      <td>0</td>\n",
              "    </tr>\n",
              "  </tbody>\n",
              "</table>\n",
              "</div>"
            ],
            "text/plain": [
              "                 Predicted Positive  Predicted Negative\n",
              "Actual Positive                  21                   1\n",
              "Actual negative                  73                   0"
            ]
          },
          "metadata": {
            "tags": []
          }
        },
        {
          "output_type": "display_data",
          "data": {
            "text/html": [
              "<div>\n",
              "<style scoped>\n",
              "    .dataframe tbody tr th:only-of-type {\n",
              "        vertical-align: middle;\n",
              "    }\n",
              "\n",
              "    .dataframe tbody tr th {\n",
              "        vertical-align: top;\n",
              "    }\n",
              "\n",
              "    .dataframe thead th {\n",
              "        text-align: right;\n",
              "    }\n",
              "</style>\n",
              "<table border=\"1\" class=\"dataframe\">\n",
              "  <thead>\n",
              "    <tr style=\"text-align: right;\">\n",
              "      <th></th>\n",
              "      <th>Predicted Positive</th>\n",
              "      <th>Predicted Negative</th>\n",
              "    </tr>\n",
              "  </thead>\n",
              "  <tbody>\n",
              "    <tr>\n",
              "      <th>Actual Positive</th>\n",
              "      <td>6</td>\n",
              "      <td>0</td>\n",
              "    </tr>\n",
              "    <tr>\n",
              "      <th>Actual negative</th>\n",
              "      <td>12</td>\n",
              "      <td>1</td>\n",
              "    </tr>\n",
              "  </tbody>\n",
              "</table>\n",
              "</div>"
            ],
            "text/plain": [
              "                 Predicted Positive  Predicted Negative\n",
              "Actual Positive                   6                   0\n",
              "Actual negative                  12                   1"
            ]
          },
          "metadata": {
            "tags": []
          }
        },
        {
          "output_type": "stream",
          "text": [
            "\n",
            "train set\n",
            "precision: 0.223\n",
            "recall: 0.955\n",
            "f1 score: 0.362\n",
            "mean inference time: 1.0687576433022816\n",
            "\n",
            "test set \n",
            "precision: 0.333\n",
            "recall: 1.000\n",
            "f1 score: 0.500\n",
            "mean inference time: 0.8968468904495239\n"
          ],
          "name": "stdout"
        }
      ]
    },
    {
      "cell_type": "markdown",
      "metadata": {
        "id": "LnKqwJ7DvCiV"
      },
      "source": [
        "## 3 - WRINKLES 2: segment & detect wrinkles (background whitened)"
      ]
    },
    {
      "cell_type": "markdown",
      "metadata": {
        "id": "LYUZAP-qDSz2"
      },
      "source": [
        "#### 3.1 - Registration\n"
      ]
    },
    {
      "cell_type": "code",
      "metadata": {
        "id": "kLvD8Z3y3Bq0"
      },
      "source": [
        "# list of objects\n",
        "objects_list = ['SEAT', 'WRINKLE_1', 'WRINKLE_2', 'WRINKLE_3']\n"
      ],
      "execution_count": null,
      "outputs": []
    },
    {
      "cell_type": "code",
      "metadata": {
        "id": "0kG8Nem0n0Y8"
      },
      "source": [
        "# register 2nd method >> datasets >> metadata\n",
        "train_dataset2, train_dataset_metadata2 = register_datasets2(dataset_name = train_dataset_name2, \n",
        "                       image_directory=\"train2\", \n",
        "                       classes_objects=objects_list)\n",
        "  \n",
        "test_dataset2, test_dataset_metadata2 = register_datasets2(dataset_name = test_dataset_name2, \n",
        "                       image_directory=\"test2\", \n",
        "                       classes_objects=objects_list)\n",
        "  "
      ],
      "execution_count": null,
      "outputs": []
    },
    {
      "cell_type": "code",
      "metadata": {
        "id": "5UwRwvuHpHkW"
      },
      "source": [
        "check_nbr_categories(train_dataset2)"
      ],
      "execution_count": null,
      "outputs": []
    },
    {
      "cell_type": "code",
      "metadata": {
        "colab": {
          "base_uri": "https://localhost:8080/",
          "height": 595
        },
        "id": "5uoLckcPDkWn",
        "outputId": "1d45f02f-31cd-4afc-cf6c-49b8bbd06d0f"
      },
      "source": [
        "# visualize annotated images\n",
        "visualize_annotated_images(train_dataset2,\n",
        "                           train_dataset_metadata2)"
      ],
      "execution_count": null,
      "outputs": [
        {
          "output_type": "display_data",
          "data": {
            "image/png": "[encoded data removed]",
            "text/plain": [
              "<Figure size 1008x720 with 1 Axes>"
            ]
          },
          "metadata": {
            "tags": [],
            "needs_background": "light"
          }
        }
      ]
    },
    {
      "cell_type": "markdown",
      "metadata": {
        "id": "W223b4FcDY_M"
      },
      "source": [
        "#### 3.2 - Training"
      ]
    },
    {
      "cell_type": "code",
      "metadata": {
        "id": "5A6lIcvADq7O"
      },
      "source": [
        "# train\n",
        "train(train_dataset_name = train_dataset_name2, \n",
        "      pretrained_model_name = pretrained_model_mask_rcnn, \n",
        "      nbr_classes = 3,\n",
        "      iterations = 1000)"
      ],
      "execution_count": null,
      "outputs": []
    },
    {
      "cell_type": "markdown",
      "metadata": {
        "id": "0wN85eIjDZI0"
      },
      "source": [
        "#### 3.3 - Inference"
      ]
    },
    {
      "cell_type": "markdown",
      "metadata": {
        "id": "PVoIlozH0EHD"
      },
      "source": [
        "#####**Model trained on 2 instances**:\n",
        "1. Seat\n",
        "2. Wrinkle"
      ]
    },
    {
      "cell_type": "code",
      "metadata": {
        "colab": {
          "base_uri": "https://localhost:8080/"
        },
        "id": "OUvmdEDDDrfS",
        "outputId": "d317324a-5af2-4e00-bd2a-1179bdd78586"
      },
      "source": [
        "# Build a predictor\n",
        "output_path = \"output_nobackground_wrinkles_1/\"\n",
        "yaml_path = output_path + \"config.yml\"\n",
        "model_path = output_path + \"model_final.pth\"\n",
        "\n",
        "my_predictor = inference(yaml_path, \n",
        "                         model_name=model_path, \n",
        "                         threshold=0.5)"
      ],
      "execution_count": null,
      "outputs": [
        {
          "output_type": "stream",
          "text": [
            "[\u001b[1m\u001b[37mINFO   \u001b[0m] \u001b[36mcheckpoint\u001b[0m:\u001b[36mload\u001b[0m:\u001b[36m138\u001b[0m - \u001b[1m\u001b[37mLoading checkpoint from /content/drive/My Drive/ESSEC_Google_Drive/CRP_Shared/Algorithms_n_pictures/wrinkles/output_nobackground_wrinkles_1/model_final.pth\u001b[0m\n"
          ],
          "name": "stderr"
        }
      ]
    },
    {
      "cell_type": "code",
      "metadata": {
        "id": "NWtFTkyeJu2I"
      },
      "source": [
        "# Visualize the predictions on train\n",
        "visualize_predicted_images(dataset = train_dataset2, \n",
        "                           dataset_metadata = train_dataset_metadata2, \n",
        "                           predictor = my_predictor,\n",
        "                           index_image=0,\n",
        "                           nbr_images=1)\n",
        "# test set\n",
        "for i, image in enumerate(test_dataset2):\n",
        "    visualize_predicted_images(dataset = test_dataset2, \n",
        "                           dataset_metadata = test_dataset_metadata2, \n",
        "                           predictor = my_predictor,\n",
        "                           index_image=i)"
      ],
      "execution_count": null,
      "outputs": []
    },
    {
      "cell_type": "code",
      "metadata": {
        "id": "nwAw3fU8hyBL",
        "colab": {
          "base_uri": "https://localhost:8080/",
          "height": 100,
          "referenced_widgets": [
            "48fcb1ee600e42d0a89fd2c8000e5097",
            "4e703c1d080940f78841529afe11828f",
            "d87140e4289c4defa69b1119d7e77f01",
            "ee9d481b3c4a44289b25c4a60df9a791",
            "d32ffcab727d4a35b736e80d60444c33",
            "733470bd81584ef79c018fcd93236db3",
            "f878cbbdf7ae4b1cbf539a2a89e8d7df",
            "d212cf7eee5d4fe497f69de695222dc4"
          ]
        },
        "outputId": "3bf166ca-f359-43fc-cd07-962060347f0d"
      },
      "source": [
        "compute_iou_dataset(train_dataset2, \n",
        "                    my_predictor)"
      ],
      "execution_count": null,
      "outputs": [
        {
          "output_type": "display_data",
          "data": {
            "application/vnd.jupyter.widget-view+json": {
              "model_id": "48fcb1ee600e42d0a89fd2c8000e5097",
              "version_minor": 0,
              "version_major": 2
            },
            "text/plain": [
              "HBox(children=(FloatProgress(value=0.0, max=24.0), HTML(value='')))"
            ]
          },
          "metadata": {
            "tags": []
          }
        },
        {
          "output_type": "stream",
          "text": [
            "\n",
            "Average inference time per sample: 1.18\n",
            "Average IOU: 0.26\n"
          ],
          "name": "stdout"
        }
      ]
    },
    {
      "cell_type": "code",
      "metadata": {
        "colab": {
          "base_uri": "https://localhost:8080/",
          "height": 100,
          "referenced_widgets": [
            "bfd30de7a728450bab2017d75f657680",
            "79d22f02701145758eebf7850693fd89",
            "d83d7d16734248c8a83cd49ddc82f06d",
            "a9882e5991644ad28e717eac551aebdd",
            "380a8f96641b469abaed8513a071db44",
            "a79a11e9cfda49b7973a4f3b83fe206d",
            "9b4bd5237a0149c486cfb8809da5c7d4",
            "4b4a3d7d136b4ecba362ad4268f5c468"
          ]
        },
        "id": "nSMWC_qwawE4",
        "outputId": "89a34a6b-b363-4ef9-a667-94deb843f98e"
      },
      "source": [
        "compute_iou_dataset(test_dataset2, \n",
        "                    my_predictor)"
      ],
      "execution_count": null,
      "outputs": [
        {
          "output_type": "display_data",
          "data": {
            "application/vnd.jupyter.widget-view+json": {
              "model_id": "bfd30de7a728450bab2017d75f657680",
              "version_minor": 0,
              "version_major": 2
            },
            "text/plain": [
              "HBox(children=(FloatProgress(value=0.0, max=6.0), HTML(value='')))"
            ]
          },
          "metadata": {
            "tags": []
          }
        },
        {
          "output_type": "stream",
          "text": [
            "\n",
            "Average inference time per sample: 1.06\n",
            "Average IOU: 0.27\n"
          ],
          "name": "stdout"
        }
      ]
    },
    {
      "cell_type": "markdown",
      "metadata": {
        "id": "HRLuWj3fi7vR"
      },
      "source": [
        "Computing the precision and recall on the train set"
      ]
    },
    {
      "cell_type": "code",
      "metadata": {
        "colab": {
          "base_uri": "https://localhost:8080/",
          "height": 115,
          "referenced_widgets": [
            "739e471da861438283e5600ecd9fe046",
            "2a796e21f1d5419f9a2c0a4b980adaad",
            "81cfabc43e474d70974b9664a1db7838",
            "a067a54092c14bb7a5f7c7422f47198a",
            "a8a70c8b2a7a4fce91e47d0030a25680",
            "3cbd6f2cb1e24f91b6512e741e01afe0",
            "db0b70e39cb64026a886af4048ac1ef9",
            "af52c6f833d14808a42323fbd99920ff",
            "097356f382094f64a994b2e0ef2624a8",
            "c4d66ecb8e8547c1a532a4269c2fa469",
            "f75dd00a87bc48228d4ceb46cc3c67ce",
            "d7d4e4b1fcc74f52b2573095c8b0b159",
            "1fa23cc196064e9288bcc916d8197bf4",
            "d5d0e3e88e9b4afeb06298485145c29c",
            "2aca832a663f49048e777e69da4fbec9",
            "c0077d4e4eef4328af77202081e6bdf8"
          ]
        },
        "id": "p3w0NxtBfh3a",
        "outputId": "9e1afed0-0f05-48ae-b044-20c972d405cd"
      },
      "source": [
        "# inference: True positives, False positives, ...\n",
        "results_train2 = compute_positives_negatives(train_dataset2, my_predictor)\n",
        "results_test2 = compute_positives_negatives(test_dataset2, my_predictor)"
      ],
      "execution_count": null,
      "outputs": [
        {
          "output_type": "display_data",
          "data": {
            "application/vnd.jupyter.widget-view+json": {
              "model_id": "739e471da861438283e5600ecd9fe046",
              "version_minor": 0,
              "version_major": 2
            },
            "text/plain": [
              "HBox(children=(FloatProgress(value=0.0, max=24.0), HTML(value='')))"
            ]
          },
          "metadata": {
            "tags": []
          }
        },
        {
          "output_type": "stream",
          "text": [
            "\n"
          ],
          "name": "stdout"
        },
        {
          "output_type": "display_data",
          "data": {
            "application/vnd.jupyter.widget-view+json": {
              "model_id": "097356f382094f64a994b2e0ef2624a8",
              "version_minor": 0,
              "version_major": 2
            },
            "text/plain": [
              "HBox(children=(FloatProgress(value=0.0, max=6.0), HTML(value='')))"
            ]
          },
          "metadata": {
            "tags": []
          }
        },
        {
          "output_type": "stream",
          "text": [
            "\n"
          ],
          "name": "stdout"
        }
      ]
    },
    {
      "cell_type": "code",
      "metadata": {
        "colab": {
          "base_uri": "https://localhost:8080/",
          "height": 324
        },
        "id": "ZOKYZSg96RH-",
        "outputId": "2a4e59c9-0770-4fd0-8825-8e25fc1e4dc7"
      },
      "source": [
        "# building the confusion matrix\n",
        "display(build_confusion_matrix(results_train2))\n",
        "display(build_confusion_matrix(results_test2))\n",
        "\n",
        "# precision & recall, train\n",
        "print(\"Train set\")\n",
        "compute_precision_recall(results_train2)\n",
        "print(\"\\nTest set\")\n",
        "compute_precision_recall(results_test2)"
      ],
      "execution_count": null,
      "outputs": [
        {
          "output_type": "display_data",
          "data": {
            "text/html": [
              "<div>\n",
              "<style scoped>\n",
              "    .dataframe tbody tr th:only-of-type {\n",
              "        vertical-align: middle;\n",
              "    }\n",
              "\n",
              "    .dataframe tbody tr th {\n",
              "        vertical-align: top;\n",
              "    }\n",
              "\n",
              "    .dataframe thead th {\n",
              "        text-align: right;\n",
              "    }\n",
              "</style>\n",
              "<table border=\"1\" class=\"dataframe\">\n",
              "  <thead>\n",
              "    <tr style=\"text-align: right;\">\n",
              "      <th></th>\n",
              "      <th>Predicted Positive</th>\n",
              "      <th>Predicted Negative</th>\n",
              "    </tr>\n",
              "  </thead>\n",
              "  <tbody>\n",
              "    <tr>\n",
              "      <th>Actual Positive</th>\n",
              "      <td>39</td>\n",
              "      <td>40</td>\n",
              "    </tr>\n",
              "    <tr>\n",
              "      <th>Actual negative</th>\n",
              "      <td>38</td>\n",
              "      <td>2</td>\n",
              "    </tr>\n",
              "  </tbody>\n",
              "</table>\n",
              "</div>"
            ],
            "text/plain": [
              "                 Predicted Positive  Predicted Negative\n",
              "Actual Positive                  39                  40\n",
              "Actual negative                  38                   2"
            ]
          },
          "metadata": {
            "tags": []
          }
        },
        {
          "output_type": "display_data",
          "data": {
            "text/html": [
              "<div>\n",
              "<style scoped>\n",
              "    .dataframe tbody tr th:only-of-type {\n",
              "        vertical-align: middle;\n",
              "    }\n",
              "\n",
              "    .dataframe tbody tr th {\n",
              "        vertical-align: top;\n",
              "    }\n",
              "\n",
              "    .dataframe thead th {\n",
              "        text-align: right;\n",
              "    }\n",
              "</style>\n",
              "<table border=\"1\" class=\"dataframe\">\n",
              "  <thead>\n",
              "    <tr style=\"text-align: right;\">\n",
              "      <th></th>\n",
              "      <th>Predicted Positive</th>\n",
              "      <th>Predicted Negative</th>\n",
              "    </tr>\n",
              "  </thead>\n",
              "  <tbody>\n",
              "    <tr>\n",
              "      <th>Actual Positive</th>\n",
              "      <td>9</td>\n",
              "      <td>10</td>\n",
              "    </tr>\n",
              "    <tr>\n",
              "      <th>Actual negative</th>\n",
              "      <td>6</td>\n",
              "      <td>0</td>\n",
              "    </tr>\n",
              "  </tbody>\n",
              "</table>\n",
              "</div>"
            ],
            "text/plain": [
              "                 Predicted Positive  Predicted Negative\n",
              "Actual Positive                   9                  10\n",
              "Actual negative                   6                   0"
            ]
          },
          "metadata": {
            "tags": []
          }
        },
        {
          "output_type": "stream",
          "text": [
            "Train set\n",
            "precision: 0.506\n",
            "recall: 0.494\n",
            "\n",
            "Test set\n",
            "precision: 0.600\n",
            "recall: 0.474\n"
          ],
          "name": "stdout"
        }
      ]
    },
    {
      "cell_type": "markdown",
      "metadata": {
        "id": "XpPzq0Ad0Amo"
      },
      "source": [
        "#####**Model trained on 4 instances**:\n",
        "1. Seat\n",
        "2. Wrinkle_1\n",
        "3. Wrinkle_2\n",
        "4. Wrinkle_3\n"
      ]
    },
    {
      "cell_type": "code",
      "metadata": {
        "colab": {
          "base_uri": "https://localhost:8080/"
        },
        "id": "rrFWDo070PQP",
        "outputId": "61b7172b-8275-4a14-bcaf-307522477def"
      },
      "source": [
        "# Build a predictor\n",
        "output_path = \"output_nobackground_differentwrinklescategories/\"\n",
        "yaml_path = output_path + \"config.yml\"\n",
        "model_path = output_path + \"model_final.pth\"\n",
        "\n",
        "my_predictor = inference(yaml_path, \n",
        "                         model_name=model_path, \n",
        "                         threshold=0.6)"
      ],
      "execution_count": null,
      "outputs": [
        {
          "output_type": "stream",
          "text": [
            "[\u001b[1m\u001b[37mINFO   \u001b[0m] \u001b[36mcheckpoint\u001b[0m:\u001b[36mload\u001b[0m:\u001b[36m138\u001b[0m - \u001b[1m\u001b[37mLoading checkpoint from /content/drive/My Drive/ESSEC_Google_Drive/CRP_Shared/Algorithms_n_pictures/wrinkles/output_nobackground_differentwrinklescategories/model_final.pth\u001b[0m\n"
          ],
          "name": "stderr"
        }
      ]
    },
    {
      "cell_type": "code",
      "metadata": {
        "colab": {
          "base_uri": "https://localhost:8080/",
          "height": 115,
          "referenced_widgets": [
            "7588c777fd3d4cc79c15e46846a00e16",
            "a7ff47ab1f3e422196499561f09f69fd",
            "adf03d69748d4a52abbfeae4f029c41c",
            "d59d90690e22471289993e7751b4a85f",
            "9e8d64d07f2a4f6e98c9bc6ddc9dc630",
            "48c79053216c462a8a2a4d902d955eef",
            "e818ab9cbb834804a7412346ba28933f",
            "090f0cd8c7704a4b96ed24ee222d41b5",
            "03b9c9fda7f2488dabe978c6fad180ba",
            "753a718b196c4b43b7c0c311c5b1d2af",
            "8b2de2eb148c46c2a6cd9f805b9d7a13",
            "d0c48b2c54804999b8052580a4aba60f",
            "7f466fb44156458ca24a9330f34776c9",
            "567f8421f48a46329ee2a09a2df4f15e",
            "d472faae948943548382e4cd84148eae",
            "964b092e8c1a43ad9259066ef2f2b504"
          ]
        },
        "id": "7U4AfMPC0gWA",
        "outputId": "e1a8edf3-43b8-439f-85c0-f854c2db03f2"
      },
      "source": [
        "# inference: True positives, False positives, ...\n",
        "results_train2,avg_time_train = compute_positives_negatives(train_dataset2, my_predictor)\n",
        "results_test2,avg_time_test = compute_positives_negatives(test_dataset2, my_predictor)"
      ],
      "execution_count": null,
      "outputs": [
        {
          "output_type": "display_data",
          "data": {
            "application/vnd.jupyter.widget-view+json": {
              "model_id": "7588c777fd3d4cc79c15e46846a00e16",
              "version_minor": 0,
              "version_major": 2
            },
            "text/plain": [
              "HBox(children=(FloatProgress(value=0.0, max=24.0), HTML(value='')))"
            ]
          },
          "metadata": {
            "tags": []
          }
        },
        {
          "output_type": "stream",
          "text": [
            "\n"
          ],
          "name": "stdout"
        },
        {
          "output_type": "display_data",
          "data": {
            "application/vnd.jupyter.widget-view+json": {
              "model_id": "03b9c9fda7f2488dabe978c6fad180ba",
              "version_minor": 0,
              "version_major": 2
            },
            "text/plain": [
              "HBox(children=(FloatProgress(value=0.0, max=6.0), HTML(value='')))"
            ]
          },
          "metadata": {
            "tags": []
          }
        },
        {
          "output_type": "stream",
          "text": [
            "\n"
          ],
          "name": "stdout"
        }
      ]
    },
    {
      "cell_type": "code",
      "metadata": {
        "colab": {
          "base_uri": "https://localhost:8080/",
          "height": 392
        },
        "id": "crL0-bA-8a7_",
        "outputId": "a60c569a-be1e-4158-a317-e4e4b01f14f0"
      },
      "source": [
        "# building the confusion matrix\n",
        "display(build_confusion_matrix(results_train2))\n",
        "display(build_confusion_matrix(results_test2))\n",
        "\n",
        "# precision & recall, train\n",
        "print(\"Train set\")\n",
        "compute_precision_recall(results_train2, avg_time_train)\n",
        "print(\"\\nTest set\")\n",
        "compute_precision_recall(results_test2, avg_time_test)"
      ],
      "execution_count": null,
      "outputs": [
        {
          "output_type": "display_data",
          "data": {
            "text/html": [
              "<div>\n",
              "<style scoped>\n",
              "    .dataframe tbody tr th:only-of-type {\n",
              "        vertical-align: middle;\n",
              "    }\n",
              "\n",
              "    .dataframe tbody tr th {\n",
              "        vertical-align: top;\n",
              "    }\n",
              "\n",
              "    .dataframe thead th {\n",
              "        text-align: right;\n",
              "    }\n",
              "</style>\n",
              "<table border=\"1\" class=\"dataframe\">\n",
              "  <thead>\n",
              "    <tr style=\"text-align: right;\">\n",
              "      <th></th>\n",
              "      <th>Predicted Positive</th>\n",
              "      <th>Predicted Negative</th>\n",
              "    </tr>\n",
              "  </thead>\n",
              "  <tbody>\n",
              "    <tr>\n",
              "      <th>Actual Positive</th>\n",
              "      <td>24</td>\n",
              "      <td>92</td>\n",
              "    </tr>\n",
              "    <tr>\n",
              "      <th>Actual negative</th>\n",
              "      <td>1</td>\n",
              "      <td>2</td>\n",
              "    </tr>\n",
              "  </tbody>\n",
              "</table>\n",
              "</div>"
            ],
            "text/plain": [
              "                 Predicted Positive  Predicted Negative\n",
              "Actual Positive                  24                  92\n",
              "Actual negative                   1                   2"
            ]
          },
          "metadata": {
            "tags": []
          }
        },
        {
          "output_type": "display_data",
          "data": {
            "text/html": [
              "<div>\n",
              "<style scoped>\n",
              "    .dataframe tbody tr th:only-of-type {\n",
              "        vertical-align: middle;\n",
              "    }\n",
              "\n",
              "    .dataframe tbody tr th {\n",
              "        vertical-align: top;\n",
              "    }\n",
              "\n",
              "    .dataframe thead th {\n",
              "        text-align: right;\n",
              "    }\n",
              "</style>\n",
              "<table border=\"1\" class=\"dataframe\">\n",
              "  <thead>\n",
              "    <tr style=\"text-align: right;\">\n",
              "      <th></th>\n",
              "      <th>Predicted Positive</th>\n",
              "      <th>Predicted Negative</th>\n",
              "    </tr>\n",
              "  </thead>\n",
              "  <tbody>\n",
              "    <tr>\n",
              "      <th>Actual Positive</th>\n",
              "      <td>6</td>\n",
              "      <td>19</td>\n",
              "    </tr>\n",
              "    <tr>\n",
              "      <th>Actual negative</th>\n",
              "      <td>0</td>\n",
              "      <td>0</td>\n",
              "    </tr>\n",
              "  </tbody>\n",
              "</table>\n",
              "</div>"
            ],
            "text/plain": [
              "                 Predicted Positive  Predicted Negative\n",
              "Actual Positive                   6                  19\n",
              "Actual negative                   0                   0"
            ]
          },
          "metadata": {
            "tags": []
          }
        },
        {
          "output_type": "stream",
          "text": [
            "Train set\n",
            "precision: 0.960\n",
            "recall: 0.207\n",
            "f1 score: 0.340\n",
            "mean inference time: 0.663681834936142\n",
            "\n",
            "Test set\n",
            "precision: 1.000\n",
            "recall: 0.240\n",
            "f1 score: 0.387\n",
            "mean inference time: 0.6190698146820068\n"
          ],
          "name": "stdout"
        }
      ]
    },
    {
      "cell_type": "markdown",
      "metadata": {
        "id": "8JKc2aa4EZ5w"
      },
      "source": [
        "#####**Model trained on 3 instances**:\n",
        "\n",
        "2. Wrinkle_1\n",
        "3. Wrinkle_2\n",
        "4. Wrinkle_3\n"
      ]
    },
    {
      "cell_type": "code",
      "metadata": {
        "colab": {
          "base_uri": "https://localhost:8080/"
        },
        "id": "yujs1xJoEaHf",
        "outputId": "bfc65a8e-4990-43e8-a9af-7cf801b9ccad"
      },
      "source": [
        "# Build a predictor\n",
        "output_path = \"output_nobackground_onlywrinkles/\"\n",
        "yaml_path = output_path + \"config.yml\"\n",
        "model_path = output_path + \"model_final.pth\"\n",
        "\n",
        "my_predictor = inference(yaml_path, \n",
        "                         model_name=model_path, \n",
        "                         threshold=0.2)"
      ],
      "execution_count": null,
      "outputs": [
        {
          "output_type": "stream",
          "text": [
            "[\u001b[1m\u001b[37mINFO   \u001b[0m] \u001b[36mcheckpoint\u001b[0m:\u001b[36mload\u001b[0m:\u001b[36m138\u001b[0m - \u001b[1m\u001b[37mLoading checkpoint from /content/drive/My Drive/ESSEC_Google_Drive/CRP_Shared/Algorithms_n_pictures/wrinkles/output_nobackground_onlywrinkles/model_final.pth\u001b[0m\n"
          ],
          "name": "stderr"
        }
      ]
    },
    {
      "cell_type": "code",
      "metadata": {
        "colab": {
          "base_uri": "https://localhost:8080/",
          "height": 115,
          "referenced_widgets": [
            "76695e695ce3406781f46965de7b5b7a",
            "a4cdfe7373774768a56a008b2df60bcf",
            "8ea4b9c3047949229136d39653d1a80c",
            "3089a6743a6344839e2e6058735008ac",
            "223aab0d713e47178f04624125e8560b",
            "c0354cdbe46943adba94c7cf5bfc56e0",
            "1dd89ea503f9454b8913c5d3d6d6a100",
            "9266f64e80894218976fee558b8c5fb0",
            "5b30322d9b374aec90d800b441398dc4",
            "3f39434ee167449dad2877d3ba0d7e23",
            "865bb08089c24257a712b50dde610cd3",
            "fc7795aa50c34f85baeeb998fb1bc32a",
            "05d2a99d24084c18b6195c48de843c30",
            "154a1051b8a94cdbb708b5e440d73f42",
            "946c0be6df7e4eb7ba9f6e421529e49c",
            "5162d6107f004ef8a2771eb1dbe27350"
          ]
        },
        "id": "iFdJawbmEaOx",
        "outputId": "96996baf-19b4-4411-dd18-70f41323add3"
      },
      "source": [
        "# inference: True positives, False positives, ...\n",
        "results_train2, avg_time_train = compute_positives_negatives(train_dataset2, my_predictor)\n",
        "results_test2, avg_time_test = compute_positives_negatives(test_dataset2, my_predictor)"
      ],
      "execution_count": null,
      "outputs": [
        {
          "output_type": "display_data",
          "data": {
            "application/vnd.jupyter.widget-view+json": {
              "model_id": "76695e695ce3406781f46965de7b5b7a",
              "version_minor": 0,
              "version_major": 2
            },
            "text/plain": [
              "HBox(children=(FloatProgress(value=0.0, max=24.0), HTML(value='')))"
            ]
          },
          "metadata": {
            "tags": []
          }
        },
        {
          "output_type": "stream",
          "text": [
            "\n"
          ],
          "name": "stdout"
        },
        {
          "output_type": "display_data",
          "data": {
            "application/vnd.jupyter.widget-view+json": {
              "model_id": "5b30322d9b374aec90d800b441398dc4",
              "version_minor": 0,
              "version_major": 2
            },
            "text/plain": [
              "HBox(children=(FloatProgress(value=0.0, max=6.0), HTML(value='')))"
            ]
          },
          "metadata": {
            "tags": []
          }
        },
        {
          "output_type": "stream",
          "text": [
            "\n"
          ],
          "name": "stdout"
        }
      ]
    },
    {
      "cell_type": "code",
      "metadata": {
        "colab": {
          "base_uri": "https://localhost:8080/",
          "height": 409
        },
        "id": "fAX9C9yAGsE-",
        "outputId": "4032fbe3-d23a-4520-e900-433d5bab7e82"
      },
      "source": [
        "# building the confusion matrix\n",
        "display(build_confusion_matrix(results_train2))\n",
        "display(build_confusion_matrix(results_test2))\n",
        "\n",
        "# precision & recall, train\n",
        "print(\"\\nTrain set\")\n",
        "compute_precision_recall(results_train2, avg_time_train)\n",
        "print(\"\\nTest set\")\n",
        "compute_precision_recall(results_test2, avg_time_test)"
      ],
      "execution_count": null,
      "outputs": [
        {
          "output_type": "display_data",
          "data": {
            "text/html": [
              "<div>\n",
              "<style scoped>\n",
              "    .dataframe tbody tr th:only-of-type {\n",
              "        vertical-align: middle;\n",
              "    }\n",
              "\n",
              "    .dataframe tbody tr th {\n",
              "        vertical-align: top;\n",
              "    }\n",
              "\n",
              "    .dataframe thead th {\n",
              "        text-align: right;\n",
              "    }\n",
              "</style>\n",
              "<table border=\"1\" class=\"dataframe\">\n",
              "  <thead>\n",
              "    <tr style=\"text-align: right;\">\n",
              "      <th></th>\n",
              "      <th>Predicted Positive</th>\n",
              "      <th>Predicted Negative</th>\n",
              "    </tr>\n",
              "  </thead>\n",
              "  <tbody>\n",
              "    <tr>\n",
              "      <th>Actual Positive</th>\n",
              "      <td>32</td>\n",
              "      <td>0</td>\n",
              "    </tr>\n",
              "    <tr>\n",
              "      <th>Actual negative</th>\n",
              "      <td>62</td>\n",
              "      <td>1</td>\n",
              "    </tr>\n",
              "  </tbody>\n",
              "</table>\n",
              "</div>"
            ],
            "text/plain": [
              "                 Predicted Positive  Predicted Negative\n",
              "Actual Positive                  32                   0\n",
              "Actual negative                  62                   1"
            ]
          },
          "metadata": {
            "tags": []
          }
        },
        {
          "output_type": "display_data",
          "data": {
            "text/html": [
              "<div>\n",
              "<style scoped>\n",
              "    .dataframe tbody tr th:only-of-type {\n",
              "        vertical-align: middle;\n",
              "    }\n",
              "\n",
              "    .dataframe tbody tr th {\n",
              "        vertical-align: top;\n",
              "    }\n",
              "\n",
              "    .dataframe thead th {\n",
              "        text-align: right;\n",
              "    }\n",
              "</style>\n",
              "<table border=\"1\" class=\"dataframe\">\n",
              "  <thead>\n",
              "    <tr style=\"text-align: right;\">\n",
              "      <th></th>\n",
              "      <th>Predicted Positive</th>\n",
              "      <th>Predicted Negative</th>\n",
              "    </tr>\n",
              "  </thead>\n",
              "  <tbody>\n",
              "    <tr>\n",
              "      <th>Actual Positive</th>\n",
              "      <td>5</td>\n",
              "      <td>6</td>\n",
              "    </tr>\n",
              "    <tr>\n",
              "      <th>Actual negative</th>\n",
              "      <td>7</td>\n",
              "      <td>1</td>\n",
              "    </tr>\n",
              "  </tbody>\n",
              "</table>\n",
              "</div>"
            ],
            "text/plain": [
              "                 Predicted Positive  Predicted Negative\n",
              "Actual Positive                   5                   6\n",
              "Actual negative                   7                   1"
            ]
          },
          "metadata": {
            "tags": []
          }
        },
        {
          "output_type": "stream",
          "text": [
            "\n",
            "Train set\n",
            "precision: 0.340\n",
            "recall: 1.000\n",
            "f1 score: 0.508\n",
            "mean inference time: 0.9934171537558237\n",
            "\n",
            "Test set\n",
            "precision: 0.417\n",
            "recall: 0.455\n",
            "f1 score: 0.435\n",
            "mean inference time: 0.717857837677002\n"
          ],
          "name": "stdout"
        }
      ]
    }
  ]
}